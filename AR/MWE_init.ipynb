{
 "cells": [
  {
   "cell_type": "markdown",
   "metadata": {},
   "source": [
    "### In this notebook we try to test different initial conditions for the optimization algorithms. Be careful : this notebook take a lot of time to run entirely (≈ 30 min)"
   ]
  },
  {
   "cell_type": "code",
   "execution_count": 8,
   "metadata": {},
   "outputs": [
    {
     "data": {
      "text/plain": [
       "MAPE (generic function with 2 methods)"
      ]
     },
     "metadata": {},
     "output_type": "display_data"
    }
   ],
   "source": [
    "cd(@__DIR__)\n",
    "include(\"../utils/utils.jl\")"
   ]
  },
  {
   "cell_type": "markdown",
   "metadata": {},
   "source": [
    "### Initial conditions"
   ]
  },
  {
   "cell_type": "code",
   "execution_count": 9,
   "metadata": {},
   "outputs": [
    {
     "data": {
      "text/plain": [
       "9-element Vector{Float64}:\n",
       "     1.0e-10\n",
       "     1.0e-5\n",
       "     0.1\n",
       "     1.0\n",
       "     5.0\n",
       "    50.0\n",
       "   100.0\n",
       "  1000.0\n",
       " 10000.0"
      ]
     },
     "metadata": {},
     "output_type": "display_data"
    }
   ],
   "source": [
    "Φ_init=[-100,-1,0,1e-5,1,5,10,100,1000]\n",
    "σ_init=[1e-10,1e-5,0.1,1,5,50,100,1000,10000]"
   ]
  },
  {
   "cell_type": "markdown",
   "metadata": {},
   "source": [
    "Making a calendar of 100 years"
   ]
  },
  {
   "cell_type": "code",
   "execution_count": 10,
   "metadata": {},
   "outputs": [
    {
     "data": {
      "text/plain": [
       "36525"
      ]
     },
     "metadata": {},
     "output_type": "display_data"
    }
   ],
   "source": [
    "try \n",
    "    using Dates\n",
    "catch ; \n",
    "    import Pkg\n",
    "    Pkg.add(\"Dates\")\n",
    "    using Dates\n",
    "end\n",
    "k=100\n",
    "DatesRange=collect(Date(1900):Day(1):Date(1900+k))\n",
    "N=length(DatesRange)"
   ]
  },
  {
   "cell_type": "markdown",
   "metadata": {},
   "source": [
    "## Simulating a series following an AR(1) model"
   ]
  },
  {
   "cell_type": "code",
   "execution_count": 11,
   "metadata": {},
   "outputs": [
    {
     "data": {
      "text/plain": [
       "(0.7, 4.0)"
      ]
     },
     "metadata": {},
     "output_type": "display_data"
    }
   ],
   "source": [
    "x0=7.\n",
    "Φ,σ=0.7,4."
   ]
  },
  {
   "cell_type": "markdown",
   "metadata": {},
   "source": [
    "Simulating the series"
   ]
  },
  {
   "cell_type": "code",
   "execution_count": 12,
   "metadata": {},
   "outputs": [
    {
     "data": {
      "text/plain": [
       "36525-element Vector{Float64}:\n",
       "  7.0\n",
       " -0.7823190074480939\n",
       "  0.5870647132724636\n",
       "  6.491947434579019\n",
       "  0.6042852651022028\n",
       " -4.80090942589429\n",
       "  2.9613300363414994\n",
       "  7.108664014642528\n",
       " 14.085565594811808\n",
       "  7.299133790710543\n",
       "  ⋮\n",
       "  3.637946699214281\n",
       "  1.3440343736573401\n",
       "  3.6691469956990863\n",
       "  0.574364733094592\n",
       "  7.007298626327332\n",
       "  6.187947824575876\n",
       "  8.605697421566306\n",
       "  8.1479638422418\n",
       "  6.017144581922489"
      ]
     },
     "metadata": {},
     "output_type": "display_data"
    }
   ],
   "source": [
    "include(\"../utils/Simulation.jl\")\n",
    "x=[x0 ; simulation(x0,Φ,σ,N-1)]"
   ]
  },
  {
   "cell_type": "markdown",
   "metadata": {},
   "source": [
    "# Testing the initial parameters with Nelder-Mead algorithm"
   ]
  },
  {
   "cell_type": "code",
   "execution_count": 13,
   "metadata": {},
   "outputs": [
    {
     "data": {
      "text/html": [
       "<div><div style = \"float: left;\"><span>9×10 DataFrame</span></div><div style = \"clear: both;\"></div></div><div class = \"data-frame\" style = \"overflow-x: scroll;\"><table class = \"data-frame\" style = \"margin-bottom: 6px;\"><thead><tr class = \"header\"><th class = \"rowNumber\" style = \"font-weight: bold; text-align: right;\">Row</th><th style = \"text-align: left;\">σ_init² ↓ | Φ_init →</th><th style = \"text-align: left;\">-100.0</th><th style = \"text-align: left;\">-1.0</th><th style = \"text-align: left;\">0.0</th><th style = \"text-align: left;\">1.0e-5</th><th style = \"text-align: left;\">1.0</th><th style = \"text-align: left;\">5.0</th><th style = \"text-align: left;\">10.0</th><th style = \"text-align: left;\">100.0</th><th style = \"text-align: left;\">1000.0</th></tr><tr class = \"subheader headerLastRow\"><th class = \"rowNumber\" style = \"font-weight: bold; text-align: right;\"></th><th title = \"Float64\" style = \"text-align: left;\">Float64</th><th title = \"Float64\" style = \"text-align: left;\">Float64</th><th title = \"Float64\" style = \"text-align: left;\">Float64</th><th title = \"Float64\" style = \"text-align: left;\">Float64</th><th title = \"Float64\" style = \"text-align: left;\">Float64</th><th title = \"Float64\" style = \"text-align: left;\">Float64</th><th title = \"Float64\" style = \"text-align: left;\">Float64</th><th title = \"Float64\" style = \"text-align: left;\">Float64</th><th title = \"Float64\" style = \"text-align: left;\">Float64</th><th title = \"Float64\" style = \"text-align: left;\">Float64</th></tr></thead><tbody><tr><td class = \"rowNumber\" style = \"font-weight: bold; text-align: right;\">1</td><td style = \"text-align: right;\">1.0e-10</td><td style = \"text-align: right;\">0.70062</td><td style = \"text-align: right;\">0.70062</td><td style = \"text-align: right;\">0.70062</td><td style = \"text-align: right;\">0.70062</td><td style = \"text-align: right;\">0.70062</td><td style = \"text-align: right;\">0.70062</td><td style = \"text-align: right;\">0.70062</td><td style = \"text-align: right;\">0.70062</td><td style = \"text-align: right;\">0.70062</td></tr><tr><td class = \"rowNumber\" style = \"font-weight: bold; text-align: right;\">2</td><td style = \"text-align: right;\">1.0e-5</td><td style = \"text-align: right;\">0.70062</td><td style = \"text-align: right;\">0.70062</td><td style = \"text-align: right;\">0.70062</td><td style = \"text-align: right;\">0.700621</td><td style = \"text-align: right;\">0.70062</td><td style = \"text-align: right;\">0.70062</td><td style = \"text-align: right;\">0.70062</td><td style = \"text-align: right;\">0.70062</td><td style = \"text-align: right;\">0.70062</td></tr><tr><td class = \"rowNumber\" style = \"font-weight: bold; text-align: right;\">3</td><td style = \"text-align: right;\">0.1</td><td style = \"text-align: right;\">0.70062</td><td style = \"text-align: right;\">0.70062</td><td style = \"text-align: right;\">0.70062</td><td style = \"text-align: right;\">0.70062</td><td style = \"text-align: right;\">0.70062</td><td style = \"text-align: right;\">0.70062</td><td style = \"text-align: right;\">0.700621</td><td style = \"text-align: right;\">0.70062</td><td style = \"text-align: right;\">0.70062</td></tr><tr><td class = \"rowNumber\" style = \"font-weight: bold; text-align: right;\">4</td><td style = \"text-align: right;\">1.0</td><td style = \"text-align: right;\">0.70062</td><td style = \"text-align: right;\">0.70062</td><td style = \"text-align: right;\">0.70062</td><td style = \"text-align: right;\">0.70062</td><td style = \"text-align: right;\">0.70062</td><td style = \"text-align: right;\">0.700621</td><td style = \"text-align: right;\">0.70062</td><td style = \"text-align: right;\">0.70062</td><td style = \"text-align: right;\">0.70062</td></tr><tr><td class = \"rowNumber\" style = \"font-weight: bold; text-align: right;\">5</td><td style = \"text-align: right;\">5.0</td><td style = \"text-align: right;\">0.70062</td><td style = \"text-align: right;\">0.70062</td><td style = \"text-align: right;\">0.700621</td><td style = \"text-align: right;\">0.70062</td><td style = \"text-align: right;\">0.70062</td><td style = \"text-align: right;\">0.700621</td><td style = \"text-align: right;\">0.70062</td><td style = \"text-align: right;\">0.70062</td><td style = \"text-align: right;\">0.70062</td></tr><tr><td class = \"rowNumber\" style = \"font-weight: bold; text-align: right;\">6</td><td style = \"text-align: right;\">50.0</td><td style = \"text-align: right;\">0.70062</td><td style = \"text-align: right;\">0.70062</td><td style = \"text-align: right;\">-0.00148471</td><td style = \"text-align: right;\">-0.001475</td><td style = \"text-align: right;\">1.00242</td><td style = \"text-align: right;\">0.92271</td><td style = \"text-align: right;\">-0.260421</td><td style = \"text-align: right;\">0.70062</td><td style = \"text-align: right;\">-0.0652259</td></tr><tr><td class = \"rowNumber\" style = \"font-weight: bold; text-align: right;\">7</td><td style = \"text-align: right;\">100.0</td><td style = \"text-align: right;\">-1.24699e151</td><td style = \"text-align: right;\">2.26143</td><td style = \"text-align: right;\">-0.00648818</td><td style = \"text-align: right;\">-0.00647947</td><td style = \"text-align: right;\">2.99907</td><td style = \"text-align: right;\">2.10621</td><td style = \"text-align: right;\">1.85803</td><td style = \"text-align: right;\">-1.24824e151</td><td style = \"text-align: right;\">1.70116</td></tr><tr><td class = \"rowNumber\" style = \"font-weight: bold; text-align: right;\">8</td><td style = \"text-align: right;\">1000.0</td><td style = \"text-align: right;\">-1.41951e151</td><td style = \"text-align: right;\">-2.91732</td><td style = \"text-align: right;\">0.0295357</td><td style = \"text-align: right;\">0.0295516</td><td style = \"text-align: right;\">3.31741</td><td style = \"text-align: right;\">-0.0795364</td><td style = \"text-align: right;\">1.73058</td><td style = \"text-align: right;\">-56.5993</td><td style = \"text-align: right;\">1.77601</td></tr><tr><td class = \"rowNumber\" style = \"font-weight: bold; text-align: right;\">9</td><td style = \"text-align: right;\">10000.0</td><td style = \"text-align: right;\">45.3612</td><td style = \"text-align: right;\">-2.21945</td><td style = \"text-align: right;\">-0.0100691</td><td style = \"text-align: right;\">-0.0100612</td><td style = \"text-align: right;\">3.52591</td><td style = \"text-align: right;\">17.1484</td><td style = \"text-align: right;\">5.07261</td><td style = \"text-align: right;\">10.9584</td><td style = \"text-align: right;\">1.42312e151</td></tr></tbody></table></div>"
      ],
      "text/latex": [
       "\\begin{tabular}{r|ccccccc}\n",
       "\t& σ\\_init² ↓ | Φ\\_init → & -100.0 & -1.0 & 0.0 & 1.0e-5 & 1.0 & \\\\\n",
       "\t\\hline\n",
       "\t& Float64 & Float64 & Float64 & Float64 & Float64 & Float64 & \\\\\n",
       "\t\\hline\n",
       "\t1 & 1.0e-10 & 0.70062 & 0.70062 & 0.70062 & 0.70062 & 0.70062 & $\\dots$ \\\\\n",
       "\t2 & 1.0e-5 & 0.70062 & 0.70062 & 0.70062 & 0.700621 & 0.70062 & $\\dots$ \\\\\n",
       "\t3 & 0.1 & 0.70062 & 0.70062 & 0.70062 & 0.70062 & 0.70062 & $\\dots$ \\\\\n",
       "\t4 & 1.0 & 0.70062 & 0.70062 & 0.70062 & 0.70062 & 0.70062 & $\\dots$ \\\\\n",
       "\t5 & 5.0 & 0.70062 & 0.70062 & 0.700621 & 0.70062 & 0.70062 & $\\dots$ \\\\\n",
       "\t6 & 50.0 & 0.70062 & 0.70062 & -0.00148471 & -0.001475 & 1.00242 & $\\dots$ \\\\\n",
       "\t7 & 100.0 & -1.24699e151 & 2.26143 & -0.00648818 & -0.00647947 & 2.99907 & $\\dots$ \\\\\n",
       "\t8 & 1000.0 & -1.41951e151 & -2.91732 & 0.0295357 & 0.0295516 & 3.31741 & $\\dots$ \\\\\n",
       "\t9 & 10000.0 & 45.3612 & -2.21945 & -0.0100691 & -0.0100612 & 3.52591 & $\\dots$ \\\\\n",
       "\\end{tabular}\n"
      ],
      "text/plain": [
       "\u001b[1m9×10 DataFrame\u001b[0m\n",
       "\u001b[1m Row \u001b[0m│\u001b[1m σ_init² ↓ | Φ_init → \u001b[0m\u001b[1m -100.0       \u001b[0m\u001b[1m -1.0     \u001b[0m\u001b[1m 0.0         \u001b[0m\u001b[1m 1.0e-5      \u001b[0m\u001b[1m\u001b[0m ⋯\n",
       "     │\u001b[90m Float64              \u001b[0m\u001b[90m Float64      \u001b[0m\u001b[90m Float64  \u001b[0m\u001b[90m Float64     \u001b[0m\u001b[90m Float64     \u001b[0m\u001b[90m\u001b[0m ⋯\n",
       "─────┼──────────────────────────────────────────────────────────────────────────\n",
       "   1 │              1.0e-10   0.70062       0.70062   0.70062      0.70062     ⋯\n",
       "   2 │              1.0e-5    0.70062       0.70062   0.70062      0.700621\n",
       "   3 │              0.1       0.70062       0.70062   0.70062      0.70062\n",
       "   4 │              1.0       0.70062       0.70062   0.70062      0.70062\n",
       "   5 │              5.0       0.70062       0.70062   0.700621     0.70062     ⋯\n",
       "   6 │             50.0       0.70062       0.70062  -0.00148471  -0.001475\n",
       "   7 │            100.0      -1.24699e151   2.26143  -0.00648818  -0.00647947\n",
       "   8 │           1000.0      -1.41951e151  -2.91732   0.0295357    0.0295516\n",
       "   9 │          10000.0      45.3612       -2.21945  -0.0100691   -0.0100612   ⋯\n",
       "\u001b[36m                                                               5 columns omitted\u001b[0m"
      ]
     },
     "metadata": {},
     "output_type": "display_data"
    }
   ],
   "source": [
    "include(\"../utils/Estimation.jl\")\n",
    "GridEstimation(LL_AR_Estimation,x, Φ_init, σ_init)"
   ]
  },
  {
   "cell_type": "markdown",
   "metadata": {},
   "source": [
    "We notice that estimated Φ values change completely for σ_init² ≥ 50"
   ]
  },
  {
   "cell_type": "code",
   "execution_count": 14,
   "metadata": {},
   "outputs": [
    {
     "data": {
      "text/html": [
       "<div><div style = \"float: left;\"><span>9×10 DataFrame</span></div><div style = \"clear: both;\"></div></div><div class = \"data-frame\" style = \"overflow-x: scroll;\"><table class = \"data-frame\" style = \"margin-bottom: 6px;\"><thead><tr class = \"header\"><th class = \"rowNumber\" style = \"font-weight: bold; text-align: right;\">Row</th><th style = \"text-align: left;\">σ_init² ↓ | Φ_init →</th><th style = \"text-align: left;\">-100.0</th><th style = \"text-align: left;\">-1.0</th><th style = \"text-align: left;\">0.0</th><th style = \"text-align: left;\">1.0e-5</th><th style = \"text-align: left;\">1.0</th><th style = \"text-align: left;\">5.0</th><th style = \"text-align: left;\">10.0</th><th style = \"text-align: left;\">100.0</th><th style = \"text-align: left;\">1000.0</th></tr><tr class = \"subheader headerLastRow\"><th class = \"rowNumber\" style = \"font-weight: bold; text-align: right;\"></th><th title = \"Float64\" style = \"text-align: left;\">Float64</th><th title = \"Float64\" style = \"text-align: left;\">Float64</th><th title = \"Float64\" style = \"text-align: left;\">Float64</th><th title = \"Float64\" style = \"text-align: left;\">Float64</th><th title = \"Float64\" style = \"text-align: left;\">Float64</th><th title = \"Float64\" style = \"text-align: left;\">Float64</th><th title = \"Float64\" style = \"text-align: left;\">Float64</th><th title = \"Float64\" style = \"text-align: left;\">Float64</th><th title = \"Float64\" style = \"text-align: left;\">Float64</th><th title = \"Float64\" style = \"text-align: left;\">Float64</th></tr></thead><tbody><tr><td class = \"rowNumber\" style = \"font-weight: bold; text-align: right;\">1</td><td style = \"text-align: right;\">1.0e-10</td><td style = \"text-align: right;\">4.01911</td><td style = \"text-align: right;\">4.01912</td><td style = \"text-align: right;\">4.01911</td><td style = \"text-align: right;\">4.01911</td><td style = \"text-align: right;\">4.01911</td><td style = \"text-align: right;\">4.01911</td><td style = \"text-align: right;\">4.01911</td><td style = \"text-align: right;\">4.01912</td><td style = \"text-align: right;\">4.01911</td></tr><tr><td class = \"rowNumber\" style = \"font-weight: bold; text-align: right;\">2</td><td style = \"text-align: right;\">1.0e-5</td><td style = \"text-align: right;\">4.01911</td><td style = \"text-align: right;\">4.01911</td><td style = \"text-align: right;\">4.01911</td><td style = \"text-align: right;\">4.01911</td><td style = \"text-align: right;\">4.01911</td><td style = \"text-align: right;\">4.01911</td><td style = \"text-align: right;\">4.01911</td><td style = \"text-align: right;\">4.01911</td><td style = \"text-align: right;\">4.01911</td></tr><tr><td class = \"rowNumber\" style = \"font-weight: bold; text-align: right;\">3</td><td style = \"text-align: right;\">0.1</td><td style = \"text-align: right;\">4.01911</td><td style = \"text-align: right;\">4.01911</td><td style = \"text-align: right;\">4.01911</td><td style = \"text-align: right;\">4.01911</td><td style = \"text-align: right;\">4.01911</td><td style = \"text-align: right;\">4.01911</td><td style = \"text-align: right;\">4.01911</td><td style = \"text-align: right;\">4.01911</td><td style = \"text-align: right;\">4.01911</td></tr><tr><td class = \"rowNumber\" style = \"font-weight: bold; text-align: right;\">4</td><td style = \"text-align: right;\">1.0</td><td style = \"text-align: right;\">4.01911</td><td style = \"text-align: right;\">4.01911</td><td style = \"text-align: right;\">4.01911</td><td style = \"text-align: right;\">4.01911</td><td style = \"text-align: right;\">4.01911</td><td style = \"text-align: right;\">4.01911</td><td style = \"text-align: right;\">4.01911</td><td style = \"text-align: right;\">4.01911</td><td style = \"text-align: right;\">4.01911</td></tr><tr><td class = \"rowNumber\" style = \"font-weight: bold; text-align: right;\">5</td><td style = \"text-align: right;\">5.0</td><td style = \"text-align: right;\">4.01911</td><td style = \"text-align: right;\">4.01911</td><td style = \"text-align: right;\">4.01911</td><td style = \"text-align: right;\">4.01911</td><td style = \"text-align: right;\">4.01911</td><td style = \"text-align: right;\">4.01911</td><td style = \"text-align: right;\">4.01911</td><td style = \"text-align: right;\">4.01911</td><td style = \"text-align: right;\">4.01911</td></tr><tr><td class = \"rowNumber\" style = \"font-weight: bold; text-align: right;\">6</td><td style = \"text-align: right;\">50.0</td><td style = \"text-align: right;\">4.01911</td><td style = \"text-align: right;\">4.01912</td><td style = \"text-align: right;\">1.41082e-67</td><td style = \"text-align: right;\">1.41082e-67</td><td style = \"text-align: right;\">2.53725e-62</td><td style = \"text-align: right;\">1.18023e-61</td><td style = \"text-align: right;\">3.27572e-66</td><td style = \"text-align: right;\">4.01911</td><td style = \"text-align: right;\">1.91784e-63</td></tr><tr><td class = \"rowNumber\" style = \"font-weight: bold; text-align: right;\">7</td><td style = \"text-align: right;\">100.0</td><td style = \"text-align: right;\">6.75263e75</td><td style = \"text-align: right;\">1.63075e-61</td><td style = \"text-align: right;\">5.05901e-69</td><td style = \"text-align: right;\">5.05901e-69</td><td style = \"text-align: right;\">1.77568e-68</td><td style = \"text-align: right;\">7.63619e-66</td><td style = \"text-align: right;\">2.4393e-66</td><td style = \"text-align: right;\">5.75462e75</td><td style = \"text-align: right;\">2.5542e-65</td></tr><tr><td class = \"rowNumber\" style = \"font-weight: bold; text-align: right;\">8</td><td style = \"text-align: right;\">1000.0</td><td style = \"text-align: right;\">2.65372e76</td><td style = \"text-align: right;\">4.75802e-68</td><td style = \"text-align: right;\">8.11865e-68</td><td style = \"text-align: right;\">8.11865e-68</td><td style = \"text-align: right;\">4.54997e-67</td><td style = \"text-align: right;\">2.51923e-68</td><td style = \"text-align: right;\">3.22061e-66</td><td style = \"text-align: right;\">5.83513e-64</td><td style = \"text-align: right;\">7.57586e-64</td></tr><tr><td class = \"rowNumber\" style = \"font-weight: bold; text-align: right;\">9</td><td style = \"text-align: right;\">10000.0</td><td style = \"text-align: right;\">3.49503e-66</td><td style = \"text-align: right;\">1.71888e-65</td><td style = \"text-align: right;\">3.25766e-64</td><td style = \"text-align: right;\">3.25766e-64</td><td style = \"text-align: right;\">7.57024e-66</td><td style = \"text-align: right;\">7.57024e-66</td><td style = \"text-align: right;\">2.29561e-63</td><td style = \"text-align: right;\">1.5377e-64</td><td style = \"text-align: right;\">3.46875e76</td></tr></tbody></table></div>"
      ],
      "text/latex": [
       "\\begin{tabular}{r|ccccccc}\n",
       "\t& σ\\_init² ↓ | Φ\\_init → & -100.0 & -1.0 & 0.0 & 1.0e-5 & 1.0 & \\\\\n",
       "\t\\hline\n",
       "\t& Float64 & Float64 & Float64 & Float64 & Float64 & Float64 & \\\\\n",
       "\t\\hline\n",
       "\t1 & 1.0e-10 & 4.01911 & 4.01912 & 4.01911 & 4.01911 & 4.01911 & $\\dots$ \\\\\n",
       "\t2 & 1.0e-5 & 4.01911 & 4.01911 & 4.01911 & 4.01911 & 4.01911 & $\\dots$ \\\\\n",
       "\t3 & 0.1 & 4.01911 & 4.01911 & 4.01911 & 4.01911 & 4.01911 & $\\dots$ \\\\\n",
       "\t4 & 1.0 & 4.01911 & 4.01911 & 4.01911 & 4.01911 & 4.01911 & $\\dots$ \\\\\n",
       "\t5 & 5.0 & 4.01911 & 4.01911 & 4.01911 & 4.01911 & 4.01911 & $\\dots$ \\\\\n",
       "\t6 & 50.0 & 4.01911 & 4.01912 & 1.41082e-67 & 1.41082e-67 & 2.53725e-62 & $\\dots$ \\\\\n",
       "\t7 & 100.0 & 6.75263e75 & 1.63075e-61 & 5.05901e-69 & 5.05901e-69 & 1.77568e-68 & $\\dots$ \\\\\n",
       "\t8 & 1000.0 & 2.65372e76 & 4.75802e-68 & 8.11865e-68 & 8.11865e-68 & 4.54997e-67 & $\\dots$ \\\\\n",
       "\t9 & 10000.0 & 3.49503e-66 & 1.71888e-65 & 3.25766e-64 & 3.25766e-64 & 7.57024e-66 & $\\dots$ \\\\\n",
       "\\end{tabular}\n"
      ],
      "text/plain": [
       "\u001b[1m9×10 DataFrame\u001b[0m\n",
       "\u001b[1m Row \u001b[0m│\u001b[1m σ_init² ↓ | Φ_init → \u001b[0m\u001b[1m -100.0      \u001b[0m\u001b[1m -1.0        \u001b[0m\u001b[1m 0.0         \u001b[0m\u001b[1m 1.0e-5    \u001b[0m ⋯\n",
       "     │\u001b[90m Float64              \u001b[0m\u001b[90m Float64     \u001b[0m\u001b[90m Float64     \u001b[0m\u001b[90m Float64     \u001b[0m\u001b[90m Float64   \u001b[0m ⋯\n",
       "─────┼──────────────────────────────────────────────────────────────────────────\n",
       "   1 │              1.0e-10  4.01911      4.01912      4.01911      4.01911    ⋯\n",
       "   2 │              1.0e-5   4.01911      4.01911      4.01911      4.01911\n",
       "   3 │              0.1      4.01911      4.01911      4.01911      4.01911\n",
       "   4 │              1.0      4.01911      4.01911      4.01911      4.01911\n",
       "   5 │              5.0      4.01911      4.01911      4.01911      4.01911    ⋯\n",
       "   6 │             50.0      4.01911      4.01912      1.41082e-67  1.41082e-6\n",
       "   7 │            100.0      6.75263e75   1.63075e-61  5.05901e-69  5.05901e-6\n",
       "   8 │           1000.0      2.65372e76   4.75802e-68  8.11865e-68  8.11865e-6\n",
       "   9 │          10000.0      3.49503e-66  1.71888e-65  3.25766e-64  3.25766e-6 ⋯\n",
       "\u001b[36m                                                               6 columns omitted\u001b[0m"
      ]
     },
     "metadata": {},
     "output_type": "display_data"
    }
   ],
   "source": [
    "GridEstimation(LL_AR_Estimation,x, Φ_init, σ_init, sigma_est=true)"
   ]
  },
  {
   "cell_type": "markdown",
   "metadata": {},
   "source": [
    "For σ_init² ≥ 50, estimated σ values are aberrant. \n",
    "However, for both Φ and σ estimations, the values remain constant as long as σ_init² < 50 (maybe there is a critical value).\n",
    "Φ_init doesn't seem to have an impact on the result, except for σ_init = 50 where for some Φ_init the estimation didn't become unstable.\n",
    "Below we try to find this treshold of instability."
   ]
  },
  {
   "cell_type": "code",
   "execution_count": 15,
   "metadata": {},
   "outputs": [
    {
     "data": {
      "text/html": [
       "<div><div style = \"float: left;\"><span>9×10 DataFrame</span></div><div style = \"clear: both;\"></div></div><div class = \"data-frame\" style = \"overflow-x: scroll;\"><table class = \"data-frame\" style = \"margin-bottom: 6px;\"><thead><tr class = \"header\"><th class = \"rowNumber\" style = \"font-weight: bold; text-align: right;\">Row</th><th style = \"text-align: left;\">σ_init² ↓ | Φ_init →</th><th style = \"text-align: left;\">-100.0</th><th style = \"text-align: left;\">-1.0</th><th style = \"text-align: left;\">0.0</th><th style = \"text-align: left;\">1.0e-5</th><th style = \"text-align: left;\">1.0</th><th style = \"text-align: left;\">5.0</th><th style = \"text-align: left;\">10.0</th><th style = \"text-align: left;\">100.0</th><th style = \"text-align: left;\">1000.0</th></tr><tr class = \"subheader headerLastRow\"><th class = \"rowNumber\" style = \"font-weight: bold; text-align: right;\"></th><th title = \"Float64\" style = \"text-align: left;\">Float64</th><th title = \"Float64\" style = \"text-align: left;\">Float64</th><th title = \"Float64\" style = \"text-align: left;\">Float64</th><th title = \"Float64\" style = \"text-align: left;\">Float64</th><th title = \"Float64\" style = \"text-align: left;\">Float64</th><th title = \"Float64\" style = \"text-align: left;\">Float64</th><th title = \"Float64\" style = \"text-align: left;\">Float64</th><th title = \"Float64\" style = \"text-align: left;\">Float64</th><th title = \"Float64\" style = \"text-align: left;\">Float64</th><th title = \"Float64\" style = \"text-align: left;\">Float64</th></tr></thead><tbody><tr><td class = \"rowNumber\" style = \"font-weight: bold; text-align: right;\">1</td><td style = \"text-align: right;\">1.0e-10</td><td style = \"text-align: right;\">0.477822</td><td style = \"text-align: right;\">0.477911</td><td style = \"text-align: right;\">0.477814</td><td style = \"text-align: right;\">0.477867</td><td style = \"text-align: right;\">0.477836</td><td style = \"text-align: right;\">0.477861</td><td style = \"text-align: right;\">0.477842</td><td style = \"text-align: right;\">0.47788</td><td style = \"text-align: right;\">0.477831</td></tr><tr><td class = \"rowNumber\" style = \"font-weight: bold; text-align: right;\">2</td><td style = \"text-align: right;\">1.0e-5</td><td style = \"text-align: right;\">0.477874</td><td style = \"text-align: right;\">0.477836</td><td style = \"text-align: right;\">0.477863</td><td style = \"text-align: right;\">0.477819</td><td style = \"text-align: right;\">0.477847</td><td style = \"text-align: right;\">0.477871</td><td style = \"text-align: right;\">0.477841</td><td style = \"text-align: right;\">0.477867</td><td style = \"text-align: right;\">0.477831</td></tr><tr><td class = \"rowNumber\" style = \"font-weight: bold; text-align: right;\">3</td><td style = \"text-align: right;\">0.1</td><td style = \"text-align: right;\">0.477852</td><td style = \"text-align: right;\">0.477856</td><td style = \"text-align: right;\">0.47785</td><td style = \"text-align: right;\">0.477847</td><td style = \"text-align: right;\">0.477823</td><td style = \"text-align: right;\">0.477826</td><td style = \"text-align: right;\">0.47787</td><td style = \"text-align: right;\">0.477851</td><td style = \"text-align: right;\">0.477842</td></tr><tr><td class = \"rowNumber\" style = \"font-weight: bold; text-align: right;\">4</td><td style = \"text-align: right;\">1.0</td><td style = \"text-align: right;\">0.477837</td><td style = \"text-align: right;\">0.477853</td><td style = \"text-align: right;\">0.477839</td><td style = \"text-align: right;\">0.477828</td><td style = \"text-align: right;\">0.477818</td><td style = \"text-align: right;\">0.477822</td><td style = \"text-align: right;\">0.477834</td><td style = \"text-align: right;\">0.477824</td><td style = \"text-align: right;\">0.477854</td></tr><tr><td class = \"rowNumber\" style = \"font-weight: bold; text-align: right;\">5</td><td style = \"text-align: right;\">5.0</td><td style = \"text-align: right;\">0.477836</td><td style = \"text-align: right;\">0.477796</td><td style = \"text-align: right;\">0.477872</td><td style = \"text-align: right;\">0.477841</td><td style = \"text-align: right;\">0.477835</td><td style = \"text-align: right;\">0.477849</td><td style = \"text-align: right;\">0.47781</td><td style = \"text-align: right;\">0.477834</td><td style = \"text-align: right;\">0.477835</td></tr><tr><td class = \"rowNumber\" style = \"font-weight: bold; text-align: right;\">6</td><td style = \"text-align: right;\">50.0</td><td style = \"text-align: right;\">0.477848</td><td style = \"text-align: right;\">0.477879</td><td style = \"text-align: right;\">100.0</td><td style = \"text-align: right;\">100.0</td><td style = \"text-align: right;\">100.0</td><td style = \"text-align: right;\">100.0</td><td style = \"text-align: right;\">100.0</td><td style = \"text-align: right;\">0.477806</td><td style = \"text-align: right;\">100.0</td></tr><tr><td class = \"rowNumber\" style = \"font-weight: bold; text-align: right;\">7</td><td style = \"text-align: right;\">100.0</td><td style = \"text-align: right;\">1.68816e77</td><td style = \"text-align: right;\">100.0</td><td style = \"text-align: right;\">100.0</td><td style = \"text-align: right;\">100.0</td><td style = \"text-align: right;\">100.0</td><td style = \"text-align: right;\">100.0</td><td style = \"text-align: right;\">100.0</td><td style = \"text-align: right;\">1.43865e77</td><td style = \"text-align: right;\">100.0</td></tr><tr><td class = \"rowNumber\" style = \"font-weight: bold; text-align: right;\">8</td><td style = \"text-align: right;\">1000.0</td><td style = \"text-align: right;\">6.6343e77</td><td style = \"text-align: right;\">100.0</td><td style = \"text-align: right;\">100.0</td><td style = \"text-align: right;\">100.0</td><td style = \"text-align: right;\">100.0</td><td style = \"text-align: right;\">100.0</td><td style = \"text-align: right;\">100.0</td><td style = \"text-align: right;\">100.0</td><td style = \"text-align: right;\">100.0</td></tr><tr><td class = \"rowNumber\" style = \"font-weight: bold; text-align: right;\">9</td><td style = \"text-align: right;\">10000.0</td><td style = \"text-align: right;\">100.0</td><td style = \"text-align: right;\">100.0</td><td style = \"text-align: right;\">100.0</td><td style = \"text-align: right;\">100.0</td><td style = \"text-align: right;\">100.0</td><td style = \"text-align: right;\">100.0</td><td style = \"text-align: right;\">100.0</td><td style = \"text-align: right;\">100.0</td><td style = \"text-align: right;\">8.67188e77</td></tr></tbody></table></div>"
      ],
      "text/latex": [
       "\\begin{tabular}{r|cccccccc}\n",
       "\t& σ\\_init² ↓ | Φ\\_init → & -100.0 & -1.0 & 0.0 & 1.0e-5 & 1.0 & 5.0 & \\\\\n",
       "\t\\hline\n",
       "\t& Float64 & Float64 & Float64 & Float64 & Float64 & Float64 & Float64 & \\\\\n",
       "\t\\hline\n",
       "\t1 & 1.0e-10 & 0.477822 & 0.477911 & 0.477814 & 0.477867 & 0.477836 & 0.477861 & $\\dots$ \\\\\n",
       "\t2 & 1.0e-5 & 0.477874 & 0.477836 & 0.477863 & 0.477819 & 0.477847 & 0.477871 & $\\dots$ \\\\\n",
       "\t3 & 0.1 & 0.477852 & 0.477856 & 0.47785 & 0.477847 & 0.477823 & 0.477826 & $\\dots$ \\\\\n",
       "\t4 & 1.0 & 0.477837 & 0.477853 & 0.477839 & 0.477828 & 0.477818 & 0.477822 & $\\dots$ \\\\\n",
       "\t5 & 5.0 & 0.477836 & 0.477796 & 0.477872 & 0.477841 & 0.477835 & 0.477849 & $\\dots$ \\\\\n",
       "\t6 & 50.0 & 0.477848 & 0.477879 & 100.0 & 100.0 & 100.0 & 100.0 & $\\dots$ \\\\\n",
       "\t7 & 100.0 & 1.68816e77 & 100.0 & 100.0 & 100.0 & 100.0 & 100.0 & $\\dots$ \\\\\n",
       "\t8 & 1000.0 & 6.6343e77 & 100.0 & 100.0 & 100.0 & 100.0 & 100.0 & $\\dots$ \\\\\n",
       "\t9 & 10000.0 & 100.0 & 100.0 & 100.0 & 100.0 & 100.0 & 100.0 & $\\dots$ \\\\\n",
       "\\end{tabular}\n"
      ],
      "text/plain": [
       "\u001b[1m9×10 DataFrame\u001b[0m\n",
       "\u001b[1m Row \u001b[0m│\u001b[1m σ_init² ↓ | Φ_init → \u001b[0m\u001b[1m -100.0       \u001b[0m\u001b[1m -1.0       \u001b[0m\u001b[1m 0.0        \u001b[0m\u001b[1m 1.0e-5     \u001b[0m\u001b[1m\u001b[0m ⋯\n",
       "     │\u001b[90m Float64              \u001b[0m\u001b[90m Float64      \u001b[0m\u001b[90m Float64    \u001b[0m\u001b[90m Float64    \u001b[0m\u001b[90m Float64    \u001b[0m\u001b[90m\u001b[0m ⋯\n",
       "─────┼──────────────────────────────────────────────────────────────────────────\n",
       "   1 │              1.0e-10    0.477822      0.477911    0.477814    0.477867  ⋯\n",
       "   2 │              1.0e-5     0.477874      0.477836    0.477863    0.477819\n",
       "   3 │              0.1        0.477852      0.477856    0.47785     0.477847\n",
       "   4 │              1.0        0.477837      0.477853    0.477839    0.477828\n",
       "   5 │              5.0        0.477836      0.477796    0.477872    0.477841  ⋯\n",
       "   6 │             50.0        0.477848      0.477879  100.0       100.0\n",
       "   7 │            100.0        1.68816e77  100.0       100.0       100.0\n",
       "   8 │           1000.0        6.6343e77   100.0       100.0       100.0\n",
       "   9 │          10000.0      100.0         100.0       100.0       100.0       ⋯\n",
       "\u001b[36m                                                               5 columns omitted\u001b[0m"
      ]
     },
     "metadata": {},
     "output_type": "display_data"
    }
   ],
   "source": [
    "GridEstimation(LL_AR_Estimation,x, Φ_init, σ_init, σ, sigma_est=true)"
   ]
  },
  {
   "cell_type": "code",
   "execution_count": 16,
   "metadata": {},
   "outputs": [
    {
     "data": {
      "text/html": [
       "<div><div style = \"float: left;\"><span>5×10 DataFrame</span></div><div style = \"clear: both;\"></div></div><div class = \"data-frame\" style = \"overflow-x: scroll;\"><table class = \"data-frame\" style = \"margin-bottom: 6px;\"><thead><tr class = \"header\"><th class = \"rowNumber\" style = \"font-weight: bold; text-align: right;\">Row</th><th style = \"text-align: left;\">σ_init² ↓ | Φ_init →</th><th style = \"text-align: left;\">-100.0</th><th style = \"text-align: left;\">-1.0</th><th style = \"text-align: left;\">0.0</th><th style = \"text-align: left;\">1.0e-5</th><th style = \"text-align: left;\">1.0</th><th style = \"text-align: left;\">5.0</th><th style = \"text-align: left;\">10.0</th><th style = \"text-align: left;\">100.0</th><th style = \"text-align: left;\">1000.0</th></tr><tr class = \"subheader headerLastRow\"><th class = \"rowNumber\" style = \"font-weight: bold; text-align: right;\"></th><th title = \"Int64\" style = \"text-align: left;\">Int64</th><th title = \"Float64\" style = \"text-align: left;\">Float64</th><th title = \"Float64\" style = \"text-align: left;\">Float64</th><th title = \"Float64\" style = \"text-align: left;\">Float64</th><th title = \"Float64\" style = \"text-align: left;\">Float64</th><th title = \"Float64\" style = \"text-align: left;\">Float64</th><th title = \"Float64\" style = \"text-align: left;\">Float64</th><th title = \"Float64\" style = \"text-align: left;\">Float64</th><th title = \"Float64\" style = \"text-align: left;\">Float64</th><th title = \"Float64\" style = \"text-align: left;\">Float64</th></tr></thead><tbody><tr><td class = \"rowNumber\" style = \"font-weight: bold; text-align: right;\">1</td><td style = \"text-align: right;\">5</td><td style = \"text-align: right;\">0.70062</td><td style = \"text-align: right;\">0.70062</td><td style = \"text-align: right;\">0.700621</td><td style = \"text-align: right;\">0.70062</td><td style = \"text-align: right;\">0.70062</td><td style = \"text-align: right;\">0.700621</td><td style = \"text-align: right;\">0.70062</td><td style = \"text-align: right;\">0.70062</td><td style = \"text-align: right;\">0.70062</td></tr><tr><td class = \"rowNumber\" style = \"font-weight: bold; text-align: right;\">2</td><td style = \"text-align: right;\">15</td><td style = \"text-align: right;\">0.70062</td><td style = \"text-align: right;\">0.70062</td><td style = \"text-align: right;\">0.70062</td><td style = \"text-align: right;\">0.70062</td><td style = \"text-align: right;\">0.70062</td><td style = \"text-align: right;\">0.70062</td><td style = \"text-align: right;\">0.70062</td><td style = \"text-align: right;\">0.70062</td><td style = \"text-align: right;\">0.70062</td></tr><tr><td class = \"rowNumber\" style = \"font-weight: bold; text-align: right;\">3</td><td style = \"text-align: right;\">25</td><td style = \"text-align: right;\">0.340408</td><td style = \"text-align: right;\">0.70062</td><td style = \"text-align: right;\">0.70062</td><td style = \"text-align: right;\">0.70062</td><td style = \"text-align: right;\">0.70062</td><td style = \"text-align: right;\">0.70062</td><td style = \"text-align: right;\">0.70062</td><td style = \"text-align: right;\">0.338718</td><td style = \"text-align: right;\">0.70062</td></tr><tr><td class = \"rowNumber\" style = \"font-weight: bold; text-align: right;\">4</td><td style = \"text-align: right;\">35</td><td style = \"text-align: right;\">0.70062</td><td style = \"text-align: right;\">-1.18468</td><td style = \"text-align: right;\">0.357947</td><td style = \"text-align: right;\">0.358029</td><td style = \"text-align: right;\">2.77912</td><td style = \"text-align: right;\">0.700618</td><td style = \"text-align: right;\">0.460887</td><td style = \"text-align: right;\">0.70062</td><td style = \"text-align: right;\">0.70062</td></tr><tr><td class = \"rowNumber\" style = \"font-weight: bold; text-align: right;\">5</td><td style = \"text-align: right;\">45</td><td style = \"text-align: right;\">0.70062</td><td style = \"text-align: right;\">-1.66323</td><td style = \"text-align: right;\">-0.0115803</td><td style = \"text-align: right;\">-0.0115726</td><td style = \"text-align: right;\">3.30801</td><td style = \"text-align: right;\">0.983588</td><td style = \"text-align: right;\">-0.341121</td><td style = \"text-align: right;\">0.70062</td><td style = \"text-align: right;\">-0.129442</td></tr></tbody></table></div>"
      ],
      "text/latex": [
       "\\begin{tabular}{r|cccccccc}\n",
       "\t& σ\\_init² ↓ | Φ\\_init → & -100.0 & -1.0 & 0.0 & 1.0e-5 & 1.0 & 5.0 & \\\\\n",
       "\t\\hline\n",
       "\t& Int64 & Float64 & Float64 & Float64 & Float64 & Float64 & Float64 & \\\\\n",
       "\t\\hline\n",
       "\t1 & 5 & 0.70062 & 0.70062 & 0.700621 & 0.70062 & 0.70062 & 0.700621 & $\\dots$ \\\\\n",
       "\t2 & 15 & 0.70062 & 0.70062 & 0.70062 & 0.70062 & 0.70062 & 0.70062 & $\\dots$ \\\\\n",
       "\t3 & 25 & 0.340408 & 0.70062 & 0.70062 & 0.70062 & 0.70062 & 0.70062 & $\\dots$ \\\\\n",
       "\t4 & 35 & 0.70062 & -1.18468 & 0.357947 & 0.358029 & 2.77912 & 0.700618 & $\\dots$ \\\\\n",
       "\t5 & 45 & 0.70062 & -1.66323 & -0.0115803 & -0.0115726 & 3.30801 & 0.983588 & $\\dots$ \\\\\n",
       "\\end{tabular}\n"
      ],
      "text/plain": [
       "\u001b[1m5×10 DataFrame\u001b[0m\n",
       "\u001b[1m Row \u001b[0m│\u001b[1m σ_init² ↓ | Φ_init → \u001b[0m\u001b[1m -100.0   \u001b[0m\u001b[1m -1.0     \u001b[0m\u001b[1m 0.0        \u001b[0m\u001b[1m 1.0e-5     \u001b[0m\u001b[1m 1.0  \u001b[0m ⋯\n",
       "     │\u001b[90m Int64                \u001b[0m\u001b[90m Float64  \u001b[0m\u001b[90m Float64  \u001b[0m\u001b[90m Float64    \u001b[0m\u001b[90m Float64    \u001b[0m\u001b[90m Float\u001b[0m ⋯\n",
       "─────┼──────────────────────────────────────────────────────────────────────────\n",
       "   1 │                    5  0.70062    0.70062   0.700621    0.70062    0.700 ⋯\n",
       "   2 │                   15  0.70062    0.70062   0.70062     0.70062    0.700\n",
       "   3 │                   25  0.340408   0.70062   0.70062     0.70062    0.700\n",
       "   4 │                   35  0.70062   -1.18468   0.357947    0.358029   2.779\n",
       "   5 │                   45  0.70062   -1.66323  -0.0115803  -0.0115726  3.308 ⋯\n",
       "\u001b[36m                                                               5 columns omitted\u001b[0m"
      ]
     },
     "metadata": {},
     "output_type": "display_data"
    }
   ],
   "source": [
    "σ_init2=collect(5:10:50)\n",
    "GridEstimation(LL_AR_Estimation,x, Φ_init, σ_init2)"
   ]
  },
  {
   "cell_type": "code",
   "execution_count": 17,
   "metadata": {},
   "outputs": [
    {
     "data": {
      "text/html": [
       "<div><div style = \"float: left;\"><span>5×10 DataFrame</span></div><div style = \"clear: both;\"></div></div><div class = \"data-frame\" style = \"overflow-x: scroll;\"><table class = \"data-frame\" style = \"margin-bottom: 6px;\"><thead><tr class = \"header\"><th class = \"rowNumber\" style = \"font-weight: bold; text-align: right;\">Row</th><th style = \"text-align: left;\">σ_init² ↓ | Φ_init →</th><th style = \"text-align: left;\">-100.0</th><th style = \"text-align: left;\">-1.0</th><th style = \"text-align: left;\">0.0</th><th style = \"text-align: left;\">1.0e-5</th><th style = \"text-align: left;\">1.0</th><th style = \"text-align: left;\">5.0</th><th style = \"text-align: left;\">10.0</th><th style = \"text-align: left;\">100.0</th><th style = \"text-align: left;\">1000.0</th></tr><tr class = \"subheader headerLastRow\"><th class = \"rowNumber\" style = \"font-weight: bold; text-align: right;\"></th><th title = \"Float64\" style = \"text-align: left;\">Float64</th><th title = \"Float64\" style = \"text-align: left;\">Float64</th><th title = \"Float64\" style = \"text-align: left;\">Float64</th><th title = \"Float64\" style = \"text-align: left;\">Float64</th><th title = \"Float64\" style = \"text-align: left;\">Float64</th><th title = \"Float64\" style = \"text-align: left;\">Float64</th><th title = \"Float64\" style = \"text-align: left;\">Float64</th><th title = \"Float64\" style = \"text-align: left;\">Float64</th><th title = \"Float64\" style = \"text-align: left;\">Float64</th><th title = \"Float64\" style = \"text-align: left;\">Float64</th></tr></thead><tbody><tr><td class = \"rowNumber\" style = \"font-weight: bold; text-align: right;\">1</td><td style = \"text-align: right;\">5.0</td><td style = \"text-align: right;\">4.01911</td><td style = \"text-align: right;\">4.01911</td><td style = \"text-align: right;\">4.01911</td><td style = \"text-align: right;\">4.01911</td><td style = \"text-align: right;\">4.01911</td><td style = \"text-align: right;\">4.01911</td><td style = \"text-align: right;\">4.01911</td><td style = \"text-align: right;\">4.01911</td><td style = \"text-align: right;\">4.01911</td></tr><tr><td class = \"rowNumber\" style = \"font-weight: bold; text-align: right;\">2</td><td style = \"text-align: right;\">15.0</td><td style = \"text-align: right;\">4.01911</td><td style = \"text-align: right;\">4.01911</td><td style = \"text-align: right;\">4.01911</td><td style = \"text-align: right;\">4.01911</td><td style = \"text-align: right;\">4.01911</td><td style = \"text-align: right;\">4.01911</td><td style = \"text-align: right;\">4.01911</td><td style = \"text-align: right;\">4.01912</td><td style = \"text-align: right;\">4.01911</td></tr><tr><td class = \"rowNumber\" style = \"font-weight: bold; text-align: right;\">3</td><td style = \"text-align: right;\">25.0</td><td style = \"text-align: right;\">2.49124e-64</td><td style = \"text-align: right;\">4.01911</td><td style = \"text-align: right;\">4.01912</td><td style = \"text-align: right;\">4.01911</td><td style = \"text-align: right;\">4.01911</td><td style = \"text-align: right;\">4.01911</td><td style = \"text-align: right;\">4.01911</td><td style = \"text-align: right;\">1.45233e-60</td><td style = \"text-align: right;\">4.01911</td></tr><tr><td class = \"rowNumber\" style = \"font-weight: bold; text-align: right;\">4</td><td style = \"text-align: right;\">35.0</td><td style = \"text-align: right;\">4.01911</td><td style = \"text-align: right;\">2.66145e-59</td><td style = \"text-align: right;\">8.1225e-63</td><td style = \"text-align: right;\">8.1225e-63</td><td style = \"text-align: right;\">5.6856e-66</td><td style = \"text-align: right;\">4.01911</td><td style = \"text-align: right;\">6.98134e-62</td><td style = \"text-align: right;\">4.01911</td><td style = \"text-align: right;\">4.01912</td></tr><tr><td class = \"rowNumber\" style = \"font-weight: bold; text-align: right;\">5</td><td style = \"text-align: right;\">45.0</td><td style = \"text-align: right;\">4.01911</td><td style = \"text-align: right;\">3.6596e-65</td><td style = \"text-align: right;\">6.41548e-69</td><td style = \"text-align: right;\">6.41548e-69</td><td style = \"text-align: right;\">1.21853e-61</td><td style = \"text-align: right;\">1.37648e-62</td><td style = \"text-align: right;\">6.66259e-65</td><td style = \"text-align: right;\">4.01911</td><td style = \"text-align: right;\">2.65892e-63</td></tr></tbody></table></div>"
      ],
      "text/latex": [
       "\\begin{tabular}{r|ccccccc}\n",
       "\t& σ\\_init² ↓ | Φ\\_init → & -100.0 & -1.0 & 0.0 & 1.0e-5 & 1.0 & \\\\\n",
       "\t\\hline\n",
       "\t& Float64 & Float64 & Float64 & Float64 & Float64 & Float64 & \\\\\n",
       "\t\\hline\n",
       "\t1 & 5.0 & 4.01911 & 4.01911 & 4.01911 & 4.01911 & 4.01911 & $\\dots$ \\\\\n",
       "\t2 & 15.0 & 4.01911 & 4.01911 & 4.01911 & 4.01911 & 4.01911 & $\\dots$ \\\\\n",
       "\t3 & 25.0 & 2.49124e-64 & 4.01911 & 4.01912 & 4.01911 & 4.01911 & $\\dots$ \\\\\n",
       "\t4 & 35.0 & 4.01911 & 2.66145e-59 & 8.1225e-63 & 8.1225e-63 & 5.6856e-66 & $\\dots$ \\\\\n",
       "\t5 & 45.0 & 4.01911 & 3.6596e-65 & 6.41548e-69 & 6.41548e-69 & 1.21853e-61 & $\\dots$ \\\\\n",
       "\\end{tabular}\n"
      ],
      "text/plain": [
       "\u001b[1m5×10 DataFrame\u001b[0m\n",
       "\u001b[1m Row \u001b[0m│\u001b[1m σ_init² ↓ | Φ_init → \u001b[0m\u001b[1m -100.0      \u001b[0m\u001b[1m -1.0        \u001b[0m\u001b[1m 0.0         \u001b[0m\u001b[1m 1.0e-5    \u001b[0m ⋯\n",
       "     │\u001b[90m Float64              \u001b[0m\u001b[90m Float64     \u001b[0m\u001b[90m Float64     \u001b[0m\u001b[90m Float64     \u001b[0m\u001b[90m Float64   \u001b[0m ⋯\n",
       "─────┼──────────────────────────────────────────────────────────────────────────\n",
       "   1 │                  5.0  4.01911      4.01911      4.01911      4.01911    ⋯\n",
       "   2 │                 15.0  4.01911      4.01911      4.01911      4.01911\n",
       "   3 │                 25.0  2.49124e-64  4.01911      4.01912      4.01911\n",
       "   4 │                 35.0  4.01911      2.66145e-59  8.1225e-63   8.1225e-63\n",
       "   5 │                 45.0  4.01911      3.6596e-65   6.41548e-69  6.41548e-6 ⋯\n",
       "\u001b[36m                                                               6 columns omitted\u001b[0m"
      ]
     },
     "metadata": {},
     "output_type": "display_data"
    }
   ],
   "source": [
    "GridEstimation(LL_AR_Estimation,x, Φ_init, σ_init2, sigma_est=true)"
   ]
  },
  {
   "cell_type": "markdown",
   "metadata": {},
   "source": [
    "Unstable values appear for σ_init² ≥ 15. \n",
    "Let's try a finer search : "
   ]
  },
  {
   "cell_type": "code",
   "execution_count": 18,
   "metadata": {},
   "outputs": [
    {
     "data": {
      "text/html": [
       "<div><div style = \"float: left;\"><span>11×10 DataFrame</span></div><div style = \"clear: both;\"></div></div><div class = \"data-frame\" style = \"overflow-x: scroll;\"><table class = \"data-frame\" style = \"margin-bottom: 6px;\"><thead><tr class = \"header\"><th class = \"rowNumber\" style = \"font-weight: bold; text-align: right;\">Row</th><th style = \"text-align: left;\">σ_init² ↓ | Φ_init →</th><th style = \"text-align: left;\">-100.0</th><th style = \"text-align: left;\">-1.0</th><th style = \"text-align: left;\">0.0</th><th style = \"text-align: left;\">1.0e-5</th><th style = \"text-align: left;\">1.0</th><th style = \"text-align: left;\">5.0</th><th style = \"text-align: left;\">10.0</th><th style = \"text-align: left;\">100.0</th><th style = \"text-align: left;\">1000.0</th></tr><tr class = \"subheader headerLastRow\"><th class = \"rowNumber\" style = \"font-weight: bold; text-align: right;\"></th><th title = \"Int64\" style = \"text-align: left;\">Int64</th><th title = \"Float64\" style = \"text-align: left;\">Float64</th><th title = \"Float64\" style = \"text-align: left;\">Float64</th><th title = \"Float64\" style = \"text-align: left;\">Float64</th><th title = \"Float64\" style = \"text-align: left;\">Float64</th><th title = \"Float64\" style = \"text-align: left;\">Float64</th><th title = \"Float64\" style = \"text-align: left;\">Float64</th><th title = \"Float64\" style = \"text-align: left;\">Float64</th><th title = \"Float64\" style = \"text-align: left;\">Float64</th><th title = \"Float64\" style = \"text-align: left;\">Float64</th></tr></thead><tbody><tr><td class = \"rowNumber\" style = \"font-weight: bold; text-align: right;\">1</td><td style = \"text-align: right;\">5</td><td style = \"text-align: right;\">0.70062</td><td style = \"text-align: right;\">0.70062</td><td style = \"text-align: right;\">0.700621</td><td style = \"text-align: right;\">0.70062</td><td style = \"text-align: right;\">0.70062</td><td style = \"text-align: right;\">0.700621</td><td style = \"text-align: right;\">0.70062</td><td style = \"text-align: right;\">0.70062</td><td style = \"text-align: right;\">0.70062</td></tr><tr><td class = \"rowNumber\" style = \"font-weight: bold; text-align: right;\">2</td><td style = \"text-align: right;\">6</td><td style = \"text-align: right;\">0.70062</td><td style = \"text-align: right;\">0.70062</td><td style = \"text-align: right;\">0.700621</td><td style = \"text-align: right;\">0.70062</td><td style = \"text-align: right;\">0.70062</td><td style = \"text-align: right;\">0.70062</td><td style = \"text-align: right;\">0.70062</td><td style = \"text-align: right;\">0.70062</td><td style = \"text-align: right;\">0.70062</td></tr><tr><td class = \"rowNumber\" style = \"font-weight: bold; text-align: right;\">3</td><td style = \"text-align: right;\">7</td><td style = \"text-align: right;\">0.70062</td><td style = \"text-align: right;\">0.70062</td><td style = \"text-align: right;\">0.70062</td><td style = \"text-align: right;\">0.70062</td><td style = \"text-align: right;\">0.70062</td><td style = \"text-align: right;\">0.70062</td><td style = \"text-align: right;\">0.70062</td><td style = \"text-align: right;\">0.70062</td><td style = \"text-align: right;\">0.70062</td></tr><tr><td class = \"rowNumber\" style = \"font-weight: bold; text-align: right;\">4</td><td style = \"text-align: right;\">8</td><td style = \"text-align: right;\">0.70062</td><td style = \"text-align: right;\">0.700621</td><td style = \"text-align: right;\">0.70062</td><td style = \"text-align: right;\">0.70062</td><td style = \"text-align: right;\">0.70062</td><td style = \"text-align: right;\">0.70062</td><td style = \"text-align: right;\">0.700621</td><td style = \"text-align: right;\">0.70062</td><td style = \"text-align: right;\">0.70062</td></tr><tr><td class = \"rowNumber\" style = \"font-weight: bold; text-align: right;\">5</td><td style = \"text-align: right;\">9</td><td style = \"text-align: right;\">0.70062</td><td style = \"text-align: right;\">0.700621</td><td style = \"text-align: right;\">0.732795</td><td style = \"text-align: right;\">0.732951</td><td style = \"text-align: right;\">0.70062</td><td style = \"text-align: right;\">0.70062</td><td style = \"text-align: right;\">0.70062</td><td style = \"text-align: right;\">0.700621</td><td style = \"text-align: right;\">0.70062</td></tr><tr><td class = \"rowNumber\" style = \"font-weight: bold; text-align: right;\">6</td><td style = \"text-align: right;\">10</td><td style = \"text-align: right;\">0.70062</td><td style = \"text-align: right;\">0.700621</td><td style = \"text-align: right;\">0.70062</td><td style = \"text-align: right;\">0.70062</td><td style = \"text-align: right;\">0.70062</td><td style = \"text-align: right;\">0.70062</td><td style = \"text-align: right;\">0.70062</td><td style = \"text-align: right;\">0.70062</td><td style = \"text-align: right;\">0.70062</td></tr><tr><td class = \"rowNumber\" style = \"font-weight: bold; text-align: right;\">7</td><td style = \"text-align: right;\">11</td><td style = \"text-align: right;\">0.70062</td><td style = \"text-align: right;\">0.70062</td><td style = \"text-align: right;\">0.700621</td><td style = \"text-align: right;\">0.70062</td><td style = \"text-align: right;\">0.70062</td><td style = \"text-align: right;\">0.700621</td><td style = \"text-align: right;\">0.70062</td><td style = \"text-align: right;\">0.70062</td><td style = \"text-align: right;\">0.70062</td></tr><tr><td class = \"rowNumber\" style = \"font-weight: bold; text-align: right;\">8</td><td style = \"text-align: right;\">12</td><td style = \"text-align: right;\">0.70062</td><td style = \"text-align: right;\">0.70062</td><td style = \"text-align: right;\">0.70062</td><td style = \"text-align: right;\">0.70062</td><td style = \"text-align: right;\">0.70062</td><td style = \"text-align: right;\">0.70062</td><td style = \"text-align: right;\">0.70062</td><td style = \"text-align: right;\">0.70062</td><td style = \"text-align: right;\">0.700621</td></tr><tr><td class = \"rowNumber\" style = \"font-weight: bold; text-align: right;\">9</td><td style = \"text-align: right;\">13</td><td style = \"text-align: right;\">0.70062</td><td style = \"text-align: right;\">0.70062</td><td style = \"text-align: right;\">0.70062</td><td style = \"text-align: right;\">0.70062</td><td style = \"text-align: right;\">0.700621</td><td style = \"text-align: right;\">0.70062</td><td style = \"text-align: right;\">0.70062</td><td style = \"text-align: right;\">0.700621</td><td style = \"text-align: right;\">0.70062</td></tr><tr><td class = \"rowNumber\" style = \"font-weight: bold; text-align: right;\">10</td><td style = \"text-align: right;\">14</td><td style = \"text-align: right;\">0.70062</td><td style = \"text-align: right;\">0.70062</td><td style = \"text-align: right;\">0.70062</td><td style = \"text-align: right;\">0.70062</td><td style = \"text-align: right;\">0.70062</td><td style = \"text-align: right;\">0.70062</td><td style = \"text-align: right;\">0.70062</td><td style = \"text-align: right;\">0.70062</td><td style = \"text-align: right;\">0.70062</td></tr><tr><td class = \"rowNumber\" style = \"font-weight: bold; text-align: right;\">11</td><td style = \"text-align: right;\">15</td><td style = \"text-align: right;\">0.70062</td><td style = \"text-align: right;\">0.70062</td><td style = \"text-align: right;\">0.70062</td><td style = \"text-align: right;\">0.70062</td><td style = \"text-align: right;\">0.70062</td><td style = \"text-align: right;\">0.70062</td><td style = \"text-align: right;\">0.70062</td><td style = \"text-align: right;\">0.70062</td><td style = \"text-align: right;\">0.70062</td></tr></tbody></table></div>"
      ],
      "text/latex": [
       "\\begin{tabular}{r|cccccccc}\n",
       "\t& σ\\_init² ↓ | Φ\\_init → & -100.0 & -1.0 & 0.0 & 1.0e-5 & 1.0 & 5.0 & \\\\\n",
       "\t\\hline\n",
       "\t& Int64 & Float64 & Float64 & Float64 & Float64 & Float64 & Float64 & \\\\\n",
       "\t\\hline\n",
       "\t1 & 5 & 0.70062 & 0.70062 & 0.700621 & 0.70062 & 0.70062 & 0.700621 & $\\dots$ \\\\\n",
       "\t2 & 6 & 0.70062 & 0.70062 & 0.700621 & 0.70062 & 0.70062 & 0.70062 & $\\dots$ \\\\\n",
       "\t3 & 7 & 0.70062 & 0.70062 & 0.70062 & 0.70062 & 0.70062 & 0.70062 & $\\dots$ \\\\\n",
       "\t4 & 8 & 0.70062 & 0.700621 & 0.70062 & 0.70062 & 0.70062 & 0.70062 & $\\dots$ \\\\\n",
       "\t5 & 9 & 0.70062 & 0.700621 & 0.732795 & 0.732951 & 0.70062 & 0.70062 & $\\dots$ \\\\\n",
       "\t6 & 10 & 0.70062 & 0.700621 & 0.70062 & 0.70062 & 0.70062 & 0.70062 & $\\dots$ \\\\\n",
       "\t7 & 11 & 0.70062 & 0.70062 & 0.700621 & 0.70062 & 0.70062 & 0.700621 & $\\dots$ \\\\\n",
       "\t8 & 12 & 0.70062 & 0.70062 & 0.70062 & 0.70062 & 0.70062 & 0.70062 & $\\dots$ \\\\\n",
       "\t9 & 13 & 0.70062 & 0.70062 & 0.70062 & 0.70062 & 0.700621 & 0.70062 & $\\dots$ \\\\\n",
       "\t10 & 14 & 0.70062 & 0.70062 & 0.70062 & 0.70062 & 0.70062 & 0.70062 & $\\dots$ \\\\\n",
       "\t11 & 15 & 0.70062 & 0.70062 & 0.70062 & 0.70062 & 0.70062 & 0.70062 & $\\dots$ \\\\\n",
       "\\end{tabular}\n"
      ],
      "text/plain": [
       "\u001b[1m11×10 DataFrame\u001b[0m\n",
       "\u001b[1m Row \u001b[0m│\u001b[1m σ_init² ↓ | Φ_init → \u001b[0m\u001b[1m -100.0  \u001b[0m\u001b[1m -1.0     \u001b[0m\u001b[1m 0.0      \u001b[0m\u001b[1m 1.0e-5   \u001b[0m\u001b[1m 1.0      \u001b[0m\u001b[1m \u001b[0m ⋯\n",
       "     │\u001b[90m Int64                \u001b[0m\u001b[90m Float64 \u001b[0m\u001b[90m Float64  \u001b[0m\u001b[90m Float64  \u001b[0m\u001b[90m Float64  \u001b[0m\u001b[90m Float64  \u001b[0m\u001b[90m \u001b[0m ⋯\n",
       "─────┼──────────────────────────────────────────────────────────────────────────\n",
       "   1 │                    5  0.70062  0.70062   0.700621  0.70062   0.70062    ⋯\n",
       "   2 │                    6  0.70062  0.70062   0.700621  0.70062   0.70062\n",
       "   3 │                    7  0.70062  0.70062   0.70062   0.70062   0.70062\n",
       "   4 │                    8  0.70062  0.700621  0.70062   0.70062   0.70062\n",
       "   5 │                    9  0.70062  0.700621  0.732795  0.732951  0.70062    ⋯\n",
       "   6 │                   10  0.70062  0.700621  0.70062   0.70062   0.70062\n",
       "   7 │                   11  0.70062  0.70062   0.700621  0.70062   0.70062\n",
       "   8 │                   12  0.70062  0.70062   0.70062   0.70062   0.70062\n",
       "   9 │                   13  0.70062  0.70062   0.70062   0.70062   0.700621   ⋯\n",
       "  10 │                   14  0.70062  0.70062   0.70062   0.70062   0.70062\n",
       "  11 │                   15  0.70062  0.70062   0.70062   0.70062   0.70062\n",
       "\u001b[36m                                                               4 columns omitted\u001b[0m"
      ]
     },
     "metadata": {},
     "output_type": "display_data"
    }
   ],
   "source": [
    "σ_init3=collect(5:1:15)\n",
    "GridEstimation(LL_AR_Estimation,x, Φ_init, σ_init3)"
   ]
  },
  {
   "cell_type": "code",
   "execution_count": 19,
   "metadata": {},
   "outputs": [
    {
     "data": {
      "text/html": [
       "<div><div style = \"float: left;\"><span>11×10 DataFrame</span></div><div style = \"clear: both;\"></div></div><div class = \"data-frame\" style = \"overflow-x: scroll;\"><table class = \"data-frame\" style = \"margin-bottom: 6px;\"><thead><tr class = \"header\"><th class = \"rowNumber\" style = \"font-weight: bold; text-align: right;\">Row</th><th style = \"text-align: left;\">σ_init² ↓ | Φ_init →</th><th style = \"text-align: left;\">-100.0</th><th style = \"text-align: left;\">-1.0</th><th style = \"text-align: left;\">0.0</th><th style = \"text-align: left;\">1.0e-5</th><th style = \"text-align: left;\">1.0</th><th style = \"text-align: left;\">5.0</th><th style = \"text-align: left;\">10.0</th><th style = \"text-align: left;\">100.0</th><th style = \"text-align: left;\">1000.0</th></tr><tr class = \"subheader headerLastRow\"><th class = \"rowNumber\" style = \"font-weight: bold; text-align: right;\"></th><th title = \"Float64\" style = \"text-align: left;\">Float64</th><th title = \"Float64\" style = \"text-align: left;\">Float64</th><th title = \"Float64\" style = \"text-align: left;\">Float64</th><th title = \"Float64\" style = \"text-align: left;\">Float64</th><th title = \"Float64\" style = \"text-align: left;\">Float64</th><th title = \"Float64\" style = \"text-align: left;\">Float64</th><th title = \"Float64\" style = \"text-align: left;\">Float64</th><th title = \"Float64\" style = \"text-align: left;\">Float64</th><th title = \"Float64\" style = \"text-align: left;\">Float64</th><th title = \"Float64\" style = \"text-align: left;\">Float64</th></tr></thead><tbody><tr><td class = \"rowNumber\" style = \"font-weight: bold; text-align: right;\">1</td><td style = \"text-align: right;\">5.0</td><td style = \"text-align: right;\">4.01911</td><td style = \"text-align: right;\">4.01911</td><td style = \"text-align: right;\">4.01911</td><td style = \"text-align: right;\">4.01911</td><td style = \"text-align: right;\">4.01911</td><td style = \"text-align: right;\">4.01911</td><td style = \"text-align: right;\">4.01911</td><td style = \"text-align: right;\">4.01911</td><td style = \"text-align: right;\">4.01911</td></tr><tr><td class = \"rowNumber\" style = \"font-weight: bold; text-align: right;\">2</td><td style = \"text-align: right;\">6.0</td><td style = \"text-align: right;\">4.01911</td><td style = \"text-align: right;\">4.01911</td><td style = \"text-align: right;\">4.01911</td><td style = \"text-align: right;\">4.01911</td><td style = \"text-align: right;\">4.01911</td><td style = \"text-align: right;\">4.01912</td><td style = \"text-align: right;\">4.01911</td><td style = \"text-align: right;\">4.01911</td><td style = \"text-align: right;\">4.01911</td></tr><tr><td class = \"rowNumber\" style = \"font-weight: bold; text-align: right;\">3</td><td style = \"text-align: right;\">7.0</td><td style = \"text-align: right;\">4.01911</td><td style = \"text-align: right;\">4.01911</td><td style = \"text-align: right;\">4.01911</td><td style = \"text-align: right;\">4.01911</td><td style = \"text-align: right;\">4.01911</td><td style = \"text-align: right;\">4.01911</td><td style = \"text-align: right;\">4.01911</td><td style = \"text-align: right;\">4.01911</td><td style = \"text-align: right;\">4.01912</td></tr><tr><td class = \"rowNumber\" style = \"font-weight: bold; text-align: right;\">4</td><td style = \"text-align: right;\">8.0</td><td style = \"text-align: right;\">4.01911</td><td style = \"text-align: right;\">4.01911</td><td style = \"text-align: right;\">4.01911</td><td style = \"text-align: right;\">4.01911</td><td style = \"text-align: right;\">4.01911</td><td style = \"text-align: right;\">4.01911</td><td style = \"text-align: right;\">4.01911</td><td style = \"text-align: right;\">4.01911</td><td style = \"text-align: right;\">4.01911</td></tr><tr><td class = \"rowNumber\" style = \"font-weight: bold; text-align: right;\">5</td><td style = \"text-align: right;\">9.0</td><td style = \"text-align: right;\">4.01911</td><td style = \"text-align: right;\">4.01911</td><td style = \"text-align: right;\">2.14078e-62</td><td style = \"text-align: right;\">2.14078e-62</td><td style = \"text-align: right;\">4.01911</td><td style = \"text-align: right;\">4.01911</td><td style = \"text-align: right;\">4.01911</td><td style = \"text-align: right;\">4.01911</td><td style = \"text-align: right;\">4.01911</td></tr><tr><td class = \"rowNumber\" style = \"font-weight: bold; text-align: right;\">6</td><td style = \"text-align: right;\">10.0</td><td style = \"text-align: right;\">4.01911</td><td style = \"text-align: right;\">4.01911</td><td style = \"text-align: right;\">4.01911</td><td style = \"text-align: right;\">4.01911</td><td style = \"text-align: right;\">4.01911</td><td style = \"text-align: right;\">4.01911</td><td style = \"text-align: right;\">4.01911</td><td style = \"text-align: right;\">4.01911</td><td style = \"text-align: right;\">4.01911</td></tr><tr><td class = \"rowNumber\" style = \"font-weight: bold; text-align: right;\">7</td><td style = \"text-align: right;\">11.0</td><td style = \"text-align: right;\">4.01911</td><td style = \"text-align: right;\">4.01911</td><td style = \"text-align: right;\">4.01911</td><td style = \"text-align: right;\">4.01911</td><td style = \"text-align: right;\">4.01911</td><td style = \"text-align: right;\">4.01911</td><td style = \"text-align: right;\">4.01911</td><td style = \"text-align: right;\">4.01911</td><td style = \"text-align: right;\">4.01911</td></tr><tr><td class = \"rowNumber\" style = \"font-weight: bold; text-align: right;\">8</td><td style = \"text-align: right;\">12.0</td><td style = \"text-align: right;\">4.01911</td><td style = \"text-align: right;\">4.01911</td><td style = \"text-align: right;\">4.01911</td><td style = \"text-align: right;\">4.01911</td><td style = \"text-align: right;\">4.01911</td><td style = \"text-align: right;\">4.01911</td><td style = \"text-align: right;\">4.01911</td><td style = \"text-align: right;\">4.01911</td><td style = \"text-align: right;\">4.01911</td></tr><tr><td class = \"rowNumber\" style = \"font-weight: bold; text-align: right;\">9</td><td style = \"text-align: right;\">13.0</td><td style = \"text-align: right;\">4.01911</td><td style = \"text-align: right;\">4.01911</td><td style = \"text-align: right;\">4.01911</td><td style = \"text-align: right;\">4.01911</td><td style = \"text-align: right;\">4.01911</td><td style = \"text-align: right;\">4.01911</td><td style = \"text-align: right;\">4.01911</td><td style = \"text-align: right;\">4.01911</td><td style = \"text-align: right;\">4.01911</td></tr><tr><td class = \"rowNumber\" style = \"font-weight: bold; text-align: right;\">10</td><td style = \"text-align: right;\">14.0</td><td style = \"text-align: right;\">4.01911</td><td style = \"text-align: right;\">4.01911</td><td style = \"text-align: right;\">4.01911</td><td style = \"text-align: right;\">4.01911</td><td style = \"text-align: right;\">4.01911</td><td style = \"text-align: right;\">4.01911</td><td style = \"text-align: right;\">4.01911</td><td style = \"text-align: right;\">4.01912</td><td style = \"text-align: right;\">4.01911</td></tr><tr><td class = \"rowNumber\" style = \"font-weight: bold; text-align: right;\">11</td><td style = \"text-align: right;\">15.0</td><td style = \"text-align: right;\">4.01911</td><td style = \"text-align: right;\">4.01911</td><td style = \"text-align: right;\">4.01911</td><td style = \"text-align: right;\">4.01911</td><td style = \"text-align: right;\">4.01911</td><td style = \"text-align: right;\">4.01911</td><td style = \"text-align: right;\">4.01911</td><td style = \"text-align: right;\">4.01912</td><td style = \"text-align: right;\">4.01911</td></tr></tbody></table></div>"
      ],
      "text/latex": [
       "\\begin{tabular}{r|cccccccc}\n",
       "\t& σ\\_init² ↓ | Φ\\_init → & -100.0 & -1.0 & 0.0 & 1.0e-5 & 1.0 & 5.0 & \\\\\n",
       "\t\\hline\n",
       "\t& Float64 & Float64 & Float64 & Float64 & Float64 & Float64 & Float64 & \\\\\n",
       "\t\\hline\n",
       "\t1 & 5.0 & 4.01911 & 4.01911 & 4.01911 & 4.01911 & 4.01911 & 4.01911 & $\\dots$ \\\\\n",
       "\t2 & 6.0 & 4.01911 & 4.01911 & 4.01911 & 4.01911 & 4.01911 & 4.01912 & $\\dots$ \\\\\n",
       "\t3 & 7.0 & 4.01911 & 4.01911 & 4.01911 & 4.01911 & 4.01911 & 4.01911 & $\\dots$ \\\\\n",
       "\t4 & 8.0 & 4.01911 & 4.01911 & 4.01911 & 4.01911 & 4.01911 & 4.01911 & $\\dots$ \\\\\n",
       "\t5 & 9.0 & 4.01911 & 4.01911 & 2.14078e-62 & 2.14078e-62 & 4.01911 & 4.01911 & $\\dots$ \\\\\n",
       "\t6 & 10.0 & 4.01911 & 4.01911 & 4.01911 & 4.01911 & 4.01911 & 4.01911 & $\\dots$ \\\\\n",
       "\t7 & 11.0 & 4.01911 & 4.01911 & 4.01911 & 4.01911 & 4.01911 & 4.01911 & $\\dots$ \\\\\n",
       "\t8 & 12.0 & 4.01911 & 4.01911 & 4.01911 & 4.01911 & 4.01911 & 4.01911 & $\\dots$ \\\\\n",
       "\t9 & 13.0 & 4.01911 & 4.01911 & 4.01911 & 4.01911 & 4.01911 & 4.01911 & $\\dots$ \\\\\n",
       "\t10 & 14.0 & 4.01911 & 4.01911 & 4.01911 & 4.01911 & 4.01911 & 4.01911 & $\\dots$ \\\\\n",
       "\t11 & 15.0 & 4.01911 & 4.01911 & 4.01911 & 4.01911 & 4.01911 & 4.01911 & $\\dots$ \\\\\n",
       "\\end{tabular}\n"
      ],
      "text/plain": [
       "\u001b[1m11×10 DataFrame\u001b[0m\n",
       "\u001b[1m Row \u001b[0m│\u001b[1m σ_init² ↓ | Φ_init → \u001b[0m\u001b[1m -100.0  \u001b[0m\u001b[1m -1.0    \u001b[0m\u001b[1m 0.0         \u001b[0m\u001b[1m 1.0e-5      \u001b[0m\u001b[1m 1.0  \u001b[0m ⋯\n",
       "     │\u001b[90m Float64              \u001b[0m\u001b[90m Float64 \u001b[0m\u001b[90m Float64 \u001b[0m\u001b[90m Float64     \u001b[0m\u001b[90m Float64     \u001b[0m\u001b[90m Float\u001b[0m ⋯\n",
       "─────┼──────────────────────────────────────────────────────────────────────────\n",
       "   1 │                  5.0  4.01911  4.01911  4.01911      4.01911      4.019 ⋯\n",
       "   2 │                  6.0  4.01911  4.01911  4.01911      4.01911      4.019\n",
       "   3 │                  7.0  4.01911  4.01911  4.01911      4.01911      4.019\n",
       "   4 │                  8.0  4.01911  4.01911  4.01911      4.01911      4.019\n",
       "   5 │                  9.0  4.01911  4.01911  2.14078e-62  2.14078e-62  4.019 ⋯\n",
       "   6 │                 10.0  4.01911  4.01911  4.01911      4.01911      4.019\n",
       "   7 │                 11.0  4.01911  4.01911  4.01911      4.01911      4.019\n",
       "   8 │                 12.0  4.01911  4.01911  4.01911      4.01911      4.019\n",
       "   9 │                 13.0  4.01911  4.01911  4.01911      4.01911      4.019 ⋯\n",
       "  10 │                 14.0  4.01911  4.01911  4.01911      4.01911      4.019\n",
       "  11 │                 15.0  4.01911  4.01911  4.01911      4.01911      4.019\n",
       "\u001b[36m                                                               5 columns omitted\u001b[0m"
      ]
     },
     "metadata": {},
     "output_type": "display_data"
    }
   ],
   "source": [
    "GridEstimation(LL_AR_Estimation,x, Φ_init, σ_init3, sigma_est=true)"
   ]
  },
  {
   "cell_type": "markdown",
   "metadata": {},
   "source": [
    "Unstable values appear for σ_init² ≥ 9"
   ]
  },
  {
   "cell_type": "markdown",
   "metadata": {},
   "source": [
    "For stable values, let's see if the initial conditions have an impact on the accuracy of estimation : "
   ]
  },
  {
   "cell_type": "code",
   "execution_count": 20,
   "metadata": {},
   "outputs": [
    {
     "name": "stdout",
     "output_type": "stream",
     "text": [
      "MAPE table (percentage) :\n"
     ]
    },
    {
     "data": {
      "text/html": [
       "<div><div style = \"float: left;\"><span>5×10 DataFrame</span></div><div style = \"clear: both;\"></div></div><div class = \"data-frame\" style = \"overflow-x: scroll;\"><table class = \"data-frame\" style = \"margin-bottom: 6px;\"><thead><tr class = \"header\"><th class = \"rowNumber\" style = \"font-weight: bold; text-align: right;\">Row</th><th style = \"text-align: left;\">σ_init² ↓ | Φ_init →</th><th style = \"text-align: left;\">-100.0</th><th style = \"text-align: left;\">-1.0</th><th style = \"text-align: left;\">0.0</th><th style = \"text-align: left;\">1.0e-5</th><th style = \"text-align: left;\">1.0</th><th style = \"text-align: left;\">5.0</th><th style = \"text-align: left;\">10.0</th><th style = \"text-align: left;\">100.0</th><th style = \"text-align: left;\">1000.0</th></tr><tr class = \"subheader headerLastRow\"><th class = \"rowNumber\" style = \"font-weight: bold; text-align: right;\"></th><th title = \"Float64\" style = \"text-align: left;\">Float64</th><th title = \"Float64\" style = \"text-align: left;\">Float64</th><th title = \"Float64\" style = \"text-align: left;\">Float64</th><th title = \"Float64\" style = \"text-align: left;\">Float64</th><th title = \"Float64\" style = \"text-align: left;\">Float64</th><th title = \"Float64\" style = \"text-align: left;\">Float64</th><th title = \"Float64\" style = \"text-align: left;\">Float64</th><th title = \"Float64\" style = \"text-align: left;\">Float64</th><th title = \"Float64\" style = \"text-align: left;\">Float64</th><th title = \"Float64\" style = \"text-align: left;\">Float64</th></tr></thead><tbody><tr><td class = \"rowNumber\" style = \"font-weight: bold; text-align: right;\">1</td><td style = \"text-align: right;\">1.0e-5</td><td style = \"text-align: right;\">0.0885718</td><td style = \"text-align: right;\">0.0886136</td><td style = \"text-align: right;\">0.0885482</td><td style = \"text-align: right;\">0.0886572</td><td style = \"text-align: right;\">0.0885838</td><td style = \"text-align: right;\">0.0885835</td><td style = \"text-align: right;\">0.0886245</td><td style = \"text-align: right;\">0.0886012</td><td style = \"text-align: right;\">0.0886068</td></tr><tr><td class = \"rowNumber\" style = \"font-weight: bold; text-align: right;\">2</td><td style = \"text-align: right;\">1.0</td><td style = \"text-align: right;\">0.0885898</td><td style = \"text-align: right;\">0.0885811</td><td style = \"text-align: right;\">0.0886285</td><td style = \"text-align: right;\">0.0886062</td><td style = \"text-align: right;\">0.0885728</td><td style = \"text-align: right;\">0.0886496</td><td style = \"text-align: right;\">0.088642</td><td style = \"text-align: right;\">0.088551</td><td style = \"text-align: right;\">0.0886025</td></tr><tr><td class = \"rowNumber\" style = \"font-weight: bold; text-align: right;\">3</td><td style = \"text-align: right;\">3.0</td><td style = \"text-align: right;\">0.0886944</td><td style = \"text-align: right;\">0.0885162</td><td style = \"text-align: right;\">0.0885761</td><td style = \"text-align: right;\">0.0886512</td><td style = \"text-align: right;\">0.0885544</td><td style = \"text-align: right;\">0.0886344</td><td style = \"text-align: right;\">0.0885984</td><td style = \"text-align: right;\">0.0885846</td><td style = \"text-align: right;\">0.0886089</td></tr><tr><td class = \"rowNumber\" style = \"font-weight: bold; text-align: right;\">4</td><td style = \"text-align: right;\">5.0</td><td style = \"text-align: right;\">0.0885992</td><td style = \"text-align: right;\">0.0886356</td><td style = \"text-align: right;\">0.0886724</td><td style = \"text-align: right;\">0.0885825</td><td style = \"text-align: right;\">0.0885604</td><td style = \"text-align: right;\">0.0886499</td><td style = \"text-align: right;\">0.088596</td><td style = \"text-align: right;\">0.0886128</td><td style = \"text-align: right;\">0.0885968</td></tr><tr><td class = \"rowNumber\" style = \"font-weight: bold; text-align: right;\">5</td><td style = \"text-align: right;\">7.0</td><td style = \"text-align: right;\">0.0885704</td><td style = \"text-align: right;\">0.0886055</td><td style = \"text-align: right;\">0.0886269</td><td style = \"text-align: right;\">0.0885924</td><td style = \"text-align: right;\">0.0886052</td><td style = \"text-align: right;\">0.0886216</td><td style = \"text-align: right;\">0.0885931</td><td style = \"text-align: right;\">0.0885844</td><td style = \"text-align: right;\">0.0886194</td></tr></tbody></table></div>"
      ],
      "text/latex": [
       "\\begin{tabular}{r|cccccccc}\n",
       "\t& σ\\_init² ↓ | Φ\\_init → & -100.0 & -1.0 & 0.0 & 1.0e-5 & 1.0 & 5.0 & \\\\\n",
       "\t\\hline\n",
       "\t& Float64 & Float64 & Float64 & Float64 & Float64 & Float64 & Float64 & \\\\\n",
       "\t\\hline\n",
       "\t1 & 1.0e-5 & 0.0885718 & 0.0886136 & 0.0885482 & 0.0886572 & 0.0885838 & 0.0885835 & $\\dots$ \\\\\n",
       "\t2 & 1.0 & 0.0885898 & 0.0885811 & 0.0886285 & 0.0886062 & 0.0885728 & 0.0886496 & $\\dots$ \\\\\n",
       "\t3 & 3.0 & 0.0886944 & 0.0885162 & 0.0885761 & 0.0886512 & 0.0885544 & 0.0886344 & $\\dots$ \\\\\n",
       "\t4 & 5.0 & 0.0885992 & 0.0886356 & 0.0886724 & 0.0885825 & 0.0885604 & 0.0886499 & $\\dots$ \\\\\n",
       "\t5 & 7.0 & 0.0885704 & 0.0886055 & 0.0886269 & 0.0885924 & 0.0886052 & 0.0886216 & $\\dots$ \\\\\n",
       "\\end{tabular}\n"
      ],
      "text/plain": [
       "\u001b[1m5×10 DataFrame\u001b[0m\n",
       "\u001b[1m Row \u001b[0m│\u001b[1m σ_init² ↓ | Φ_init → \u001b[0m\u001b[1m -100.0    \u001b[0m\u001b[1m -1.0      \u001b[0m\u001b[1m 0.0       \u001b[0m\u001b[1m 1.0e-5    \u001b[0m\u001b[1m 1.0  \u001b[0m ⋯\n",
       "     │\u001b[90m Float64              \u001b[0m\u001b[90m Float64   \u001b[0m\u001b[90m Float64   \u001b[0m\u001b[90m Float64   \u001b[0m\u001b[90m Float64   \u001b[0m\u001b[90m Float\u001b[0m ⋯\n",
       "─────┼──────────────────────────────────────────────────────────────────────────\n",
       "   1 │               1.0e-5  0.0885718  0.0886136  0.0885482  0.0886572  0.088 ⋯\n",
       "   2 │               1.0     0.0885898  0.0885811  0.0886285  0.0886062  0.088\n",
       "   3 │               3.0     0.0886944  0.0885162  0.0885761  0.0886512  0.088\n",
       "   4 │               5.0     0.0885992  0.0886356  0.0886724  0.0885825  0.088\n",
       "   5 │               7.0     0.0885704  0.0886055  0.0886269  0.0885924  0.088 ⋯\n",
       "\u001b[36m                                                               5 columns omitted\u001b[0m"
      ]
     },
     "metadata": {},
     "output_type": "display_data"
    }
   ],
   "source": [
    "σ_init4=[1e-5 ; collect(1:2:7)]\n",
    "println(\"MAPE table (percentage) :\")\n",
    "GridEstimation(LL_AR_Estimation,x, Φ_init, σ_init4, Φ)"
   ]
  },
  {
   "cell_type": "code",
   "execution_count": 21,
   "metadata": {},
   "outputs": [
    {
     "name": "stdout",
     "output_type": "stream",
     "text": [
      "MAPE table (percentage) :\n"
     ]
    },
    {
     "data": {
      "text/html": [
       "<div><div style = \"float: left;\"><span>5×10 DataFrame</span></div><div style = \"clear: both;\"></div></div><div class = \"data-frame\" style = \"overflow-x: scroll;\"><table class = \"data-frame\" style = \"margin-bottom: 6px;\"><thead><tr class = \"header\"><th class = \"rowNumber\" style = \"font-weight: bold; text-align: right;\">Row</th><th style = \"text-align: left;\">σ_init² ↓ | Φ_init →</th><th style = \"text-align: left;\">-100.0</th><th style = \"text-align: left;\">-1.0</th><th style = \"text-align: left;\">0.0</th><th style = \"text-align: left;\">1.0e-5</th><th style = \"text-align: left;\">1.0</th><th style = \"text-align: left;\">5.0</th><th style = \"text-align: left;\">10.0</th><th style = \"text-align: left;\">100.0</th><th style = \"text-align: left;\">1000.0</th></tr><tr class = \"subheader headerLastRow\"><th class = \"rowNumber\" style = \"font-weight: bold; text-align: right;\"></th><th title = \"Float64\" style = \"text-align: left;\">Float64</th><th title = \"Float64\" style = \"text-align: left;\">Float64</th><th title = \"Float64\" style = \"text-align: left;\">Float64</th><th title = \"Float64\" style = \"text-align: left;\">Float64</th><th title = \"Float64\" style = \"text-align: left;\">Float64</th><th title = \"Float64\" style = \"text-align: left;\">Float64</th><th title = \"Float64\" style = \"text-align: left;\">Float64</th><th title = \"Float64\" style = \"text-align: left;\">Float64</th><th title = \"Float64\" style = \"text-align: left;\">Float64</th><th title = \"Float64\" style = \"text-align: left;\">Float64</th></tr></thead><tbody><tr><td class = \"rowNumber\" style = \"font-weight: bold; text-align: right;\">1</td><td style = \"text-align: right;\">1.0e-5</td><td style = \"text-align: right;\">0.477874</td><td style = \"text-align: right;\">0.477836</td><td style = \"text-align: right;\">0.477863</td><td style = \"text-align: right;\">0.477819</td><td style = \"text-align: right;\">0.477847</td><td style = \"text-align: right;\">0.477871</td><td style = \"text-align: right;\">0.477841</td><td style = \"text-align: right;\">0.477867</td><td style = \"text-align: right;\">0.477831</td></tr><tr><td class = \"rowNumber\" style = \"font-weight: bold; text-align: right;\">2</td><td style = \"text-align: right;\">1.0</td><td style = \"text-align: right;\">0.477837</td><td style = \"text-align: right;\">0.477853</td><td style = \"text-align: right;\">0.477839</td><td style = \"text-align: right;\">0.477828</td><td style = \"text-align: right;\">0.477818</td><td style = \"text-align: right;\">0.477822</td><td style = \"text-align: right;\">0.477834</td><td style = \"text-align: right;\">0.477824</td><td style = \"text-align: right;\">0.477854</td></tr><tr><td class = \"rowNumber\" style = \"font-weight: bold; text-align: right;\">3</td><td style = \"text-align: right;\">3.0</td><td style = \"text-align: right;\">0.477857</td><td style = \"text-align: right;\">0.477829</td><td style = \"text-align: right;\">0.477826</td><td style = \"text-align: right;\">0.477896</td><td style = \"text-align: right;\">0.47789</td><td style = \"text-align: right;\">0.477858</td><td style = \"text-align: right;\">0.477799</td><td style = \"text-align: right;\">0.477834</td><td style = \"text-align: right;\">0.477822</td></tr><tr><td class = \"rowNumber\" style = \"font-weight: bold; text-align: right;\">4</td><td style = \"text-align: right;\">5.0</td><td style = \"text-align: right;\">0.477836</td><td style = \"text-align: right;\">0.477796</td><td style = \"text-align: right;\">0.477872</td><td style = \"text-align: right;\">0.477841</td><td style = \"text-align: right;\">0.477835</td><td style = \"text-align: right;\">0.477849</td><td style = \"text-align: right;\">0.47781</td><td style = \"text-align: right;\">0.477834</td><td style = \"text-align: right;\">0.477835</td></tr><tr><td class = \"rowNumber\" style = \"font-weight: bold; text-align: right;\">5</td><td style = \"text-align: right;\">7.0</td><td style = \"text-align: right;\">0.477829</td><td style = \"text-align: right;\">0.477834</td><td style = \"text-align: right;\">0.477806</td><td style = \"text-align: right;\">0.477836</td><td style = \"text-align: right;\">0.477836</td><td style = \"text-align: right;\">0.477812</td><td style = \"text-align: right;\">0.477811</td><td style = \"text-align: right;\">0.477811</td><td style = \"text-align: right;\">0.477879</td></tr></tbody></table></div>"
      ],
      "text/latex": [
       "\\begin{tabular}{r|cccccccc}\n",
       "\t& σ\\_init² ↓ | Φ\\_init → & -100.0 & -1.0 & 0.0 & 1.0e-5 & 1.0 & 5.0 & \\\\\n",
       "\t\\hline\n",
       "\t& Float64 & Float64 & Float64 & Float64 & Float64 & Float64 & Float64 & \\\\\n",
       "\t\\hline\n",
       "\t1 & 1.0e-5 & 0.477874 & 0.477836 & 0.477863 & 0.477819 & 0.477847 & 0.477871 & $\\dots$ \\\\\n",
       "\t2 & 1.0 & 0.477837 & 0.477853 & 0.477839 & 0.477828 & 0.477818 & 0.477822 & $\\dots$ \\\\\n",
       "\t3 & 3.0 & 0.477857 & 0.477829 & 0.477826 & 0.477896 & 0.47789 & 0.477858 & $\\dots$ \\\\\n",
       "\t4 & 5.0 & 0.477836 & 0.477796 & 0.477872 & 0.477841 & 0.477835 & 0.477849 & $\\dots$ \\\\\n",
       "\t5 & 7.0 & 0.477829 & 0.477834 & 0.477806 & 0.477836 & 0.477836 & 0.477812 & $\\dots$ \\\\\n",
       "\\end{tabular}\n"
      ],
      "text/plain": [
       "\u001b[1m5×10 DataFrame\u001b[0m\n",
       "\u001b[1m Row \u001b[0m│\u001b[1m σ_init² ↓ | Φ_init → \u001b[0m\u001b[1m -100.0   \u001b[0m\u001b[1m -1.0     \u001b[0m\u001b[1m 0.0      \u001b[0m\u001b[1m 1.0e-5   \u001b[0m\u001b[1m 1.0      \u001b[0m\u001b[1m\u001b[0m ⋯\n",
       "     │\u001b[90m Float64              \u001b[0m\u001b[90m Float64  \u001b[0m\u001b[90m Float64  \u001b[0m\u001b[90m Float64  \u001b[0m\u001b[90m Float64  \u001b[0m\u001b[90m Float64  \u001b[0m\u001b[90m\u001b[0m ⋯\n",
       "─────┼──────────────────────────────────────────────────────────────────────────\n",
       "   1 │               1.0e-5  0.477874  0.477836  0.477863  0.477819  0.477847  ⋯\n",
       "   2 │               1.0     0.477837  0.477853  0.477839  0.477828  0.477818\n",
       "   3 │               3.0     0.477857  0.477829  0.477826  0.477896  0.47789\n",
       "   4 │               5.0     0.477836  0.477796  0.477872  0.477841  0.477835\n",
       "   5 │               7.0     0.477829  0.477834  0.477806  0.477836  0.477836  ⋯\n",
       "\u001b[36m                                                               4 columns omitted\u001b[0m"
      ]
     },
     "metadata": {},
     "output_type": "display_data"
    }
   ],
   "source": [
    "println(\"MAPE table (percentage) :\")\n",
    "GridEstimation(LL_AR_Estimation,x, Φ_init, σ_init4, sigma_est=true, σ)"
   ]
  },
  {
   "cell_type": "markdown",
   "metadata": {},
   "source": [
    "# AR model on each month"
   ]
  },
  {
   "cell_type": "markdown",
   "metadata": {},
   "source": [
    "Parameters for each month"
   ]
  },
  {
   "cell_type": "code",
   "execution_count": 22,
   "metadata": {},
   "outputs": [
    {
     "data": {
      "text/plain": [
       "12-element Vector{Float64}:\n",
       " 1.5\n",
       " 2.0\n",
       " 4.5\n",
       " 7.0\n",
       " 8.0\n",
       " 3.0\n",
       " 4.5\n",
       " 1.0\n",
       " 7.0\n",
       " 2.5\n",
       " 3.0\n",
       " 6.0"
      ]
     },
     "metadata": {},
     "output_type": "display_data"
    }
   ],
   "source": [
    "Φ_month=[4,1,8,2,7,9,2,4,1,3,1,2]/10\n",
    "σ_month=[1.5,2,4.5,7,8,3,4.5,1,7,2.5,3,6]"
   ]
  },
  {
   "cell_type": "markdown",
   "metadata": {},
   "source": [
    "Generating the series associated"
   ]
  },
  {
   "cell_type": "code",
   "execution_count": 23,
   "metadata": {},
   "outputs": [
    {
     "data": {
      "text/plain": [
       "6086-element Vector{Date}:\n",
       " 2000-11-01\n",
       " 2000-11-02\n",
       " 2000-11-03\n",
       " 2000-11-04\n",
       " 2000-11-05\n",
       " 2000-11-06\n",
       " 2000-11-07\n",
       " 2000-11-08\n",
       " 2000-11-09\n",
       " 2000-11-10\n",
       " ⋮\n",
       " 2017-06-22\n",
       " 2017-06-23\n",
       " 2017-06-24\n",
       " 2017-06-25\n",
       " 2017-06-26\n",
       " 2017-06-27\n",
       " 2017-06-28\n",
       " 2017-06-29\n",
       " 2017-06-30"
      ]
     },
     "metadata": {},
     "output_type": "display_data"
    }
   ],
   "source": [
    "n_month=200\n",
    "x=SimulateMonth(4.,Date(2000,11,1),Φ_month,σ_month,n_month)\n",
    "Date_vec=collect(Date(2000,11,1):(Date(2000,11,1) + Month(n_month) - Day(1)))"
   ]
  },
  {
   "cell_type": "markdown",
   "metadata": {},
   "source": [
    "Separation of the months"
   ]
  },
  {
   "cell_type": "code",
   "execution_count": 24,
   "metadata": {},
   "outputs": [
    {
     "data": {
      "text/plain": [
       "12-element Vector{Vector{Any}}:\n",
       " [[-0.8742944132189718, 1.5380226629411402, -1.374460472739487, -2.087856965374933, -2.0533668399300287, -0.3068925752715106, -2.7521921183823985, -0.8070469337985233, -1.0736089890502973, -3.557841118578305  …  1.1798558912780837, 0.2131769888633976, -1.1706064304341077, 2.1506065138016894, 0.9420866218324002, -2.0753514051652653, -2.7180033262916705, -0.4868430263627238, -1.3479349432416734, -0.1515956203150729], [-2.163280511528164, -0.44066377383437827, 0.07107063258357277, -0.7661473587961299, -0.5242290002702481, 0.17265018710402233, 0.4861793776198813, -2.802644771992067, -2.5827357603200074, -1.1475143579981693  …  0.023626879836710024, -0.969215304976802, 2.277163491670322, 2.6587509715164703, 0.9231820005671857, 2.103756383497975, 0.8747137172400139, 1.0621660512911657, -0.9865727591690163, 2.1553435464274284], [2.5723743086615523, 1.9136173690672296, 2.6013373734188514, 0.6280794670128926, -0.7129397360724437, -1.692263802710891, -1.417434283360942, -2.9861201892140463, -2.0899406363774817, -1.4265556186266743  …  -0.2644349824603641, 0.5408656646566287, 1.0373310888093978, 0.19291763024378095, -1.4723675763331958, -4.272902559099676, -0.47260218126636167, -4.301493065237141, -5.492478782729532, -1.6641652530871165], [-3.1816880213044016, 0.27262343284913637, -3.3590665070741443, -0.9909247323198581, -0.35853771534750967, 2.658868750276309, 1.7105252351361506, 0.3969529472979023, -0.13734055357917402, -1.896456551192896  …  -0.17547149093267184, 0.3913129475847874, 2.0840788475060115, 1.1798690010366597, 1.4039965189674533, 0.7241459754879349, -1.458895808429067, -1.3906736607136685, -0.715908377112505, 2.532605540186464], [-1.4908867490649216, 1.2816059377270448, -1.3866005767111647, 0.4807062279296582, -0.9681662371818658, 2.338165869369392, 1.0650919336859408, 1.6394781624764008, -0.3917409463819894, -0.7489228369121321  …  -0.32896027643700987, -0.11775933205658314, 0.3129507716664853, -1.0191196917225522, -0.9263097442696752, 1.3769630947268157, -0.5710696353478986, 1.7741912184468318, -1.0155482245988683, 3.0819213671584986], [-1.0924228372445182, -1.381477901718709, -1.3381800901194536, -0.13887968590213634, 2.0963578623499237, 1.46267924287949, -2.751138108913435, -3.506140839935459, -0.28867485368783186, -3.0634076711104767  …  0.45303263385329917, -0.934524968388174, -2.504982404784462, 0.5037656811418014, 2.774885608934746, 1.2870605827544979, -0.34885524099301246, 0.07771326570575829, 2.599317671529855, 0.4140314427603009], [-3.530501252439068, -1.655536609070123, -2.4697131093649025, -0.3097898921143565, -0.21387390617619034, -1.8902907864080274, 0.14120864108368258, 0.042383281930252856, 1.6679839959853728, -0.9183734032906111  …  1.1348076371067748, 1.4248094864007133, 1.8216130833712971, 3.165353022104733, 2.7629434951971286, 2.308275463818135, 0.2745648672290284, -3.0387789412602197, -3.259781028355569, -4.439686312090766], [2.2396293022005707, 3.0425450103693943, 0.9996241971283231, -1.964082868275215, -0.17123928420728607, 0.2823991446807781, 0.26996340581698663, -1.7420829288171413, 1.4043396147720597, 0.6013536506506488  …  1.7210107410886049, -0.265471804216857, 0.361581252122764, 0.21521001012629237, 0.36629735129335117, -0.07751085107205036, 0.49357671231554245, 0.9211881396209206, -1.674243698289584, -3.1790083252442125], [0.2579996420851782, -1.2749248343026722, 1.675059785040665, 1.2893933860677869, 0.5264334367910459, -0.22534812222109354, 0.22695477483725834, -0.7941093309089141, -0.4156075560422476, 0.21885209618248747  …  -1.2497047283238591, -0.5439038447876551, -0.6824874260644636, -0.8448943434486769, -0.23132581323571821, 0.8683484240842909, 0.4596096700550083, 2.6759628442446517, -1.219548790280198, -2.3242168997780017], [-0.9605548241041686, -0.35263434731513704, 1.0246063952272864, -0.408997986367901, 1.3291313291472733, -0.0744402952556591, 2.08581838535491, 1.3071090660922402, 0.9214237814062278, -0.2853626642086772  …  1.6444480884418557, -1.4515652725595256, -2.9582279484174316, 0.1807597369932521, 0.7204729293159379, -1.5159401023727688, -1.9676448137403546, -0.09252250178403099, 2.671033293706668, -0.38038305376308856], [-1.402372394271985, -0.266470414739049, -1.5873210690855182, -0.14545135709335166, -1.0815038803511081, -1.519984910682318, 0.36525578874062514, 0.3373725398978783, 2.231421745217471, 0.27491993445505647  …  3.16913972850876, 2.8395518216888878, 1.7507357205041845, 1.1024533136571977, -1.3967207498853376, 0.4719589964132219, -1.287730555468865, 0.9212980420379981, 0.5327118433643061, 2.3833060246871716], [-1.210514945534527, -1.638150567263016, -0.2868678282258553, -0.7868221916479778, -3.8022906185269933, -2.477851633104234, 1.2203832055565917, 0.1379515540501387, 0.24769507390223294, -3.608355174377268  …  2.088954677319342, 0.6750595977199962, 0.5479703259851358, -0.7524286461129165, 0.0962217590070204, -0.17200829103768767, -1.8327525293365916, -1.7029236971915376, -0.9566664726255956, 0.8445454462105648], [3.2197326169478018, -0.34949722482386947, 0.2348026228245608, 1.3045813444569798, -1.4646460647831332, -0.6974962074716984, 0.33922897884881653, 0.3185152585180774, -0.8886370645868014, -3.1579540382704856  …  -3.8708856327791743, -2.2959507898892983, -2.829689132234324, -1.2836467638016458, -1.5493007862336654, -1.6815347549101565, 0.12235845684531532, 0.08939295310738216, -0.965676431886437, -0.5584303788171787], [-2.9570435157657666, -0.14767539235329052, -3.7411735035298452, -4.079601644121633, -1.9468311988881568, 1.5311655309096617, -1.002178523168699, -1.174190959025971, -1.187939814928746, -2.591187250940683  …  -1.3982694020311581, 1.7230815992420254, 2.7861221866941412, -0.5412207250845309, -0.9732772874557638, 1.5687837912373914, 2.3627301389121618, 1.0509906961700124, -0.22020625967442586, 0.025636052567938133], [1.8064570196951841, -0.6311511913555813, -0.6865334208359084, 1.0808030187591833, -0.7085767306564039, -0.00741115488040317, 0.3155788953970241, 0.2999894732538075, -1.9511286918332695, 0.367617700690534  …  -0.7658903185505899, 2.1033218239043263, 1.0285717132872985, -0.28459607010929433, 0.5149240506100157, 2.1971541800094085, 2.35032537285322, 0.604363480795814, -1.4832391389556965, -1.3179932515379689], [4.012889475696005, 1.3321397038536282, 0.3254565202342632, 1.3753204215441577, 1.156875123943692, 2.004672185344266, 0.05187828482282475, 0.7522491918206314, -0.341031421861685, -1.5338020734845104  …  0.25059847078431136, -3.613138644969479, -0.5697299611095521, -1.7275419818901763, -0.6902353165567509, -1.8277980477641833, -0.1195727788886134, 2.7099311941454105, 3.7785115964193783, 4.036819895225452], [-3.845628221295059, -3.092724285290469, -2.576586962395245, -3.9822755484939365, -0.16870703882834004, -0.1927161598078328, 0.3716718584369907, -1.2638123383716233, 2.018641655728964, 0.6363508998857212  …  0.2242784503351929, -3.240536507175372, -0.2896302602944274, -1.2697091063076729, -0.23702484077363228, 0.1515014217083732, 0.6434133813211295, 0.37783829972434935, 1.8928843958535113, 1.7194552473461753]]\n",
       " [[1.033575654509288, 0.8480847623892709, 5.124513642735865, 0.05463118095896807, 1.2861030329983678, -1.9025687153950945, 2.600352810143326, 2.0686746561102205, -0.0803392575462448, 2.8943707626249955  …  0.7602099873352762, -2.1361607072354474, 0.15828672217988846, -1.871012337511582, 4.807940216083738, 5.959828780815359, -0.40623627195692524, 0.42239864498485, 1.184889921960608, -0.11692170120208573], [1.6977761225220165, 1.9427005732255702, 2.969831378283284, -0.5477319000194537, -0.14219590082775607, -0.40620362889985556, 1.2815996487206183, 1.5395830896673037, -1.2739786187502053, 1.4316472751294376  …  2.983318076010153, -1.5767586123614719, -1.134659881918559, -1.6130295517903825, 0.6540159413085471, -0.6591320438922392, -1.1137422564694777, -3.2091859751755503, 0.08590307256334867, 1.9380688663909618], [0.3824360476558505, -2.247345723024551, -1.1016911996578458, -3.584611376334289, 0.4651017445878588, -1.7926380718335946, 0.01268977151545056, -1.3625598114037067, 3.1094603845107485, -1.5002330014705507  …  -1.2020209151326138, -1.3081251539818397, 0.7516008649601951, -0.06374410480579443, 0.978194292376361, -0.9681782949659642, -2.1856853128577978, -0.07283141665622889, 1.92818895764916, -3.05297531314591], [1.528883203934285, 0.6591253418896419, 0.6694537185315648, 1.3593944905986595, -0.24780329647733382, -0.4648458721161145, -0.8118119104646297, 1.0090951435200173, -2.5536512401579867, -3.4524167533489103  …  -2.0114039392754544, -0.29663002904341157, 2.7054223556714025, -0.9519656921971456, -0.9530809523352253, 3.081400050796857, -1.4434004918495076, -1.6280750929467176, 3.647603991232622, 1.8741898846882405], [-1.3382338659252109, 4.48678320230037, 2.1371345631444036, -1.766582832054167, -2.0721516868504004, -2.0666175364868584, -0.7421449614331755, -1.298920811673504, -3.311933001197546, 1.9798211262123817  …  1.7151865920131526, 0.474939020087134, -1.7890449733209035, -1.416856856544372, 1.952619005447639, 0.8095748798875442, -0.3306303797010091, -1.1305315862387548, 3.5594447564930514, -0.6021036233398525], [1.94340078489649, 0.38374716590725844, -2.203402713905869, 1.423956478516803, -1.7656670502554368, -2.965085109977287, 0.3573865454037097, -0.8644301297265614, 1.5775586200619078, 3.827888867249666  …  -2.227323454834671, -3.6104109517199117, -2.2892582745638643, -1.0764457234268048, -1.7558477605264173, -3.219212563214395, 0.0826755268149505, 2.586075569164482, 1.8516576338852313, -2.2754892471381307], [0.757564865609892, 0.10273915574879189, 0.43566885608950173, -2.0379018304102305, -1.8754809837518327, -2.8193951362517695, -2.5919575232350907, 0.3569368729486205, -3.6576978374990237, -0.2728944403472726  …  -0.898391095650255, 0.2412202527181022, 1.9804493316596714, -0.08230198714248393, 1.4773685816999373, -0.686270376819775, 2.2419173535507895, 1.4603218807672778, -0.04401238787360687, -1.759114095044927], [1.900616856177138, 0.6486151551865673, -0.10224779128722644, -1.1447968696444406, -2.648955714591177, 1.9645330572218154, 1.860941757833131, -0.865054751118386, -1.5029884591344533, -1.3258654762342834  …  1.6910396319837695, -3.4921032192341217, 1.002785316629797, 0.39008037831085385, -1.2885555968650417, -2.849133262659782, 3.2045531335042168, 3.231407062841086, -2.3599272473383754, -2.576438272442875], [1.0797294281519587, -0.7352346021388955, 2.2469385609550687, 0.4379025142558856, -0.18582777194203762, 1.2821796258812794, -1.9230689415858302, 0.15606440626807588, -3.9420159250591986, -2.3489011105068567  …  0.37178173233686385, 0.8972165884846117, 1.1231377466949448, 2.719144384412457, 0.09578498983893724, 0.5442451271972469, 0.2741976418149356, -1.7565243059892324, -3.734956803560987, 1.1702845763186198], [0.8527313531195156, 3.367367942152308, 2.283935190568204, -1.7972624402127237, -0.6103289289599838, -0.8201340903895676, -3.2628802441142053, -3.2429200459863816, -1.6331068611863175, 0.5940123073491926  …  2.0258398658252554, 0.6879028256948517, 4.569085370446071, 0.1926405613351555, -0.08020642767820194, 1.288369828741151, 0.17253361211662788, 2.469774375395331, 0.2077953041375176, 0.8592458511407997], [0.888666985432568, 0.9636172284015708, 0.5387716956255181, -0.05458872518152946, -2.5514548806855637, 0.007844595190139858, 0.9519493635868282, -0.2850300426125277, -1.3850550671730197, 1.2322570748588686  …  -0.24780400046496726, 1.6463525035768285, 5.422668893770634, -2.0349233134921594, -0.8881792107527633, -2.4819783535521083, -4.706011423867535, -2.3578786429381138, -0.8151972514067287, -3.505884216673699], [-0.41497966620573434, -2.0445312326355403, -1.105055311469163, 0.9993341002647009, 1.4444941082652467, -2.247909038554078, 0.028981707886160474, 1.560352949119862, -1.0839444421543951, -0.01677813691786678  …  0.16265016847313088, -0.6780028605506467, -3.3707818117134742, -0.3510998508400489, 2.190961881279742, -1.190201340254912, 5.567148970311407, -2.8141040111382742, 1.8443193819347352, -1.6432390742365497], [-1.9886855936099512, -2.3052904070279707, 1.0865162077201205, -2.561445855270471, -0.35079655427492784, 2.085437616096235, 1.0978638671682397, 3.1616881190736525, -1.729755977021947, -3.511959207522695  …  1.058361178173268, 1.7852558103536396, -2.196980662095068, -1.0301667790378044, 1.665292226631315, 2.000784221161127, 2.0822253885288395, -0.3400242971997952, -2.3548600767739414, 0.7316345615435578], [-5.492660645292758, 0.8613242737992911, 0.6088776365956137, -2.9897735064476803, -2.2821732801219006, -3.7367255346566433, 1.5836001671217668, -3.426369394135709, -0.2499542260117018, -1.0110628161349493  …  0.11243774320086819, 2.64249344566322, -1.0610673669941397, -2.1978790862408983, -0.37638403043954943, -0.21293579120527514, 0.25203458992932926, 0.3902484384004281, -1.480327100209973, -3.204844226471113], [1.6686651114133788, 2.873176267737938, 0.21308447995025523, 3.0077783326406657, -1.2724399184844826, 0.43347542192036936, -1.4717679156846997, 0.03941442578355331, 3.1084667588366353, -0.8188218578543868  …  1.0655926499236181, 0.9067065716578336, 1.6501636257681596, -1.1744921395482664, -4.0900695999963395, 0.14090940113565564, -0.6348135926723033, 0.09418560992799296, -0.5335653488016407, 2.012769121327603], [-2.149037529941129, -1.3980067681484474, -3.141531905750548, 1.3158456698888952, 0.6721937824458671, 2.503161967078762, 1.742128994391929, -1.517919856689196, -3.9070641029585054, 2.2193862461148584  …  -0.09909330303967165, 0.8339699231437022, 1.0573690849912187, 0.22817531035183702, 0.8535089803937441, -0.5132998026215992, 1.850016165989532, 0.7983599885617794, 2.7731301307984855, 2.3296196476162865], [3.217982647436026, -0.10415177187101027, 0.930502673180484, -1.4207323859004122, 0.8868538330033076, 0.08179022300614254, 2.3550343618014025, 1.154010765199943, 0.16384197344920215, 0.7774312519897579  …  -2.2762816404726296, -1.9901572256165556, 0.1324149312365253, -0.05915998649596816, -5.3329108036772475, -1.9757352035104354, -0.9089617362860565, 3.2614773888957247, 2.0605400346239335, 3.0637156343033283]]\n",
       " [[-2.2164152756917197, 1.8578911504821356, -0.3911159031113134, -5.750998683275242, 1.2703519698565895, 0.23989541867161013, -3.5885267915906494, 3.1622415602643663, -7.608376554625256, -3.673329237266706  …  5.649267048528307, 12.189653159720738, 2.0709863723705704, 1.4954176995155213, 10.181368673024098, 8.539057958147035, 5.792196829273802, 8.918301369826619, -4.113667988548978, -1.1448769477631706], [-2.271271852446625, 2.088448581457941, 7.400960666049799, 9.579604509171823, 11.97103638744019, 10.577405665761036, 17.079505828442233, 19.440748538757852, 9.498495093048469, 5.1539469335634465  …  -0.2297682205061662, 5.954883817614867, 3.0368332857711513, 5.200390111500563, 6.546599872495703, 4.089455356100203, 2.493971623718186, 4.0229254537469785, 6.421579749744213, 4.592054483314198], [-1.269709567800486, -8.72787616624356, -5.717372574493616, -10.45827426749333, -10.397291277461232, -11.799961161687126, -2.1408395943548815, 1.3070237091891659, -4.09488391513889, -3.6848650315918943  …  -10.27474430028746, -7.866575206763272, -1.895728257071414, -7.519003808981696, -12.805256092231852, -12.503295260144712, -1.7552000724450387, -3.4965602607672825, -4.272930570619482, -0.29414292431073985], [9.356646411344952, 16.580694682627758, 7.648200004676397, 4.018468971920141, -7.01456156147915, -13.164029487515364, -11.305417160631514, -5.215125560885263, 0.321608600438374, 4.634557711314372  …  1.5636895235737844, -0.7664976986856553, -6.153658047783028, -4.5099904223423035, -13.9509141184006, -6.047150867696266, -8.483763656716073, 0.26751601329579344, -5.4001639548605915, -1.163082034380377], [-4.502864877329698, -10.34071496896544, -11.705501348064185, -6.120069295032105, -21.020833978977485, -13.331666919465013, -15.33977595731777, -11.693319544875303, -2.71847381420754, -4.406744338561603  …  -7.737340518094134, -10.241988574324392, -7.526173257596654, -1.1351259745695312, -3.6053310087796375, 8.048876144621849, 9.098279680285518, 15.900020440384635, 11.541725924649477, 10.941981705249395], [-1.483162301362591, -7.55165227949856, -4.927187211030839, 1.1284518950994666, -2.1565402580238247, 0.7346869069769699, 1.1783615139666102, -6.813309923105855, 1.6939842908490972, 3.269754281130413  …  7.5560830611924095, 6.8689222008632385, 5.709560767930417, 12.807707858735363, 11.323562947850643, 7.563590111287995, 14.450388589149512, 8.853714633780646, 5.7281379898297295, 6.868453660503423], [-1.1119388150123946, 1.981776690763333, -0.013446295667286945, 4.8556869612013225, 1.8994337378795425, -0.9367903978036434, -5.372608394858112, -13.484427004196537, -9.178455398354945, -3.9026701293576407  …  0.465012646687198, -0.5991219764432997, 2.114642682999672, -6.704900993702907, -7.005017632172516, -14.649494033020432, -9.859884491262862, -6.895733017093221, -10.576580973399828, -11.783981863456528], [-9.816636849577165, -4.196666670320074, -4.642373178409458, -2.9458734255436223, -3.120965031345217, 3.4557430240434233, 2.0777061401232517, 1.9882592838407491, 3.948624796830313, 1.4666735246691585  …  2.250572979683349, -2.1326135315559114, 4.819107108611137, 11.13899545706818, 1.3391455176690323, 1.2758609985569673, -2.636925841611549, -2.2405407299346716, -9.287652833812952, -13.458895198741367], [-3.231899428219724, 0.6055350190776938, 3.7620723931322293, 7.232526353300395, 15.121129152462103, 8.19715769700924, 7.8795246888994175, 5.465202107104093, 8.479876581525609, 2.045248860051033  …  -10.827608659755203, -3.464230435820916, -3.0783755941408883, -2.5995540293433885, 1.45925956828134, 0.9575095211201141, 2.2975083569458783, 8.830988942594908, 1.1046879847762758, 6.329824468529968], [-2.9917260953631426, -9.719822167336295, -10.782418934407954, -12.571360342387996, -17.877411058192195, -14.010557443227341, 0.8308465524925861, 2.06214030144141, 2.36028412524777, -9.491173423582115  …  0.6479623837188186, -1.1818244588586606, 6.792071300636415, 1.1002750030998385, -1.2605021190937165, 4.315701326776887, -1.0661351350274773, 1.3809285763971277, 2.6287208020863586, 1.5830699344253794], [3.948578100255175, 1.3263417996190559, 5.024296976589572, 8.800276626253364, 18.774392550569132, 16.578045602428922, 13.66264880654006, 8.56494224011013, 9.235340937123514, -3.574691416711997  …  -13.130049748170169, -3.6167472524128055, 4.418397871560414, 3.0191439178823556, 2.1282613226266256, 4.6882966415032925, -0.1641422833586188, 5.611460755820285, 4.673891534763368, 6.313431373447885], [-0.11514134134597298, 1.4872953547921175, 0.8899432726722076, -0.40893481649940944, 5.957514557390406, 5.1043088258289036, 4.1258913857816575, -4.167608521520268, -2.219175341061708, -1.3930215790012213  …  -1.199542195840288, -7.777794086325703, -8.053632630882976, -11.631744447841712, -5.848475332572967, -3.630893158291368, 1.5881138467886649, 1.686211340213267, 2.1479511766982644, 3.9556238146665352], [0.7972643272080493, 6.546629432297954, 7.2917382096397905, 5.724005015914404, 5.767737791329724, 11.130949834587476, 12.378184828442738, 9.645414142688734, 11.951545697963919, 15.271258106897436  …  2.6405951203297624, 7.207052330949841, 14.221003822059352, 1.6105520209972966, -0.8905852548634852, 1.8638485277489254, -0.5317621258605378, 7.850763262124632, -1.5155158118801513, -3.1597847860640873], [-8.555316207895224, -8.264416807735461, -9.711056512558237, -12.51824488831196, -8.331045296719722, -12.744440786486233, -10.123610770496406, -14.282090171831591, -11.695738737764906, -8.517638186728703  …  -4.117271156264692, -4.227232650724486, -3.0662513745224618, -5.320275956403634, -3.6139540558963206, -2.7958255566742816, -6.762959842848282, -9.328303589083804, -12.262756128074155, -3.5551337695631595], [-2.4886346736032, -7.786376693563358, -16.145544755161207, -9.941512451270219, -8.248191868127327, -7.13888244782267, -10.127033991585405, -7.252428243782036, -5.097874658001995, -1.2030960297042137  …  0.2981496700666124, -0.3673751100991687, 2.405730137032969, -7.755343642110596, -7.918894155683348, -9.755470010546563, -8.515196987192626, -9.064241925231231, -4.0896605798662815, 1.5867305834928076], [-0.29900699699382827, 3.21027507129972, 6.426928821590722, 4.877967285436115, 3.1484146425368658, 5.5413276556012825, 5.031911655010779, -2.016351464811059, 2.4841004742189465, 1.201039003719096  …  -2.487194536805289, 0.9967101362948441, -1.6148722060910063, -13.597641228744475, -20.05085262774857, -12.366627417327392, -16.192775229671753, -12.52943293460223, -14.195721273787896, -7.295613506854273], [9.379561496952629, 14.225360610189092, 4.640756988845299, 4.546147419155844, 1.3730354520693044, -5.207430484596381, -12.51291612699038, -12.240454792537948, -13.873269780694105, -13.381658029610414  …  12.78370311170556, 12.427557604471243, 11.128756175665464, 13.605168001676372, -0.021673309768630133, -4.1980144004480335, -3.216440059796815, -0.8366194222634866, 0.44315167886548357, -4.260939530932149]]\n",
       " [[13.538293661477784, 18.09131793235919, 6.231613156150734, -0.09864883534894231, -9.942005978559125, 2.215744270559199, 0.5728033924397256, 1.5897041169838293, 6.404632327235501, -5.442107153696766  …  7.880713149285092, -6.203230301166961, -10.237210257821442, -9.430430149183804, 3.9637397992292955, 3.984049322160987, -17.0399741597545, -9.128664174989945, -0.7743906706695922, -7.640018526100188], [-16.361715744009302, -5.02034421284708, -8.437818880510955, -1.6162027147511575, -5.108734532690256, -0.7058548716479562, 9.162050718178348, 10.369647446198382, 0.643265753761924, 13.244456113066411  …  8.287237201030603, -0.03261646098359017, -2.5505359013616027, -2.698926662118624, 0.22090827197119622, -10.395447350900598, 5.095623078141882, 4.982109552352436, 2.085819871153446, 9.515394281277679], [4.53237018684531, -5.888826740096963, -4.683046178610879, -3.793241329485228, -6.249244192432473, 3.6734971999246877, 7.671271120595851, 3.3167852259618167, 2.355752690474896, 8.355388840426043  …  10.878222867717678, 4.075688376687812, -12.535905069308004, -4.438748678922203, -1.2271525241887469, 4.790217511268099, 6.370836432046081, -12.040949953784304, -3.2271607374618543, 1.8940492009817391], [-9.22454817705166, 3.02232461463827, -0.5281715837038148, -7.586085381679809, 7.7413131215092665, 5.202935240405495, 15.11181477625707, 4.923095468644952, -8.8555082440977, -0.7678461981223581  …  0.9657908427292603, 2.656777492474881, -1.7249897318472895, -0.5939249076730106, 4.614401197686138, -0.2665758215585683, -4.872752831947226, -6.0420863917149745, -12.24255429147053, -7.884679285538633], [2.919311841824493, 15.96647724317336, 0.3315024537118827, -1.5982145498246914, 0.6604746483999507, -1.793333300062106, 18.882338334461632, -2.7936049217647625, 5.041620200236845, 4.71027743933856  …  3.9360901336924, 0.9763201970332137, -0.6165936959604309, -0.9042549905688053, -4.546273728059528, -3.7006480250149796, 6.821945289860799, -3.568239260154079, -10.667020588557108, 4.476171412038265], [9.641021379034086, 5.644950035023033, 12.157159001409696, -6.719109019788047, -10.240017143653189, 12.76973290645769, 3.5046267406021965, 6.242782385207528, -4.922845486638184, 2.6712030469562436  …  9.479094262016051, 3.3767463746507627, -2.128101626988396, 12.019885448804276, 0.8650053434467206, 0.5801728794328125, -2.6587956809274362, -0.5963930442989979, 5.71819898050636, -3.3925942980720905], [-4.687934485825636, 7.527432885779884, 4.221523013849145, -2.1059616325563892, -6.534735398732338, -3.156822286078295, 2.0468644654611095, 10.17473270492911, 8.908842357730832, -2.3843609753575317  …  4.815094888502531, 12.668782093910021, -10.537029807403645, -6.888279434711851, -4.152882131731017, 0.7425214208555453, 9.246735321695821, 0.6961547036740527, 15.567011736331532, -1.1864573672392935], [-2.9460735243056897, 11.389031052624398, -1.9647881245816206, -17.977890875767898, 5.178524249246674, 9.663289596748992, 1.2145833104443824, 9.653781517293625, -0.5479597680636765, -0.5241817716014796  …  -5.722657632572926, -2.881523322192452, 12.779805824551051, -2.0672951524116816, -4.0132604782550425, -13.456060699084178, 1.312506728712684, 8.645061045201112, 11.973000173799633, 2.0911565425726306], [16.447670757624415, 3.966150890352752, -4.126741962722707, 5.351556042118975, 8.917464865564554, 0.35446980692582475, 4.559567672599174, -2.460814864012396, 3.515863241939326, -3.4594581328053233  …  -4.744087417954944, -2.5224396478694855, 1.7619583837145365, -8.399725638411512, -4.545930515147008, -7.29148171076983, -13.069586491961694, -11.251349833241573, -13.532492673542091, 6.273863658459886], [-6.660311862826524, 3.9510842732344, -6.016055050739453, -14.957042642677644, 5.464457051840362, -6.934879518755589, 4.700601747560056, -2.2293696622886565, 7.0051134330193365, -1.385583441020807  …  -7.350443211518359, 9.12995194495089, 1.6040053663116556, -2.686812895674736, -0.05034090814327419, -6.392143396566915, 12.312855268781476, 4.158083657572494, 1.134362054970881, -4.664396781817821], [-3.9347908115414016, -4.959342940283042, -4.968875101314918, 6.940711278398629, -4.4300691894808555, -5.490188690469189, 2.441058425839497, -5.358272423006724, -13.183859896154889, -6.886922185012766  …  4.853645002000421, -7.631832306528828, -7.762154090514992, 1.2330007225465134, -2.9141177114828234, -15.268619821560435, 0.5160658522295445, 4.3112937341539475, 1.451086946079906, -1.9900871924113248], [11.707303580894482, 6.382019440465486, 6.1824957219953, -15.79043253662587, -9.389035209479188, 13.00810472545216, 12.166068367294798, 13.365357391757493, -3.561362239497205, 5.7022129729663185  …  -15.249560525939444, 0.9642162094994711, 3.7591028271832374, -12.491216671429992, -3.9555388736264625, -5.58619504608688, -10.944217714682855, 1.8920976433400507, -12.975590393951403, -2.338213322416115], [-9.24124567576219, 3.136111491864319, 6.153310855906151, 8.149476569419589, -2.0446727869417693, 2.7747303379055244, 4.511957139345792, 3.2674406434422423, 12.043587699383053, 8.790063578102789  …  2.0768377425599267, 8.592066182716602, 7.067853943583646, -3.2925971878846356, -7.000133613553265, -7.543909920307026, -6.74547961367942, -7.025579262459767, -6.655099390995278, -0.23814980053401347], [0.936380155264383, -2.087759675279513, -6.176209621046463, -17.31068877595916, -1.2911108040014274, -9.814628283027403, 1.2255078260768755, -12.963800905938102, -2.3427641211382264, 0.5060923113204093  …  4.637055180969328, -2.9548057157178964, -0.9865847435490183, 5.004357464136913, 4.619682438073699, -2.1668038687405624, -0.8444817216289189, -0.42456187525405076, -10.022217001160705, -8.34736464514514], [-0.3380979415296897, 7.6105465038524605, -0.7422245772181373, -9.107909032940528, -1.215982540963612, 1.5716212468822972, 6.893954012100509, 6.0105189794294684, -3.2624708696114397, -2.334365253949258  …  7.626250810638657, -1.54612577914904, -6.259635193080672, -15.336370266208608, -12.21291216802505, -0.6137783735694962, 3.6192658853593365, 3.5925971521715074, 1.5057497401165798, -3.163102543202653], [-4.29830409525488, -12.57651590557462, -6.539673916034785, -2.996098655702312, -6.916460246091195, 12.395345460848999, -0.7669637413752133, 4.033968177391763, 6.055420054418932, -9.480969928412511  …  -8.568266337757734, -4.023957320581839, -0.8579225030049933, 12.40166950073854, 3.8953221013140373, 3.7102475162902726, 10.475894615555003, -13.218213082107589, -13.682724433890721, 5.211098805288153], [-5.361401394911675, 0.08655887296704434, -3.537915442229878, -11.527388545724717, -11.619330271574318, 0.9771568744474952, -4.40038379964022, 4.3870710034122755, 4.032264863347693, -1.3025207889761687  …  9.893346597022706, 4.360652224303796, 2.8717807099542085, 12.514256165487941, -0.618252531466295, 4.27141688089027, -3.997978765964817, 7.853489425984926, -4.72436981544651, -1.1610194831789997]]\n",
       " [[-2.590641772701582, 12.970090159229919, 8.784745517330876, 2.808688127406808, 12.60004269211172, 5.2717211243282005, 11.212405124824373, 7.280805995873779, 7.723962133550998, 18.891150306305278  …  -33.2661941131936, -7.648786490909538, -2.1408471318634144, -2.0439992541393788, 2.350548189096168, 10.581633068290543, 8.556625392022712, 7.978990584418765, 4.140387458910201, 4.501679963093975], [-5.10623597301909, 7.160640211321134, 14.990217289035504, 11.633587186382238, 10.460934217046104, 12.1384314258745, -14.40992447245181, -6.690089138949967, -6.896306498014283, -6.761522093305641  …  12.33975532448272, 4.3656966994492175, -14.661557033745135, -8.422070163427733, -3.5609789404906214, -1.9876356105646655, -2.1315290721020443, 3.263366366603209, 5.681546270254618, -13.138475550618015], [-5.961837074149685, -2.146577033535351, 2.221556149376533, -11.244758222662865, 0.7640064458383033, -8.591334279396264, -18.882633623325646, -8.390436190852046, -0.17990259266536057, 1.9591092151516214  …  5.4869541435656926, 1.8205095513442675, 4.319219841615038, -3.4931531773767044, 3.19657068083108, 5.360677437730755, 7.687765290858799, 17.613985177444384, 30.68095721914596, 24.465226105547984], [-11.072303154240334, 4.0192910283473715, -11.870456532838727, -5.2722593965849995, 4.423266469386949, 0.07622310730852577, 16.340323533928167, 16.72649168171095, 10.851437985163242, 4.181892063394548  …  6.7754781502073955, -5.772632196847759, -2.7541627112519835, -4.999003083415602, -4.083330077872328, -3.3710850093455296, -8.755349159977177, -21.00299282318953, -7.086269309336542, -12.039580021836562], [3.958026750630093, 10.769272143607674, 7.523106113737282, 10.157189216604795, -0.17577306226098166, -19.862112618257903, -4.8420806507007, 0.8341378180256305, 0.016646684869373818, 3.528674344434784  …  -12.414809848416144, -7.481663650026904, -3.4943552951498074, 10.80212154447418, 7.679999546261797, -0.2737391107100855, 10.060905554889004, 15.097660069395356, -1.470533533611535, -0.2103048572278915], [7.20392786541818, -2.5354747103284083, -0.34365314898460797, -19.809041748442542, -17.640985742286183, 2.519908403741482, 2.282568045490966, -4.184567380191554, 1.7554885309527868, -4.526749152996123  …  -17.49160359225156, -21.5147051177607, -15.862718136995785, -2.6083036875825076, -3.934458133856582, 3.9838813981402525, -5.513689839098169, -4.735445202947864, -2.9731450522764304, 0.13191320097384462], [9.191856062747087, -3.4752109095328647, -2.447540991094995, 6.439110568658937, 3.400818937218257, -8.392741210570195, -15.179926617332878, -8.280024021310721, -10.47840083190504, -2.194175296516712  …  4.2980756165293075, -2.401663675396857, -2.2503944160781773, 7.7404475862612845, 15.979371350508437, 17.24854225779788, 19.931047383639378, 9.808085236323175, 2.679859707266651, 6.022171318716406], [-20.27494885888552, -3.0477460795615006, 6.824293750395633, 16.02037012010663, 5.546118645231796, -8.826590696154131, -2.040648114956497, 1.3985476231470337, 0.18879512141336097, -1.4235826116939132  …  -9.070889839749599, -2.9056418542438336, 3.4868343763333414, -18.908283871535538, -3.6942022138465465, -4.066152489185177, -3.0941280472494896, -1.7388506524187262, -6.180524394308324, 3.55586491568078], [4.810488371172189, 3.7998158102226927, 4.493666193829504, 6.240828570671066, 18.56455635499021, 14.74711156537422, -3.4140153799298574, -3.866149197222237, -5.620018233675072, -4.1478173655814015  …  -13.711756597849838, -12.081997308831177, -9.343140186616449, -10.538552637420366, 7.221686533309666, 12.0791999868704, 10.519520796784246, -6.580401014974842, -1.4707426381047544, 3.511214322840107], [-1.3826049179337037, -15.48268412546074, -22.118922747622676, -21.61552335930128, -4.859449835312336, -2.578431272060884, 2.157497922178673, 0.6422025667168058, -0.23713574854465613, -9.384827235030446  …  0.21578132276644713, 9.932728076909456, 3.6168181715161265, 3.407167055952835, -7.966897842197016, 5.071215477353843, 15.924870567160816, 2.8460244496175147, 1.103344804220808, 2.2466320327664717], [3.3520546868110497, 0.05954984737910074, 7.172970618881086, 9.317916788784975, 8.712185110763976, 11.706195319607769, 13.731105894305982, 25.88719742622782, 17.40475331751582, 9.15909418963329  …  2.975698553162104, 7.74331827437989, 10.127970849639446, 16.005523663259844, 17.167184883373757, 16.774042932039446, 21.55243313234942, 16.780906715020993, 19.2631371600297, 10.295970684793145], [-21.8716411719522, -18.230080075226397, -20.713242699274097, -23.29426611320478, -18.849231022495584, -19.160103121009776, -21.873352435615413, -14.08548467286465, -9.828067679625171, -0.8986507749553123  …  3.25868505485806, 7.822310323498968, -19.610226962669753, -29.26623891641562, -20.578222391831844, -19.93532190576768, -13.873537823241296, -8.575380400824988, 2.9118581663440963, 7.2175100894223565], [9.830728506334369, 6.400961741810049, 3.2684479327807847, -4.966961576478118, -5.357693816060971, 1.7788776923544725, -6.777449509971564, -3.0220713857559005, 1.807936556305875, 2.362424331424849  …  -2.704470061591299, 12.273657560909477, 2.194921330860888, 1.044355996214922, 6.55536411927692, 13.731968754123917, 11.311960822294285, 13.142762596380525, 13.10227817411133, 6.718643795819874], [-3.723159447667524, -2.124933990479857, -7.47756056523507, -0.30154671571345837, 3.8320729408940246, 13.141602859044266, 7.794222138259622, -7.2882362823920595, -3.2936807111206137, -1.7685031612339142  …  -11.376162011953657, -22.55081533489289, -14.57748536664005, 6.124016538963376, 10.927439177529795, 13.79102355886246, 14.818501253774908, 21.841790009216076, 18.427013637696813, 18.0389695911873], [-8.367887565391388, -7.8363343355299255, -3.2208125903406417, 4.6486850978661565, -0.7794165656790213, -4.3407524935920705, -21.058301817331387, -16.93421481442129, 1.923171827210684, 8.276356153023203  …  -4.280477822029742, -26.16899614710722, -18.33653711898001, -16.565386338019493, -13.400419464586111, -6.104674669083412, -6.325266222620431, -5.926720096966594, -6.599412461341911, -3.64375404397481], [17.31981152867674, 7.654459043305027, 7.411696611613026, -13.33300061134381, -19.30961966986238, 1.3250176387511967, -12.688692493857143, -0.157590858883232, -7.52487099269062, 6.654443165658587  …  -8.622079167101834, 1.5489132585644905, -1.7839298559206282, 5.176393716390249, -1.550008633258697, -5.982643439265352, -14.378688340910307, -14.303202474440717, -22.996114044075032, -17.256369879916253], [11.54943353422447, 11.885811678722886, 4.3895910751627, 10.859710549973293, 21.460057906406565, 13.84371768519212, 5.094676445105763, -3.331362886594616, 4.964663796877158, -0.12081557400537202  …  1.6543500867023226, -1.4532778769287733, -15.253590644150009, -24.38439919199095, -18.60182545921508, -18.677001653129803, -10.474129522336286, -8.87184329302017, -22.892043647102504, -2.1319186885448094]]\n",
       " [[4.2569725650077315, 5.833053905481035, 5.359346392186353, 2.191110629849807, 4.998230635712837, 10.726089691453012, 8.111564989169127, 5.129405474960839, 2.996995809251074, 1.7728167588894848  …  -2.857596241044665, -2.990913227875549, -0.733177128122533, -2.4134871592449287, 1.6360162076331273, 4.628450041974437, 5.591499733175791, 7.528903118813766, 11.713857643111558, 13.379341807017122], [-11.928358064470613, -6.752718981079692, -5.059294124015572, -5.016954697828708, -7.625856938653477, -8.176080815607625, -11.136610902070172, -6.464167731691996, -4.4815208145628365, -1.028540448726151  …  4.771514059796308, 6.5901218861208815, 1.426815286412002, -0.5482352565421968, -1.3740168724532378, -4.977556821912993, -2.944213047806832, -5.513733631528281, -2.660923344964767, -4.193806863445416], [22.104574467812373, 20.667080636508295, 18.36885272845827, 20.829425489212223, 22.493106135659204, 25.74416635545291, 23.255854097250783, 20.92882123362199, 21.997343124740752, 16.590923157549085  …  6.427545627958008, -1.2785451141694901, -4.642051197654233, -5.623072417912374, -4.638023010391379, -7.320812898495181, -8.356794568904297, -12.699165161793623, -14.026608540654223, -15.113017836951048], [-12.616304254218093, -10.58625768927172, -13.118345827118771, -13.223736970703493, -14.90219241692294, -14.847472114042365, -14.440732307135194, -12.742103683006789, -9.133865908328518, 0.5587159132208406  …  5.1316781829660485, 2.489247781608815, 4.450791698697873, 3.972438387049035, -1.0842076647475283, 2.2060553825559754, 0.5484309478595819, -0.9004060811290677, 1.1521142153161867, 4.8202219490140354], [2.3381198718461755, 6.240973717478065, 6.805084001925996, 5.321353055030774, 3.8876358945621705, 4.469422961600805, 4.345926509049733, 5.07862378675822, 3.819563607134696, 1.4358884303738266  …  -5.96572217120001, -5.220729517510571, -2.5363225104336538, -2.3746347989396233, -1.2550071839232388, -3.7039499475401847, -3.7498482055536044, -1.8788467967214229, -7.101661920470648, -3.3638358892819564], [1.5450731834741982, 3.360299374427769, 7.224205549630479, 7.313896304687031, 7.856794327686584, 12.722805142640894, 10.872851392345261, 11.333790106268477, 14.997616020968998, 9.889442876216519  …  5.114579733021604, 4.342191610820527, 6.562084783340946, 3.669564497106884, -3.4084170502421633, -2.4014848527296087, -2.6669556138022084, -3.6750105848227195, 0.07826197708349936, -0.5736104112038446], [10.001037478654002, 7.106215566253926, 5.654276603025352, -0.88012578932811, -6.098746168660594, 0.9481790081088519, -0.8171928119518748, -2.443196758777555, -3.255202197348076, -5.21501251290786  …  2.42714312868665, -4.945834497524983, -5.404564466237793, -5.062644968169126, -7.3710686689775455, -6.8032925562044335, -9.351596353793571, -8.214244539911128, -4.373273817443321, -5.234471974347517], [6.74395362153825, 3.50139972257305, 3.846176775160395, 2.8216432419638933, 4.026037458105617, 0.8032999828399467, 1.8109203111275398, -1.2821643952960047, 1.3746087594480794, 4.121601749586577  …  11.690205501761085, 12.3565815654297, 11.636888751277104, 7.868109663445955, 6.098073261575337, 7.328767885644808, 5.580950853288734, 0.008426770920624271, 3.0171428982243573, 4.9753121929471815], [2.6049571551541435, 3.759957869074286, 5.068131083238284, 5.095288397219447, 3.4210414641425024, 4.565362150218167, 2.061153437732424, 5.311029683104476, 2.5201093951520255, -0.6094642451483927  …  10.323215102862603, 7.221393382789209, 5.925419623600624, 11.185729863007912, 9.287910263619167, 11.138488532996423, 10.285206682669429, 5.207704063710738, 0.09208330897756412, -0.17663272178295736], [-3.331548163732191, -4.608936765974458, -0.1913818639053435, -1.7695900313210347, -3.1620940771979384, -4.7974019570621955, -6.887307174452838, -4.071968289209794, -6.01440307121499, -5.336898614980832  …  -1.4618253710206481, -4.767604411297191, -2.833948678957949, -0.505252999321546, -1.3984407498864972, 3.62933977509015, 6.2589581416061275, 5.155668339108817, 5.380862123282595, 4.125816793554109], [11.964341870007058, 11.335450009741699, 9.84475993458634, 10.545189773501379, 11.901009413471641, 10.90801337448743, 6.367088833568307, 3.8510034436136085, -2.1886797844963115, -0.6004341367277137  …  -4.664040642408814, -2.9135293533715956, -5.593845903498172, -6.151973300970604, -4.038009175944589, -1.9774718067372117, -3.624565947109515, 1.0813213317852117, -0.15440288395175672, 3.254401753263097], [8.099772373505289, 2.147450602196119, 3.647699479712762, 4.731652694000527, 5.108629575948248, 4.540873959067334, 8.221729526506188, 16.3845522299869, 11.093326545255785, 9.50891300175972  …  -12.585737778933797, -8.61012339415606, -4.8354172065812, -6.178773376188684, 0.1256975065689545, 0.0735468295301833, 0.7461843138155619, 7.7451033715643725, 8.653304484626767, 12.773301743835784], [2.1718874217861934, 5.7979043751039265, 9.457957932061113, 6.204699216863531, 2.178566904829523, 1.597381486240874, -0.6833884576416795, -0.4443667023669743, -2.8542303723186158, -4.3607773214608425  …  0.8064952028845371, 3.7042030261981904, -0.8867046893116286, 4.09922245580246, 3.46421098221876, 2.05045424312852, 2.32861575710209, 6.368039978931691, 9.120952513949021, 4.509691008892792], [20.386720631684206, 17.087855090730493, 10.709246674710478, 7.506065053070679, 8.319016111752534, 2.1262396635259826, 1.082317030314817, 1.2173592151245853, -0.45152903484439166, 0.1830506315582952  …  15.75377079311183, 13.852680551441942, 12.371258422719832, 12.005489562794814, 9.173690044092735, 8.670949675290894, 6.607844591752703, 2.3051157932739077, 4.9221999959036715, 9.585544575481876], [-6.145593184596002, -4.882863026525697, -1.382060157407413, 0.09409964394790915, 0.6528075276073112, 4.409545689118881, 7.353288447972608, 12.72781156194926, 16.671741322566238, 12.283028547434897  …  13.74347780603917, 10.877028552606905, 4.754104931115073, 0.9998694752600255, 2.1042242530560764, 3.563667385790853, 3.9510561295530184, 5.066912395442053, 9.730306517481818, 9.07913778493452], [-14.179249378279643, -17.150427936836383, -16.240993239508278, -15.053045504177568, -14.205279680878107, -12.22787865807415, -5.553693061233614, -9.297393877513183, -10.243741742470178, -12.162213655142367  …  -5.141779087463904, -8.079651758646524, -9.472867636751882, -10.50875603736952, -5.840210899006948, -4.597562512195939, -0.008742688375341423, 0.44377182492085543, -3.4724014557645253, -6.21436389882129], [1.7966489759907995, 7.182820419861954, 6.081001118332413, 8.891310242605595, 11.074344317136086, 7.939189260708751, 4.12759226781002, 3.4599831659075173, 1.3684838039076825, 0.84311578342673  …  -5.690756918037954, -5.29568938033444, -8.573781885301413, -9.105121786298469, -1.2327652249923426, 0.5795078074474942, -6.9774876510531145, -3.3524131347761448, -0.8440176061364366, -5.555241471024161]]\n",
       " [[4.194310299728029, 8.939002241699425, 2.068183552427771, -4.9642319868357765, -7.722606604576699, -3.788836783998325, -1.9341335839761808, -0.6138908618658321, 0.25870099443808675, -0.06375455759071506  …  -3.7132695663847053, 0.6220841617287901, 0.5195335913257462, -1.895723294359107, 3.648058610686742, -1.3929795573374193, 6.088955667074281, 4.724372828743924, 7.898072970857229, -7.314813865989061], [-2.693656653091085, -6.1560858857685545, 0.1368503905629337, 1.5092321717952535, 4.360333477629344, -2.564432688967073, 0.2071300998970521, 4.274726669737004, 4.539683166070263, 0.4467925224847887  …  -1.8821058618139692, -4.044065136114124, 4.0184185757852555, 3.2579968451050125, -0.8616567186076304, -4.102038401087486, -2.8265193320908475, -0.5697323839935668, 2.3198881350806073, -0.36362591921758497], [-6.699830908067864, -0.9885949539447989, -1.1097298291652116, -4.386639574820188, -6.3620797550969, -9.434703662792117, -3.5468361751343442, -4.776073408573032, -2.762310743778092, 4.77121172065414  …  -1.5852024523075077, -0.4561341505530473, 4.910416071274171, 1.669605798731124, 5.8251332730248215, -3.1700238332722135, -1.5016949810581033, -0.49496469670521753, -0.6149375665421294, 0.2411423578925045], [4.117615153349118, 5.270317497874203, -6.370138008447854, -1.9992293191191872, -6.1111096490228975, 2.808278025034106, 7.305921540874154, -4.493102044874601, 0.715172088836973, -10.038061498084415  …  2.15905919287656, -0.7596577504536097, 2.2454047711753558, -2.2631920281941453, 0.9619455111351765, -0.0578818938797111, 3.5391900165589925, -2.17683877614192, 0.8912090828836827, -3.202139188862936], [1.891980977285137, -7.392618416292134, 4.518661963489604, 1.4648158149440713, -1.7258888233186447, -4.849321207355041, -4.846058751096406, 4.63325520506169, -7.002205657009915, -0.7993627885144795  …  2.5671959112659923, -1.4394481197521312, 0.69598691864783, 0.8692363145737086, 3.5719543396777484, -2.75415860323303, 0.5207420834819323, -3.505190523476875, 8.081931556951526, -3.886577439717504], [3.346369733501286, 2.8830545992920977, 2.594015433778678, -5.289057262517355, 5.923614600663695, 2.3157883058091264, 7.3498864704766405, -2.6379996982841623, -2.6369788241865884, -0.24390730750763995  …  1.9260688701857074, 7.888589289803117, 7.103892801255486, 5.886736700358885, 6.363898313894917, -1.9727384752887178, 0.6695398530573802, 1.4675800249594764, 3.8521883967519694, -2.5160176985353138], [-1.3783807686406522, 4.476357419644341, 5.3433944534341435, 0.1337033023998464, 2.927679893418695, -8.25152929576633, 4.229024725092474, 9.318499201808022, 4.384855064710495, 5.775644187027468  …  -0.5754479327649185, -1.4607024847575663, -3.729118932518847, 0.8783141990343445, 14.857446106954058, -0.6063981144403718, -1.154811428296681, -3.349892520450676, 2.570617580110329, 2.1406295669044217], [8.104440500785625, 3.58156271041178, 6.415631400762638, 4.205201069523413, -2.0026929493830945, 0.3825731629513307, -1.8005826184789766, -2.5744563754333902, -1.5086850050064209, -0.629715525186517  …  -3.9246959492117828, 2.736625987577924, -1.0545861221459403, -6.537453626199545, -2.3778367446370012, -1.1157031149466055, 5.403819098555628, 1.447661540067929, 0.956036750053818, -2.9262477199161143], [2.3984877399830786, 0.25574212444358346, -4.515108435441932, 0.527981637111234, 0.15292070220931647, -0.6485328630328003, -4.276097914953693, 6.4460296141434075, 3.6515118060861464, -4.5419781045482575  …  -1.6840305564124753, -4.0477993511847234, 2.4182884880550533, -1.427416364010618, -1.593368471591931, -7.290348856074983, -1.2317252095205564, 3.104555529031832, 1.0137110056769951, 3.6487724952030187], [-4.1704613352354905, 0.0412460329897788, 4.340468055011695, -1.5500061766346191, -4.669785795833543, 4.211056373699601, -1.7902191431916217, 0.12193247338348046, -0.25838207343377245, -3.9392970518214434  …  -0.41898104441839346, -0.4906101943384258, -5.045935305042554, -2.399878372969657, -1.5880928741358304, 5.616488610681093, -0.42716612806262355, -3.6123308828122993, 5.317393984427676, 6.757808800215826], [6.768929645960673, -3.6282622324473355, 1.3472895702749883, 4.3804571226622855, -11.654119051105242, 2.321200896852575, -4.493354709895236, -0.2571136631493012, -2.45121569653169, -2.787336406333157  …  -4.089394219269784, 3.6672845549489264, 3.898093303693309, 8.343648352257365, -0.332238193092226, 5.761695734876506, 5.663037670672448, 1.2194483566968541, -6.219955971355132, -5.1565263713305285], [4.408790995557973, -0.5024607646910657, 1.4144839917493761, 5.289846416909378, -5.420111398604645, -1.7828688976879894, 2.3608856963779488, -0.46917120473000895, 6.038185359934893, -1.2289923107050948  …  2.9708654437685778, -3.951058826676477, -7.27438626785168, -4.432785134235466, -3.2002407267856277, 4.45862292401408, 2.0337255154821436, 3.379590440633924, 0.9350844441082636, -1.9735393662751168], [-0.31577223502332374, -1.7790225541494287, -0.5116856337161632, 3.0390824095247093, 2.224516731175653, 1.1576380622102178, 4.807293303699957, -2.076747323052479, -1.0854742392556584, 3.008044356745142  …  8.350111253531209, -0.5144386947233852, 5.523718028415618, -2.5610724396312254, 1.5925060771321127, -3.828291268558995, -5.171343518136739, -4.106072738147597, 7.743952824814622, -3.6764392604909073], [3.2499330789644034, -0.5821828604752125, -2.0276376425329614, -6.385017375759035, -6.075371650462536, -1.002353961397855, -5.969256041292191, -2.426619149353375, 6.516819939861662, -3.4739283479012935  …  0.2941210540345798, 3.1077157384674865, -4.335685753647351, 0.8366654610951794, -4.660832388170004, -11.520467269692638, -1.2448980433384569, -2.7189696114909543, 6.595358765488845, -2.128865160052452], [-2.7873287608300616, -6.30069128665128, 7.903283499460889, 5.759645257947573, 2.3370895590474827, -6.288938664141453, -14.68983436252994, 7.563033199520696, 0.4667830912209734, 3.9869236152278114  …  4.6302095579143145, 4.381468668687013, -7.404202153987597, -2.1162716317766717, -3.6174515111702625, 3.5233779631744118, 2.147886647349128, -4.697215372372838, -2.608032516039647, -0.691307072677702], [-0.3127742193188072, 3.4473354101965503, 2.590737550898017, 3.6928397725034463, 0.474456416222558, 1.9471894711449333, 0.4597300012376099, -1.2860031240339587, 7.672881966668637, 0.6692010729278867  …  -3.4897955719620763, -5.4131249730896505, 5.9343834421939174, 7.792961317452695, 2.452513228923534, 7.063126113040817, 2.3010732418052613, 0.8355020591672484, 0.7851713318771504, 3.9446971274281766]]\n",
       " [[-1.7864749417315056, -2.2888039199409285, -1.289923057046837, -1.2679309521683413, -1.3080912418207093, 0.422143670333775, 0.3294368915971928, -0.46058272259161503, 0.9136048294516347, 0.30263709395775173  …  -1.3664666565197277, -1.2850760158944614, -2.2679329417243386, -1.3111831953292685, -2.3889754115147808, -1.823649666267249, -1.8235789170612584, -0.11690892992067736, -1.6300260641651674, 0.5909165428857464], [0.2857675066565696, -1.2515076405158267, -0.11098006509723263, 0.2916305979152658, 0.421092763634194, 1.9855167895126664, 1.4012956003085755, -0.15213043243361646, -1.6329352309746452, 0.14474551448296014  …  1.015806996170098, -0.945814323349789, -1.5179244804083318, -1.0144480643248412, 1.9776681641699443, 2.652604911173867, 0.915611172775526, -0.5118691442482799, -0.7547335442781136, -0.7144861636828603], [0.6703800847327892, -1.5258008571836004, -1.9345669322170296, 0.004765492108780078, -1.6956606303642632, 0.9833718794534322, 0.31621129464974496, -0.164341665149179, -1.796850004143711, 1.339987811680706  …  -0.3678466013462334, 0.46811446242878973, 1.5293639514295794, 0.8714014873922538, 0.8692850720784766, 0.9414862156371923, 0.6889560687199687, 0.5082001184476534, -0.19387393267078226, -0.7307504242921206], [0.20841758901791807, 0.7178404890629837, 0.5486679202985812, 0.5250642738760842, 2.6784635474752374, 0.8824752543377932, 1.5739385201859195, -0.1718208076351837, -0.7870326725571954, -2.14978339125483  …  -1.0616096622073554, 1.060161837221762, 0.7403928777916552, 0.14002673517758832, 0.34457074268010196, 1.0096744149246788, 0.3185729541500174, 0.40243046139038996, -1.5416338828790686, -0.5884934761219491], [-0.23740824520839032, -0.8625506998089066, 0.7532793106857907, 1.3301533135211696, 0.4320404367321065, 1.577545047087158, 1.2669950875863178, 0.8029787938705402, 1.840002300825803, -1.778821036892592  …  -0.2708299380816136, 0.2043265567418095, -0.31444366688296893, 1.364905392981509, -0.5231201796599668, -0.26927632324072004, -0.3578092008031656, -1.2675018304320804, -1.1206828452993465, -0.9764855042086793], [-0.3454703798312607, -0.7562131935628121, 1.1564212492444295, 0.82374823128675, 0.6015338551632732, 0.5751343221693015, 0.2792300655968511, 1.6191230753539925, 0.849226101184714, 1.6777598380352814  …  0.4672060254794682, 1.4001522755561098, -0.17775066422248864, -1.3449435854015788, -1.2656633293588375, -1.7144585298569954, 0.9361358075879841, 2.600581635556223, 1.1264132462661274, 1.784395227956823], [2.5255623325645473, -0.3259738347303325, 0.3179439780940051, -0.49496397932361225, -0.1587636413259685, 1.2320216970039393, 0.46311928208206393, 0.9453320909989302, 0.7554427396847427, 0.3649619093577219  …  1.7025424774767797, 1.4693009508672115, -0.6386207918625814, -0.8068630130536688, -2.08918168225062, -1.8533709969238603, -0.22422693103557922, 1.396478812293205, -0.7383648041753675, 0.4168434820392159], [-0.7098617306924037, -0.836728684956588, -0.16497376526074956, -0.924503264899097, 0.23594432796391318, -0.5446090063574963, 0.3029502902133324, -1.3646851750819058, 0.9114948601256873, 0.03498061431631544  …  1.2183544804423876, 1.333333067367114, -0.4429384721183778, -0.4452734728572914, 0.2955006730154569, -0.4510805982660705, 0.21393705852486405, 0.9801503047761425, 1.1577655024222206, -1.225844177397505], [0.6010028322897605, 1.4216364644114807, 0.9144435182439913, 0.5730278869982994, -0.039305776441356105, -1.5046747396673212, -1.179412957897657, 0.5269795324337283, 3.1883245283438915, 0.7606370015911423  …  2.118332980204888, 0.28624433335003785, 0.8030129841216298, 0.38807336222853295, -0.6875802724182402, -0.7218164368812379, -0.69206407170877, 0.899236644677833, -0.1567853070549155, 1.0381073814056494], [1.6415602744485196, 0.5075473973620542, 1.856492529724525, 2.110425813142433, 0.9894653197774288, 1.4875529954334354, -1.7478615547707275, -1.1220226110229614, -1.7911983775537563, -0.3823893485948737  …  0.12902303510555058, 0.5510392551843165, 1.2085220848921474, 0.8220135869812641, 1.2242365620515683, -0.3028522202539191, 0.1704833650998827, -0.5589700153725143, -0.14022806792501405, 0.8914016435210524], [-2.643153047832722, 0.5860768050310146, -1.3156832218124221, -1.007492663845261, 0.24068389779077037, 0.05161147214450706, 1.716868472194705, 3.138145508646878, 2.7531788144159526, 0.43219045886512275  …  -0.30871157451501513, 1.3713723118080128, 0.4141898023008314, 0.906978309286024, 0.05024906722416589, 1.1921682503264373, 1.9793015890866374, 2.622308390054754, 1.4193880975890596, 0.5821129065348825], [-1.4457722726456015, 0.5345077511688144, 1.5542769387026936, 0.7547633813913434, -0.18864768484313688, 0.8552313629319135, 1.295858201548112, 1.6319467664079301, 0.8932884465359753, -0.2616522515669486  …  0.6607971606566947, 0.751706950785606, 0.8824467615310846, 2.0918037497359143, 1.2781703391823536, 1.2575793133315363, 0.7172689532106579, 1.0979860753870345, 0.8510739358230714, -0.7106801697932142], [-1.6673484161647367, -0.2038539658260532, 0.20827854661582085, -0.9359546003811312, -1.9987706657012148, -1.0076212206128923, 0.1551058954824579, 0.1510961785334037, 0.5917801288991209, -1.3320333022417696  …  0.6145648759242305, 0.1418986821804784, -0.29725582661030436, -0.6748768958219591, -0.04763256380153577, -0.37209525407991273, -0.3784139615473449, 0.5611436891521018, 1.0811311982965544, -1.3208419219529435], [-0.5908068662320753, 0.4589588583809473, -0.6214306975379746, -0.8594847718161076, 1.0668589736778176, 0.6910273559221929, -0.3453605536506226, -0.9704487094100078, -1.277323305185979, -0.6973652682228275  …  0.662163064406424, 2.902031388626909, -0.18458857556459174, -0.5025597126126146, -0.21890427167445536, -0.43675689927614764, 0.31073526979807253, 0.009251106224884828, 0.5477807785572021, 2.4706213455005575], [0.13550555576222623, 0.6092987752907861, -0.8657888955643093, 0.9449350436447861, -1.0665817603350345, 0.14434256639556714, 0.2988827965955199, -0.07167243590740427, -0.07718011774501946, -0.33272007393451963  …  0.5942065764164582, 0.5689726355775792, 0.24018196739250308, 0.8717984533288538, 1.2210300278547586, 0.2870503131973018, -0.5034808769081496, 0.9739787207449482, 1.446961378948763, -0.2989564060423173], [1.872646668846828, 1.9513837262602467, 0.3520954868516788, -0.143047444991084, -0.27448985477926763, 1.611162855432343, 1.0477751903925538, 0.4412437723779366, -0.2971831392683136, -0.8922136282779837  …  1.0916453205993093, 2.499900782190824, 0.40885556244342947, -0.2277669867633857, -0.3907373583827877, 0.6288848716222002, 0.39306491272757405, -0.07525957399865821, -1.9358539118516844, -0.5349999639983121]]\n",
       " [[1.438897210892748, 3.971763743794954, -5.246005952279023, -2.5055356048270596, -0.853912208939495, 5.973233260207575, -6.682362778079442, -12.512406152945482, -0.8426135241628601, -0.9449046348287575  …  -4.638175109609445, -0.3631467560377901, 4.7775704973494, 3.8665367514702966, -3.740653230738718, -6.388115966821536, 2.7804932523191748, -1.159955265421298, -3.923148246161901, 3.1569239971253547], [-5.296537760119794, -9.950261367879154, -8.849750081084554, -4.940755628229642, 1.283449236413123, 14.339571873500352, 7.165113738651297, 0.6843827281978203, 6.868207858204108, 3.571640279970331  …  15.282297946452529, 2.1608337002282085, -10.594964663874318, 3.3136064781387278, -2.8212701418411914, -6.028777285467959, -0.09159910550645489, 5.986387213744275, 8.111636283329446, -7.976559086272959], [0.9058043849586527, 12.440772098363773, 3.697118381068556, -2.652964931079743, -2.6185698127207844, 8.95439747859696, -1.999645393266845, -7.307941892541055, -3.539858994648956, 1.3612151626523221  …  -8.742276841449975, 4.073648176887934, -8.487661151204922, 1.0016022930085406, 12.218451318508198, 0.2194801365731236, -4.301872718974006, 2.7570515065411403, -2.0847985041783965, -2.4850083188726297], [3.4202788926175396, -1.406871342822035, 3.59582795202012, 4.354041405997126, -3.6144631992955105, -13.712174127852416, -0.6633703589108999, -6.640204756658586, 1.470155322401828, -9.966543166701687  …  15.378676786393614, 1.273698416819821, 6.289586388051025, -5.020050292987909, 5.424593251652415, -7.658245544223156, -8.173778697162588, -1.6111159783518467, -5.865670163062623, -4.0775355621528], [9.83760033141209, -4.732336046871893, -6.328875995884346, -2.3219321282665346, -4.899015875456065, 4.907355705422878, -6.594582957060933, -3.30382115607407, 2.249340148545431, -1.3055297419661698  …  1.753057833878152, 8.711024801747431, 9.411947657250595, 6.870958804798805, 0.4392801954721151, -1.696537334809457, -0.8485287448432991, 6.962632538519603, -12.927927622999546, -3.2376287233246046], [5.316075862913688, -0.39458255366799133, -2.5126578968405044, -4.181130679482642, -9.438735513317068, -9.213927052234528, 2.2714341916983516, -10.291712235875481, -13.998300937878836, -1.5047981853898686  …  2.567832985200585, -5.1172023246807665, -5.525739360581362, 8.56442869777241, 1.5834036180697484, 3.751907793182391, 3.5495320683653198, -3.7235744156733555, 2.9981814313393684, 1.006122461125171], [1.940932144004414, 3.1798617508779836, -3.6059425326633123, 3.8874813439813254, -3.6370862081599387, 12.841239554396674, 6.319792712015243, 4.788809431962277, 1.6939899722977243, 3.224605793531009  …  -2.145025891367787, 8.478692667842404, -1.8492221632124746, -8.443716952244475, -6.915607759012807, 5.3046260557178515, 4.40216872389493, 2.856952841080625, -8.038504309613247, 5.629896881884683], [-7.178763037218301, -5.070966838426869, -0.9922351336910094, -7.622928853404612, 2.593163849717052, -0.13591355040098152, -2.2715214931628966, -0.13066364367912475, 4.7594665189042065, 2.4751790905078543  …  -13.760469227789821, 6.642977126585693, 0.5189545924447152, -1.4830596896866104, 4.501324450580131, -7.131161496261107, -11.637364712752916, 6.2637043896906155, 8.268422029391543, -0.45694108553423674], [-7.72184609410328, 0.5342156021608465, 7.148098901707695, 1.8333986105320939, 8.784617778579166, -6.147159624229734, -5.767840067957621, -0.6710211661004784, -12.011249267152337, 9.148554790996126  …  -3.9223092024956263, 8.348463548647253, 4.063146503515865, 0.6062971339960183, 1.444752700087862, 10.331165163726254, -3.306972952925304, 1.287103507620911, -7.45513570313254, -5.087975349303883], [-3.0268768964616832, 2.3918727199668433, -2.520792011614427, 2.5807022701267797, -2.1816378079540764, 5.603326475051128, -4.231199098664717, 12.50197284561169, 3.13668196473673, 8.772396990376183  …  2.08346612243366, 3.273786449224038, 8.21684055914197, 4.10279587897091, 7.399643030188506, 0.6651924487536165, 16.961852133913148, -2.4862467718202987, 1.8023221313298694, 5.3946030752848], [-0.45959683605138896, -1.8740408671392028, -4.976252212550428, 12.446568901448835, -1.0678273990695692, -4.1368628943942065, 1.748061217929577, -9.502630814873863, 2.2824888118668003, 2.62556364645966  …  -2.7138541008198565, 6.9292430838251, -10.154865657707399, 4.432692831809496, 3.8413117705640136, 13.383685834293642, 11.743482565744406, -8.675299511559755, -0.26316452770383814, 1.3260750742769214], [2.2035915263111043, -4.53076994114452, -4.957876915544935, 0.8777686243035956, -1.0153575829787056, -8.72106932716931, 1.2368976191737693, -0.08917288851655258, -10.536787143179783, -10.151533897997865  …  8.856931753707507, 1.8935634426234325, -1.4121927731852542, 6.6036030515730095, -0.6593727684933783, -8.610701574881952, 1.7097975262434368, 2.261057132005344, -10.672617210120695, 0.11002004181653113], [-11.866781204217444, 0.36740605407485183, 3.789065348683485, 5.425110808343911, 0.959509432391807, -7.085611794925444, -0.44658339873833597, 6.221082253256247, -3.0977979158395095, 0.7012379953441884  …  10.358196936852671, 11.045488408021958, -0.8179420185809645, 5.9704516085446935, -11.41365260715706, -6.914494729270548, -1.1957449412318766, -5.99417950491565, -11.899757253827948, 7.100854760292285], [-4.41481648920363, -2.1045026438512027, -2.496683564817398, -7.594609712212057, -4.206009034562062, 10.14568863492694, -7.670244570398666, -6.9104104625603755, -4.406207623570982, -7.164037947558763  …  9.725656350999754, -1.16867474144219, 7.791074228066324, -8.742764173326245, -0.5885146173299525, -0.34429051576980496, -1.993212980903565, 2.723422860653353, 6.04733403519186, -10.128860559088647], [-0.8610225363694542, -7.897237355394139, -4.2830428406556305, -10.237327593578168, -9.852731962871868, -6.9575245174766955, -11.890537610101381, 7.167589126814027, 2.052158773390522, 0.9958106654335872  …  1.320507274114179, -0.8192543789501969, -5.3286467424504345, 2.2956176674024964, 7.026638023516362, 4.2254695704568235, -8.51008202217775, -0.245999171551614, 12.511885164566745, 6.84969142299631], [-1.5993565753860204, -7.046927872754341, -0.2971302319272859, -7.251514683124697, 7.983363788891465, 1.8401697231478709, 10.453708853964669, 7.127568142437463, 3.371624411533476, -7.628076481712633  …  1.4392633084762496, -3.6804429620462864, 2.048971615088516, 9.779355955461185, -8.778169016990319, -5.966991529542528, -7.82085274762892, -4.466488037210825, 10.636750921638207, 4.87688713610016]]\n",
       " [[-0.11012677250125869, -0.1061916037756953, 2.295396503527642, 1.301428153700975, -4.242437485493522, -1.7482979565845687, -0.7188158768852103, 0.1170193426005082, -2.084277817091534, 0.5882463240931137  …  -1.2553895745257568, -0.41826036428011615, -1.6331489381573079, -4.0953622941377725, -3.4312089952292837, -2.509395631418591, -2.1540259653742084, 1.6770359484972293, 0.14514472336386808, 0.2403219103383213], [-5.317618992377177, 0.5199096262295506, 3.673354243298546, -0.7012562810831535, 1.3144744602515213, 1.5879067455440734, 0.145722968827595, 0.7576625284917076, -2.4701143376554424, -2.689747823486786  …  0.6429049840853982, 1.0646986220042718, 3.1632226892145674, -1.291780745313175, 0.13281455208574766, -1.3542282963772063, 2.1449372474949464, 5.018102681579303, 0.1811504831824795, -0.5839995951359291], [1.1454620495148586, -1.3558214086426803, -2.27859734938472, -0.8826475433692644, -2.3994496855897753, -2.5311762963990083, 2.2440195469892394, -2.965146632982553, -3.5818427593358453, -3.7055224017968826  …  -0.09067050455202219, 0.9296597014736682, 5.4635038590237714, 0.21214227866764457, -5.2771923046132025, 0.6189109483958974, -0.42913461383481044, 0.9952242234795985, 2.6205559609041393, 0.47191164560409404], [-2.4050839952951852, -0.5434668196707264, -2.823904075897702, 2.2752339660988072, -0.48082403393446405, -1.4740729925643004, 1.9079080699145603, 4.629861785552353, 3.3795541314220863, 4.463541523738144  …  0.5722238130471804, 1.9930499623925741, 6.294748538363206, 2.354941536396952, -3.206419151467331, -3.028790298315844, -4.146928409050815, -1.7883965051826918, -2.0290900729643013, -2.0345870164006086], [0.568884630412603, -0.5769045225788354, 0.9302290497683874, 4.3547147114460705, 4.6522323118105255, 2.5768646568633566, -0.5103094477430976, 1.530589422778977, -2.8157589837029704, -2.0105536416604406  …  -1.9834095048386264, 0.3554311577163869, 1.6459987329416024, -0.28203774562830697, 3.497815052189222, 3.3298644449926655, 0.6250981844099447, -0.6772146962955161, 2.793273149678873, 2.097139658341238], [0.8247556546023989, 0.2746824895757114, 2.654686474094693, 0.7508555241966739, -0.14826870985271387, 2.3402271191113964, 1.1683438017221235, 1.7817134016233618, -0.6078349497829771, -3.595847486798799  …  -1.5459084604177893, -1.081470161696671, 0.42009466175333837, 3.1319403771406384, -3.1683939709655906, 1.7590988284309566, 0.14842631471185708, 1.8053372249629664, -1.3017397218291495, -0.1636234408466559], [-0.3891297204788067, 0.030652714170464765, -0.5832507906584079, 1.7437567337108186, -2.242499287965765, -1.6655206388341912, -0.9447510106749817, -5.711954267665859, -9.694349702051428, 0.46307008074687017  …  -0.4270600797244487, 1.2506382318256648, -1.72813573888905, 1.4872051502451518, 0.748942901094426, -0.27081513952629865, 1.3029247910717061, -0.4342593442274466, 4.789718523817019, 3.3374362530402903], [0.09340630773292194, -1.653889014457571, -1.502442611532246, -0.35337558335720126, 1.0446484803009226, 1.5561649609068071, -6.100351288108881, -2.0038307106631836, -1.2560623409303386, -2.995067833611686  …  -2.5928730102392317, -1.9664565340781952, 2.3194481937749982, 0.8532243724252139, 1.9218069098579118, -0.14397615673308006, 0.46371137596149553, 0.016234368048900466, -4.229460685175183, 0.19934669461852006], [-2.681818164401051, -2.7185904658532736, 2.480841757982339, -0.5722228915444479, -0.8145585716515331, -1.6209741586818374, -0.5613714270479747, 1.5969888104582026, -1.8824060238215683, -3.6008766171162816  …  -1.725230377654451, 0.8047623843880986, 3.9660378390424906, 5.119481865624598, 2.797358406487681, 1.574085949559376, -0.8074469638764356, -3.368704890931435, -1.310430212401295, -1.0860330663193154], [2.7011549697064927, 3.3836784965106492, 3.4880638749371857, 2.607668271383634, 1.4011289859695668, -1.3623146817293454, -0.7290091249817403, -2.730635646736864, -1.9576306708892741, 4.282702580031444  …  2.4286068536231644, -2.2514626216190505, 6.483052925355401, 4.73252602248921, -3.2642384950539634, 4.415968821199466, 1.558826161712372, -2.856561866861539, -1.8910314558245362, -2.866088958484147], [1.9571847267148907, 2.689706224348683, -0.7617159133447496, -0.6966498707140781, 3.5124028738499495, -2.0910916170119744, -1.1517066652244745, -0.5537858543677023, 3.5154015760273976, 0.6865804697041504  …  0.8815709075011566, 3.884009119832611, 1.0560855712744632, -3.468474179146673, 3.6593208810625075, 3.532794998358165, -0.6057753879164751, -2.46644565380122, -2.05968578157386, 1.6859430052409314], [-2.25935323525611, -3.7520753888149287, -2.284930701536289, -1.950193432095939, 1.2084501944225425, 2.7628390240782514, -0.9220851375539353, 1.765010588748018, 0.20318216572346887, 3.609205220519584  …  -0.7552415849635787, -1.071102803123878, 0.49717783415166966, -0.6039513370069978, -1.5050332736802199, 1.7692504838453538, 4.14072749732648, 3.0009388641881607, 0.2840684184932707, 2.8307860080420046], [-1.1425464609011238, -2.0790939677302798, 1.7570990064944434, -6.619372748040455, -2.89638736133315, -2.4078757140566904, -2.436208207994885, 2.544515844552375, 1.6789158983964247, 1.4230433124366768  …  -5.384248209042924, -4.373824789564436, -0.6433258758593969, 2.1075474577712314, 2.6487085771177004, 2.7084772570571776, 2.8413843926838123, 2.4427518749719725, 2.7832645199300305, -1.5723247970533665], [-4.168934893123091, -3.5022653887880306, -1.5280641625503053, -2.6372557134692833, -0.8010797733871436, -0.571951183261121, 5.010653978764077, 1.533647183301297, -1.3144536930027209, -0.4889219499231705  …  0.36403001196301854, 2.6481990982232, 0.5233281318810894, -0.07960438011695356, -0.5324731111544795, 1.9978813037261516, 1.2530292223718038, -0.1343270740467684, -0.1494958684081702, -0.09490796590165823], [2.2159683041308713, 5.345790396631975, 3.7116360579971537, 0.03099251592594765, -3.095016850464817, -1.2633327621551844, -1.078551103825532, -3.6385666971761372, -4.176710288531822, -2.7984840442374015  …  -2.832246398384866, -2.929140465259207, -0.6444278013564051, -4.444472528932096, -2.0408271392677264, 0.9595745767127649, -0.33600444801712387, 0.5735726579154786, 2.763325271986569, 4.39824497531361], [3.2945246066749903, 2.6514657863606725, 3.3947402509464757, -2.3663185022071724, -2.1047299778464956, -2.941322925228473, -1.4574189080738478, 2.31241180322338, -0.4093731230490185, -0.5004465440239811  …  3.0023119527260156, -1.3268974038182841, -0.9921047587313774, 3.9019992780994017, -1.577932823551864, 0.5362991934235543, -0.2914680546939067, -0.153264636224152, -0.27397366034362963, -0.485592509675986]]\n",
       " [[4.0, 3.6400122198449933, 2.8757946362830733, -0.16277512928589322, 4.7164562057878285, -0.19944685949600294, -0.08862443882267276, -2.351514747383528, -1.251278689426481, -4.032297084269724  …  -1.04977226524802, 0.9528866284329146, 2.5122231714622205, -3.7423361165868734, 3.5014753401669814, 2.609400912393697, -1.471737374957821, -0.414400146441123, 2.7213354454923606, 1.6707837684967128], [-0.7589367157469306, -1.1812631229524508, -2.03003970306446, -1.5029867673771666, -2.4369870709972092, 1.3671967081513503, -0.8212507660200735, 4.0104615990704655, -8.9849283318499, 0.1607186859753379  …  5.599074642771103, 2.217700204118174, -1.9747293770517498, -6.750129879389206, -4.1789649586875175, 0.6869887813906274, 0.18615698555176127, -1.2968370368225226, 1.833638107561957, 1.939558273469616], [-2.66235167635761, 2.4319304100757244, -2.8736344227998467, -6.176955289488518, 7.4109751897645175, 5.271277582914963, 1.5488494663919319, -2.3184210251776722, 1.4486427956873842, 3.1409270738838964  …  -0.9646017814983164, 2.122869178078824, 1.3797353110242938, -3.7427101342179254, 1.3739037103376972, 4.215423155190939, -0.7698376278241952, 1.640021061037389, -2.2608499837496927, -2.6786007601411885], [1.5810695948184725, -2.238548404344319, -2.417438554553369, -4.766672100037406, 0.04388067155072228, -4.556086416455773, -2.614037259158116, 1.2727261749127181, 2.786787262044615, 1.1639719460650262  …  0.6107862798068929, 0.32447323440654047, 4.849014997302968, 0.6620209123073585, -2.5419047764956653, 3.724532745749409, -0.5878599634411186, 4.638402857789023, -1.1982431386122383, 0.016056952327003132], [-8.150834349395442, -4.963597852179094, 1.347504706980137, 2.4830643437156974, -2.5568606226563237, -0.8131304017383186, 1.9601145475314896, -1.344784736669201, -4.056362920612817, 1.3545208627617438  …  1.250918872902841, 1.386202882738581, 3.125295862556064, -1.54186283652919, -1.7704480632963495, 5.936438356486935, 2.063029591250497, -1.8782435215584976, 0.3615904717969306, 3.082667987213258], [5.219614044305704, 5.654691718349555, -2.2661527883240193, -3.4299477642717853, -0.43571580875632726, 6.1266510417021385, -1.3793712450288114, -1.7285248623519205, -5.519092947658598, 0.9504127199251181  …  2.7224200351785264, -0.6762452733401815, 1.3483484567944493, 0.5830758484620786, 0.6333829782876048, -4.080728715939405, 4.882602490200046, -3.135000831977164, -4.694593511330139, -6.0643353479623645], [-4.047313810090824, -3.7670473324625666, 4.939831271157425, -4.685058154183741, 5.038314851471402, -3.3519943485744443, 1.3311734600523328, -2.1601462221848036, 2.4244367224727674, -6.321153974307241  …  0.8025570534788596, 5.0873423126255215, 0.1363670168253226, -3.146987312648513, -1.035399499288864, 2.607931536906674, -2.8461098060844585, 0.6601990309364067, 8.300302528067684, 4.233329432195814], [-3.5655706625107584, 1.2340064293727657, -0.0007013155856254866, -3.140593994137385, -1.091311926713184, 4.957186797059853, -7.112941729709336, -1.9064293373420522, -1.683659625805271, -0.5271726467481448  …  0.013472181303096353, -2.3287126434318357, 4.204698215378213, 2.56905154039114, 0.9391525485122687, -2.8195051266324436, 0.5286038516280112, 0.2955151306909616, -1.37578847750899, 2.2955461684387135], [-1.162640744486379, -5.413228663090528, -1.8058034087798376, -2.1336187717406516, 3.9441847296927173, 6.234512229711618, 2.229757424117706, 3.577151752056879, 3.362257176061969, -0.021040903143034806  …  2.6220818052066206, -1.1218025265620377, 5.591199002828998, -2.468075547381263, 2.94622062089833, -0.8694485754839127, 0.32134998727246905, 1.4163999919613095, 1.9618018015495733, 0.9006777947307218], [0.5378372282608427, 1.9502462015066624, 4.495018149121444, -2.452357130294235, -0.14753605231653322, 1.439438369952916, -0.2357924159576777, -3.416334059101691, 0.8306775202312051, 4.0540853285665746  …  -3.094973449829235, -0.18568638245495128, -1.4113920441593197, -1.7172696492365858, 0.3334493989452417, 2.252873251107111, 2.222275088819417, -2.507204431208589, 2.783127037450703, 3.2875468336307883], [-3.1714703151260233, -2.2719718657697636, -2.7824142785486665, -2.243284710997064, 3.8397657718371687, -3.0143695201333824, 2.4737062100128835, -2.2097906480612757, 1.6408113614980635, 1.8000615099646797  …  0.03812111182108319, 1.0050241600611391, -1.734818518055636, -0.5128277331472773, 5.7190148122363045, -0.9591513187537568, 1.1413521330800098, -0.7200508486748641, 1.3924267953200733, -0.49785697094849357], [3.277863097637063, -7.0363899151714415, 1.095751371464182, 2.5249461272391907, 0.0830446505183784, 3.7800052403749205, -4.566915985124639, -3.852758223261346, 0.418527868439259, -0.34391688626637174  …  -6.6164839861786575, 0.4605695339426399, -3.042643549704602, -2.028783871292908, -0.08163742204420607, -0.02728495278943221, 5.33145943097103, 1.3866950916482672, 0.16023081940758943, -0.34482865410278196], [1.6009513609203097, -1.4864043483728264, 2.8491331005426983, -0.4562537487272677, 4.512610563388822, 0.5675911305692758, -6.629589871698555, -3.720433856370933, 2.241194521903269, 1.2237571501305962  …  3.411064739976986, -0.026637900915490564, 6.818133759078358, 3.0033906550699005, -0.05029406005252379, 3.7240347410186314, -1.3462026315334616, 2.9365602685280425, -0.3472195676913706, 1.2861376481746096], [-0.10341044404648264, -6.4120765447110495, 0.4247870970833598, -1.5043257633756524, 4.625508959774247, 1.113903155969766, -2.5280242194677487, -3.9921071085521915, -1.9203907090497843, 5.331533454831244  …  1.9082864347331354, -4.099213976694288, 1.1573844789603576, -0.792410453944089, -3.919971546852212, -0.8149609227643619, -0.6160346697023127, -3.4222967783093243, 3.3978475940072137, -0.04355261293436308], [-1.575102077033196, 4.918719668557687, 2.1301490051083647, -0.8993436582827697, 1.6794373308115744, -1.0833115113983711, -1.3840553595394898, -3.680206865141049, 2.092954150861198, -0.9395775438432364  …  6.482832599393935, 0.5720598880753235, -2.6042839553730506, -4.042949634942148, -7.388344809700705, 2.542952693844068, -3.357858877644054, -4.187875351477049, -2.542199723443888, -2.060483789525446], [4.038651957790203, -7.554589318896984, 0.5559917220098833, 0.4970679555170938, 0.6881234342287954, -3.504874456189882, -2.3486303763141563, -1.0906466969044526, 0.7067422496834562, 0.958934761828464  …  -0.009663716944704026, -6.162301976254746, 1.510187471187546, 1.0496595073860782, -1.0623746983927613, 1.1971788227375888, 1.71796725691771, -4.032906286914477, -3.7392979715133574, 3.1222191225978158], [-2.2691765897043474, -0.5747483360760131, 4.385031747584054, -0.5348592220254731, 6.472471775864223, -0.07606740850380544, -1.4668440314759112, -1.6684763512517937, 2.4556089019214675, 3.590219844528086  …  -2.438608027852218, -1.3808471312292807, -0.13375010517245967, 3.8060285813494663, 4.03967807018208, -0.8045861981462061, 1.374195765777296, -0.3864757610954962, -0.23824633783381455, 3.0806071404452204]]\n",
       " [[-3.9632106205706656, -2.9911895705471965, -0.5393250969569853, 3.381921753233223, 4.495624298872939, -6.343190407263373, 2.269223278715341, -3.413759163191667, 8.51189493386513, -1.2840149294909393  …  -2.826152983948091, 1.5415094213274019, 3.9224844352183137, -0.5347545018968651, 0.17138246491471382, 10.408799199045099, 3.642745499043964, 1.421769418951289, 1.7173469911141699, -8.612960429497228], [1.3973653014118423, 5.692704807926197, -0.17211338485573568, -2.6166419193045964, 2.5436091321585943, 6.683144658683627, 5.0938142526901995, -0.9805304184756947, 3.7400077513518273, -10.501866366819028  …  -7.007705706507872, -4.091927506929801, 9.312590559443054, 1.0662950540935816, 0.5240182481224551, -5.330381668812601, -6.022496251900811, 0.5027611800335121, 5.653869290678814, -6.254623526125191], [0.5556642502311346, -2.123923827587062, -1.7893430293334844, 0.9245755932029172, 5.371879773537325, -10.931127300828999, -8.655708393847885, 8.801296169943361, -1.8000523804742246, -9.946561157659174  …  -4.634453919786107, -13.830684086518746, -2.2572410492320185, -5.768542197702387, -4.874684710385657, -6.757787546074456, 1.30225138369741, -0.334885370443816, 10.50554315281765, 4.250423146050852], [-8.844668713998024, -3.563067621031008, -5.76666372455052, -1.6515055542896335, -1.3755546777340948, 0.37392630023508255, -0.7235481805304527, 7.987442012822341, -2.0134342549926805, -0.41569227807109865  …  -0.2147800461885562, -2.37730989813938, -1.4541767091232425, -6.499223814320397, 4.794311181075493, -0.7989798441524857, 0.46531036539526005, 5.57997615032493, 10.600325402381223, -8.962264252022434], [-4.65204879531404, -1.657741451925776, 7.8793183940110545, 0.6481990518256932, 2.1030249449164473, 2.421392040329876, -2.927530956699381, -5.738212229056639, 6.427640408939045, 3.0703190180203377  …  -2.5008015039345226, -5.486911281914791, -1.479644929882682, -2.2753777550725784, -5.63926204417301, -7.32087820698934, 5.671750600978643, -1.3119468211647438, -3.9767887519086123, -2.4273760252445844], [7.004398721570649, 6.179340195988752, 3.7451675023541435, -2.3418147446587443, -3.0902077536832078, -9.544469504071994, -3.6923655343390855, 2.345159588746346, -3.304442562501415, 2.774978894866685  …  8.85067404657928, -0.47655220926971564, -0.8987482523539284, 1.7339216013947052, -5.354804979526883, -5.035165252003795, 3.0311211354367886, 5.91990925372675, 6.061350533353162, -4.294253655442762], [1.4291884794548246, 1.413165990939274, 0.5146965890126043, 0.7485959820396042, 0.3443819938277493, 6.543538318458273, 8.339979320516878, 8.378479075219548, 5.672988685634678, 3.4404459623279644  …  -11.54361609811345, -2.3801560668177997, -1.9827879823435675, -2.9909382575721315, 1.304728935751592, -2.712755360441663, 5.654171751573587, -2.440267931809257, -7.915276055199597, -9.527611309606419], [5.902559574173987, -8.61907833673707, 2.663281929236354, -0.9600634516984015, -7.511710413093933, 3.139010636399753, 1.5920619633128834, 4.082595389129569, 4.673359520125399, -4.412037945883279  …  -3.562088753125417, 4.148128013230088, -14.373501978012715, 0.04818551963052542, 4.038788314408841, 2.0603542958253396, 0.19212773811124967, 7.480848044926979, 5.5316515500563845, 6.745322498712586], [-5.893088703811081, -0.455367578434014, -1.2230544575140572, -1.3572135052279455, 0.528176677620241, -6.4566205319705805, 1.139682249499904, 9.598812455941651, -8.022740189337668, -4.441808831780904  …  8.13489936900145, -0.43780568560783806, -4.727663669245042, 3.710675869684783, 1.8180010064959518, 3.1217037369500176, 1.5017247468032706, 7.924716818096877, -3.6074044535338325, -1.7909197957171585], [-6.527648572012725, 2.3644635566517604, 4.976797411215021, 6.207993919281185, -1.990085028086821, -6.690565226258403, -16.444838507221753, 1.5260919467738319, -3.192313912486882, 0.4612470621148065  …  -6.254591455252678, 2.3049433194347073, -2.2842747023772447, -4.552268487058765, -2.874886287311975, 1.7236649332429987, 1.8262164518110144, 7.93255029817335, 1.5917660373252263, -1.8926032555582424], [1.2178576510445562, 5.880600933973212, -2.882385223604143, -4.882669175934209, 1.5126148083060853, 1.0280356850251215, 2.0298995890581435, -7.4863153903114545, -2.9714820249465097, -4.3014798244229455  …  1.3392594054058438, -1.291466222586228, 2.627839415134699, 5.101694740385011, 3.5266852590736164, -1.5709518140777154, 1.9508442828579369, 1.9352774383537992, 3.2419268923445923, -5.386095382380341], [-9.77774643901351, 2.1000098543697714, 3.4014899659085303, -2.4037997267485602, -4.1686787464584425, 0.09174811673590966, 0.24641156623927896, -9.822135224339796, -0.8481826036769367, 3.3768245997747415  …  -4.028140323054184, -1.903435687215616, -1.704130207549341, 1.1153625553328796, -0.48914095858011425, 2.595108062503404, 7.00576520674035, -4.5651785709704935, 0.17472152614772285, -5.048657955235438], [4.021046311890774, -6.845116069676491, -5.420540105356141, -6.312894558455009, 0.8902623060970283, -5.484999283437007, -4.266258212894308, 6.09289958845439, 1.7328909925234972, 0.04056250652650578  …  2.4431286157418324, 3.2716249050480215, 3.373772953733331, 2.667353451246236, -7.459717890759277, 3.6712484868175945, 2.735108829810822, 2.9984322001853947, 5.496815883176032, 3.8855783716213055], [-7.950870304502117, -7.8419149772950405, -11.324244491688187, 7.17777716259101, 14.509031423416138, 4.9947212753783266, -4.787487968040844, 4.012812163341235, 4.705133388803336, -16.247818744287393  …  3.46805021720499, 1.597829890769342, 9.512297318316216, -9.099572033004593, -4.063491489199528, -1.714428341838631, 5.096924923405493, 1.159535551260636, 6.629467260001296, -11.380080008047159], [-4.01437451024474, 5.020073801109559, -2.0920387818686947, -3.944554731963653, 4.206122988071653, -3.5555736202937314, -3.3189387325776583, 3.6700589487332356, 9.183657071892329, 7.678351841357996  …  -6.471742711312377, 5.060959185454867, -2.1856346095935666, -5.280948443151911, -7.974296892665604, -6.500826373088021, 4.929549970593855, -2.1466949344531754, 1.8544567552053972, -0.979182139330802], [-1.085956198019863, 6.569917253999395, 17.210851151851937, 10.1464338999353, 10.76392303675214, 7.113492724981429, 18.18845733537339, 14.93544891730827, -4.990808587516705, 2.01001871023926  …  -9.480061089499953, -10.771837167369913, -4.123693248424699, -4.203063802731147, 1.2544646509668067, 1.5629514665151658, 5.064843699891425, -5.979829543015028, 9.202088845591812, 6.191684132313885], [1.5636188457813889, 1.4579782557378038, -0.2718903788308397, -5.746842962448173, 1.5887214552053277, 0.6373605008057665, 8.550591311485867, 13.410129722385003, 2.5607449686942707, 4.076657047867734  …  1.5685775299296618, 3.1075232733330678, -3.4898246861645696, -2.707416133810608, -0.6725119973658253, -12.529873704678314, -5.07834720307067, -8.134846966874633, -5.980017017062282, -4.852846631022198]]"
      ]
     },
     "metadata": {},
     "output_type": "display_data"
    }
   ],
   "source": [
    "include(raw\"..\\utils\\Separation.jl\")\n",
    "Monthly_date=MonthlySeparateDates(Date_vec)\n",
    "Monthly_temp=MonthlySeparateX(x,Date_vec)"
   ]
  },
  {
   "cell_type": "markdown",
   "metadata": {},
   "source": [
    "## 1.One model per year and per month"
   ]
  },
  {
   "cell_type": "code",
   "execution_count": 25,
   "metadata": {},
   "outputs": [
    {
     "data": {
      "text/plain": [
       "MeanMonthlyEstimation (generic function with 3 methods)"
      ]
     },
     "metadata": {},
     "output_type": "display_data"
    }
   ],
   "source": [
    "MeanMonthlyEstimation(x,p,Estimators::Vector=[zeros(p) ; 1e-5],algo=NelderMead())=\n",
    "(Monthly_stats(mean,MonthlyEstimation(Monthly_temp,p,Estimators,algo),1),\n",
    "Monthly_stats(mean,MonthlyEstimation(Monthly_temp,p,Estimators,algo),2))"
   ]
  },
  {
   "cell_type": "code",
   "execution_count": 26,
   "metadata": {},
   "outputs": [
    {
     "data": {
      "text/plain": [
       "12-element Vector{Vector{Any}}:\n",
       " [(0.2571643972039014, 1.4942433066529743), (0.37501804629518415, 1.342344408594641), (0.5910713222795357, 1.786164666840303), (0.22258981318501508, 1.3708262651331538), (0.30246733134360404, 1.8779603168347554), (0.2456979518602695, 1.677098374990132), (0.7153270129070535, 1.425627059921448), (0.31227809368739995, 1.2103642806258743), (0.020850391804022185, 1.167688007758888), (0.3029030390696757, 1.5343280738923628), (0.2971385936885589, 1.6167261382937015), (0.22437131257734988, 1.4721712311695823), (0.551295125681446, 1.5069044656486708), (0.2654473489085167, 1.8815730909741657), (0.2643617357666759, 1.4926247528064558), (0.5191549764367509, 1.3871174587591), (0.48256957203823503, 1.3358743107654707)]\n",
       " [(0.12083231527990776, 2.281281350143772), (0.33122847541278144, 1.8930852751977527), (-0.10542438282834422, 1.831469125550127), (0.27890434024196187, 1.880164510656696), (0.17386300708029978, 2.052935173060575), (0.3361169730854379, 1.912345877290476), (0.2651943474016859, 1.5415108601233285), (0.07052744869762773, 2.0755690212016673), (0.0537611168761934, 1.737189271115667), (0.3106795562049395, 1.857692422100431), (0.21258172143059437, 2.246806881208295), (-0.41922893281182694, 1.6566715674146695), (0.1083559880682993, 1.8545330718428743), (0.1197019581854991, 1.778227314474347), (-0.16990902922101697, 1.7585651312370254), (0.004938313201253316, 1.8832810461755818), (0.24283556631194178, 1.8422471234265203)]\n",
       " [(0.4669396433405304, 4.700204290711721), (0.8077025712487056, 4.606881238494622), (0.7037611740565541, 4.87042840236894), (0.587321759672295, 5.176541930378218), (0.8656639745627609, 5.677159765213525), (0.7838638121549651, 4.306097022122601), (0.8610835394529714, 4.013043459611375), (0.6469010511248163, 4.725317335623865), (0.8017098846569514, 4.254922570873637), (0.6282886650693914, 4.991057239749846), (0.7443897820087114, 5.419584846608848), (0.6386814281383442, 3.6834407305108), (0.8551326606375642, 5.152234116220743), (0.8404247932877681, 4.1872408664430045), (0.8751646359827333, 4.332106846664021), (0.8940579387984087, 4.360517452931528), (0.8372115138873061, 4.72164768681404)]\n",
       " [(0.4311339121527197, 7.124914252053855), (0.4520963215211907, 6.912600892986517), (0.4423937539465852, 7.489908014238547), (0.2011730912542012, 6.220159188032682), (-0.09876364902212194, 7.0060394255991065), (0.23705925653960963, 7.0832716230979385), (0.35674322848632134, 7.3411805377212085), (0.20602694219412937, 8.130372767019578), (0.48551117908505215, 5.856279116354775), (-0.09825181614402811, 6.217401742412935), (0.18992368183214312, 7.2400701785620285), (0.2299563391540405, 8.285737899269828), (0.46893901481208294, 5.265832416642835), (0.32962233021756243, 6.558736398987168), (0.3309411443174037, 5.826382866427424), (0.06777170430031158, 7.877991596215814), (0.16637920587146637, 6.612918476280925)]\n",
       " [(0.7044721790021351, 10.115978357907732), (0.40845132712288035, 7.6520122767342444), (0.74602358406839, 7.65193592468207), (0.5216701635277152, 7.599869543247505), (0.4711689769492522, 8.410562890127515), (0.5617334674597851, 8.022672029745367), (0.7283283840598294, 6.258705408153816), (0.23599268668201745, 7.39717293314744), (0.7174908398497585, 7.914510376928499), (0.5433870645352237, 8.044087391269647), (0.9106741104500464, 5.54878239583049), (0.7691996652890777, 9.054877319781692), (0.7214559125562301, 6.202532219767086), (0.7025222729075182, 8.878072288507667), (0.7016325290617693, 7.503396581546499), (0.5091480224453973, 8.544388427696065), (0.6684691637747003, 8.81065528034457)]\n",
       " [(0.9800415208550624, 2.54015922231647), (0.784995492263366, 2.723638302803838), (0.9462497122000795, 3.5662862293919297), (0.8987859465384541, 3.044042870782357), (0.7799619957459664, 2.5228588624940604), (0.9491406814211754, 3.124042179655231), (0.7434397312625776, 2.8102689024518273), (0.9018706158603677, 2.4690113055330927), (0.8834628713150228, 2.82915097947914), (0.8637634434110899, 2.203310219534137), (0.8082340943258953, 2.852900916258161), (0.8914628711887164, 3.621967201086796), (0.790914371712482, 2.986098900383501), (0.8981591584949402, 2.7633551649261787), (0.9607065340817182, 2.8072315472917198), (0.9200255147084984, 2.760584942845147), (0.8014030477127487, 3.258953101911882)]\n",
       " [(0.2169148436770286, 4.45701458814471), (0.13664115904354357, 4.109499799204781), (0.4164475390321446, 4.025125695557854), (-0.017925493182834373, 3.8997433634362264), (0.03923451737819917, 4.313705591601307), (0.2163198237672413, 4.00167990280037), (0.2981330218185583, 4.753785063388603), (0.3426148585411886, 4.566689494113441), (-0.08650795833722871, 3.8013372485306753), (-0.047631560781163054, 4.572742059058418), (0.017298302974338466, 4.73454000359513), (0.30423026473314607, 3.7454721116383647), (0.16510612344729547, 4.905420633594316), (0.27065832929534495, 4.6742839449453095), (0.006822428124517452, 5.2578138390766735), (0.043247342127318816, 4.114122983553949)]\n",
       " [(0.5839932289471605, 0.9857513706302512), (0.41429370686966677, 1.1136835777897425), (0.26765287744763044, 1.013745102935384), (0.4439900565444864, 0.9535639989846709), (0.41833988057895166, 0.9849586112702671), (0.6333221542126712, 1.0510124899371827), (0.32809714491106645, 0.8748402590386103), (0.16612862582451088, 0.9345599604708209), (0.32786610600892985, 0.9826122549885978), (0.5411050012742711, 1.0261322581273795), (0.4692603331792484, 1.13649654000943), (0.5076655012761027, 0.8440989651504135), (0.235047795533319, 0.9732774781437329), (0.35255894117209524, 1.1086749200392636), (0.382481717641974, 0.928471696012793), (0.45971393457558674, 1.030566625011385)]\n",
       " [(0.29490776672675434, 6.083884278702932), (0.16722989401825214, 7.948615502315921), (0.1002610400459342, 6.043322818420032), (0.028447033984861876, 6.623854229622664), (0.060961946968274366, 5.47815678184471), (0.21679437567947607, 5.264385972190674), (-0.011378841608950389, 5.784088983130588), (-0.21152805921568765, 6.262208923178391), (-0.12654774981315206, 6.024390703264289), (0.11610802277105284, 5.604896687732757), (0.06342012212199634, 7.1255728799765805), (0.23121194139838558, 5.5488094051983285), (-0.03419377811302377, 7.702454137597938), (-0.1519713131961155, 5.942880855158637), (0.25827591779231107, 6.245702240185973), (0.008385718911495473, 6.741134638685469)]\n",
       " [(0.47586721347091465, 1.7676697494313487), (0.4338561201448162, 2.543378387207468), (0.3841975352296334, 2.7991678774132573), (0.6334887993793825, 2.672722922910725), (0.3018434775531478, 2.2803158697848613), (0.21286887911251984, 1.7267823015075352), (0.3907318283205732, 2.637448939501401), (0.19446617222816448, 2.0962542736936816), (0.40741531995565117, 2.3125197945473333), (0.20270890962284455, 2.9575667948920117), (0.08949141880803702, 2.3224649495859038), (0.370920977317466, 2.399710371701154), (0.41273005000868535, 2.7440941373518415), (0.5449494437846051, 2.157033353920581), (0.65289398641678, 2.226493641397635), (0.20499568673267973, 2.127057613401768)]\n",
       " [(-0.0034444673111326016, 3.1803032150825317), (0.0918060637098688, 3.0640194637903058), (-0.010590530775925068, 3.198300305790961), (0.04324082703847252, 3.1619755894889683), (0.14433730870516986, 2.6342676449914384), (0.06917638345912416, 3.1737996820416186), (-0.21505638209690248, 3.6528272047953885), (-0.13098881523575773, 2.999605427218081), (0.3268742928301018, 3.2546231592149275), (0.06410400786476701, 2.401327312500727), (-0.09785433334885374, 2.862752238653766), (-0.1345938662498994, 3.0494978975662264), (0.06570055531774822, 3.247309414504045), (-0.12306870884281047, 2.6716833011927568), (0.20621058525347513, 3.145361846043948), (-0.22331753410257676, 2.500290901522044), (0.175300882043259, 3.238348157376809)]\n",
       " [(0.27553067792687663, 5.032662123358483), (-0.02104542952029796, 5.993066011348956), (0.14587985736076936, 6.621278890474755), (0.14192851259337258, 5.37639414965666), (0.09742204750422781, 5.137319035058305), (0.14307776532442018, 4.147865538220214), (0.4259332347113163, 5.702029042019473), (-0.11987808306420558, 5.496806457439169), (0.02668394200913707, 5.5127644353512535), (0.34744708340730734, 6.21089465820003), (0.21787141377702865, 4.817046081284638), (0.22796727809098266, 5.104607047873213), (0.27943233359845154, 5.405879094845318), (0.0520801021943266, 6.716320200344918), (0.2716195670735227, 4.609471957244453), (0.5294094753461067, 6.7941594086577), (0.40326036398581727, 5.07301462181039)]"
      ]
     },
     "metadata": {},
     "output_type": "display_data"
    }
   ],
   "source": [
    "Monthly_Estimators=MonthlyEstimation(Monthly_temp,1)"
   ]
  },
  {
   "cell_type": "code",
   "execution_count": 27,
   "metadata": {},
   "outputs": [
    {
     "data": {
      "text/plain": [
       "12-element Vector{Any}:\n",
       " 0.34998270969018785\n",
       " 0.11382110485983733\n",
       " 0.7551940487106338\n",
       " 0.2587444494422747\n",
       " 0.6248129617495133\n",
       " 0.8707422119469506\n",
       " 0.14510022135366493\n",
       " 0.4082198128748544\n",
       " 0.06314900240449156\n",
       " 0.3695891136303688\n",
       " 0.014578604015184016\n",
       " 0.20262471425406822"
      ]
     },
     "metadata": {},
     "output_type": "display_data"
    }
   ],
   "source": [
    "Monthly_stats(mean,Monthly_Estimators,1)"
   ]
  },
  {
   "cell_type": "code",
   "execution_count": 28,
   "metadata": {},
   "outputs": [
    {
     "data": {
      "text/plain": [
       "(Any[0.34998270969018785, 0.11382110485983733, 0.7551940487106338, 0.2587444494422747, 0.6248129617495133, 0.8707422119469506, 0.14510022135366493, 0.4082198128748544, 0.06314900240449156, 0.3695891136303688, 0.014578604015184016, 0.20262471425406822], Any[1.5046844829212753, 1.8872691189541058, 4.657554458902432, 6.885282199523715, 7.859424214436346, 2.875521226420322, 4.3708110201400086, 0.9964028817837451, 6.276522439825367, 2.360667561140532, 3.025664280104385, 5.514798750187526])"
      ]
     },
     "metadata": {},
     "output_type": "display_data"
    }
   ],
   "source": [
    "MeanMonthlyEstimation(Monthly_Estimators,1)"
   ]
  },
  {
   "cell_type": "code",
   "execution_count": 29,
   "metadata": {},
   "outputs": [
    {
     "data": {
      "text/plain": [
       "8-element Vector{Float64}:\n",
       "  1.0e-5\n",
       "  1.0\n",
       "  3.0\n",
       "  5.0\n",
       "  7.0\n",
       "  9.0\n",
       " 15.0\n",
       " 50.0"
      ]
     },
     "metadata": {},
     "output_type": "display_data"
    }
   ],
   "source": [
    "σ_init=[1e-5,1,3,5,7,9,15,50]"
   ]
  },
  {
   "cell_type": "code",
   "execution_count": 30,
   "metadata": {},
   "outputs": [
    {
     "data": {
      "text/html": [
       "<div><div style = \"float: left;\"><span>8×10 DataFrame</span></div><div style = \"clear: both;\"></div></div><div class = \"data-frame\" style = \"overflow-x: scroll;\"><table class = \"data-frame\" style = \"margin-bottom: 6px;\"><thead><tr class = \"header\"><th class = \"rowNumber\" style = \"font-weight: bold; text-align: right;\">Row</th><th style = \"text-align: left;\">σ_init² ↓ | Φ_init →</th><th style = \"text-align: left;\">-100.0</th><th style = \"text-align: left;\">-1.0</th><th style = \"text-align: left;\">0.0</th><th style = \"text-align: left;\">1.0e-5</th><th style = \"text-align: left;\">1.0</th><th style = \"text-align: left;\">5.0</th><th style = \"text-align: left;\">10.0</th><th style = \"text-align: left;\">100.0</th><th style = \"text-align: left;\">1000.0</th></tr><tr class = \"subheader headerLastRow\"><th class = \"rowNumber\" style = \"font-weight: bold; text-align: right;\"></th><th title = \"Float64\" style = \"text-align: left;\">Float64</th><th title = \"Vector{Any}\" style = \"text-align: left;\">Array…</th><th title = \"Vector{Any}\" style = \"text-align: left;\">Array…</th><th title = \"Vector{Any}\" style = \"text-align: left;\">Array…</th><th title = \"Vector{Any}\" style = \"text-align: left;\">Array…</th><th title = \"Vector{Any}\" style = \"text-align: left;\">Array…</th><th title = \"Vector{Any}\" style = \"text-align: left;\">Array…</th><th title = \"Vector{Any}\" style = \"text-align: left;\">Array…</th><th title = \"Vector{Any}\" style = \"text-align: left;\">Array…</th><th title = \"Vector{Any}\" style = \"text-align: left;\">Array…</th></tr></thead><tbody><tr><td class = \"rowNumber\" style = \"font-weight: bold; text-align: right;\">1</td><td style = \"text-align: right;\">1.0e-5</td><td style = \"text-align: left;\">Any[0.349984, 0.11382, 0.755191, 0.258744, 0.624815, 0.870742, 0.145091, 0.408219, 0.0631486, 0.369586, 0.0145751, 0.202621]</td><td style = \"text-align: left;\">Any[0.349985, 0.113818, 0.755194, 0.258746, 0.624811, 0.870742, 0.145092, 0.408222, 0.0631452, 0.369581, 0.0145681, 0.202621]</td><td style = \"text-align: left;\">Any[0.349983, 0.113821, 0.755194, 0.258744, 0.624813, 0.870742, 0.1451, 0.40822, 0.063149, 0.369589, 0.0145786, 0.202625]</td><td style = \"text-align: left;\">Any[0.349985, 0.113812, 0.755197, 0.258748, 0.624812, 0.870743, 0.145095, 0.408223, 0.0631493, 0.369584, 0.0145728, 0.202616]</td><td style = \"text-align: left;\">Any[0.349981, 0.113824, 0.755194, 0.258744, 0.624816, 0.870743, 0.145085, 0.40822, 0.0631496, 0.369588, 0.0145747, 0.202619]</td><td style = \"text-align: left;\">Any[0.349984, 0.11382, 0.755195, 0.258748, 0.624812, 0.870742, 0.145104, 0.408221, 0.0631476, 0.369585, 0.0145712, 0.202618]</td><td style = \"text-align: left;\">Any[0.349984, 0.113823, 0.755194, 0.258743, 0.624812, 0.87074, 0.145093, 0.408218, 0.063151, 0.369584, 0.0145675, 0.202616]</td><td style = \"text-align: left;\">Any[0.349984, 0.113826, 0.755194, 0.258745, 0.624814, 0.870743, 0.145099, 0.408224, 0.06315, 0.369583, 0.0145674, 0.202623]</td><td style = \"text-align: left;\">Any[0.349985, 0.113819, 0.755195, 0.258748, 0.624815, 0.870743, 0.145095, 0.408229, 0.0631477, 0.369588, 0.0145731, 0.202624]</td></tr><tr><td class = \"rowNumber\" style = \"font-weight: bold; text-align: right;\">2</td><td style = \"text-align: right;\">1.0</td><td style = \"text-align: left;\">Any[0.349988, 0.113828, 0.755194, 0.258746, 0.624814, 0.870744, 0.145096, 0.408224, 0.0631468, 0.369586, 0.0145708, 0.202621]</td><td style = \"text-align: left;\">Any[0.349982, 0.113822, 0.755193, 0.258747, 0.624816, 0.870742, 0.145097, 0.408219, 0.0631456, 0.36959, 0.0145647, 0.202621]</td><td style = \"text-align: left;\">Any[0.349981, 0.113821, 0.751523, 0.258749, 0.624815, 0.964793, 0.145096, 0.40822, 0.0631448, 0.36959, 0.0145743, 0.202622]</td><td style = \"text-align: left;\">Any[0.349986, 0.113824, 0.751555, 0.258744, 0.624814, 0.964946, 0.145099, 0.408222, 0.0631465, 0.369587, 0.0145751, 0.202616]</td><td style = \"text-align: left;\">Any[0.349985, 0.113826, 0.755192, 0.258749, 0.624814, 0.870743, 0.145091, 0.408225, 0.0631502, 0.369585, 0.0145774, 0.202625]</td><td style = \"text-align: left;\">Any[0.349984, 0.113823, 0.755192, 0.258744, 0.624811, 0.870745, 0.145098, 0.408224, 0.0631445, 0.369583, 0.0145698, 0.20262]</td><td style = \"text-align: left;\">Any[0.349977, 0.11382, 0.755195, 0.25875, 0.624811, 0.870742, 0.145098, 0.408221, 0.0631506, 0.369586, 0.0145761, 0.202623]</td><td style = \"text-align: left;\">Any[0.349977, 0.113823, 0.755193, 0.258745, 0.624813, 0.870743, 0.145093, 0.40822, 0.0631432, 0.369588, 0.0145691, 0.202622]</td><td style = \"text-align: left;\">Any[0.34998, 0.113818, 0.755193, 0.258747, 0.624812, 0.870744, 0.145097, 0.384062, 0.0631465, 0.369586, 0.0145768, 0.202618]</td></tr><tr><td class = \"rowNumber\" style = \"font-weight: bold; text-align: right;\">3</td><td style = \"text-align: right;\">3.0</td><td style = \"text-align: left;\">Any[0.322648, 0.113823, 0.755197, 0.258748, 0.624814, 0.870739, 0.145097, 2.337, 0.0631488, 0.369583, 0.0145723, 0.202614]</td><td style = \"text-align: left;\">Any[0.494368, 0.113819, 0.755195, 0.258748, 0.624812, 0.870743, 0.145098, 0.230084, 0.0631448, 0.369583, 0.014574, 0.202621]</td><td style = \"text-align: left;\">Any[0.30162, 0.113822, 0.790062, 0.258747, 0.628136, 0.878156, 0.145097, 0.00187091, 0.0631443, 0.369587, 0.0145709, 0.202622]</td><td style = \"text-align: left;\">Any[0.301624, 0.113821, 0.790153, 0.258744, 0.628151, 0.878312, 0.145098, 0.00188129, 0.063146, 0.369589, 0.0145759, 0.202624]</td><td style = \"text-align: left;\">Any[0.353195, 0.11382, 0.755192, 0.258748, 0.624808, 0.870744, 0.145093, 0.314013, 0.063141, 0.369587, 0.0145705, 0.202618]</td><td style = \"text-align: left;\">Any[0.630632, 0.113819, 0.755196, 0.258745, 0.624813, 0.870742, 0.145097, 0.802391, 0.0631475, 0.369584, 0.0145712, 0.202621]</td><td style = \"text-align: left;\">Any[0.515064, 0.113815, 0.755195, 0.258742, 0.624814, 0.870743, 0.145097, 0.0536507, 0.0631455, 0.369589, 0.0145766, 0.202617]</td><td style = \"text-align: left;\">Any[0.302089, 0.113821, 0.755193, 0.258749, 0.624812, 0.870746, 0.145093, 2.61158, 0.0631475, 0.36958, 0.0145688, 0.202621]</td><td style = \"text-align: left;\">Any[0.536675, 0.11382, 0.755195, 0.258742, 0.624815, 0.871171, 0.145094, -0.671066, 0.0631423, 0.369584, 0.0145736, 0.20262]</td></tr><tr><td class = \"rowNumber\" style = \"font-weight: bold; text-align: right;\">4</td><td style = \"text-align: right;\">5.0</td><td style = \"text-align: left;\">Any[1.09711, 0.113819, 0.755194, 0.25875, 0.624816, 0.870741, 0.145095, 0.873308, 0.0631489, 0.336261, 0.0145715, 0.202615]</td><td style = \"text-align: left;\">Any[0.415238, 0.0674634, 0.755194, 0.258746, 0.624811, 0.870741, 0.145103, 0.196461, 0.0631443, 0.196824, 0.014576, 0.202621]</td><td style = \"text-align: left;\">Any[0.0985082, 0.139815, 0.728307, 0.258749, 0.656638, 1.0525, 0.145091, -0.026964, 0.0631434, 0.354567, 0.0145702, 0.202617]</td><td style = \"text-align: left;\">Any[0.0985185, 0.139824, 0.728382, 0.258746, 0.656664, 1.05268, 0.145092, -0.0269594, 0.0631448, 0.354564, 0.0145693, 0.20262]</td><td style = \"text-align: left;\">Any[0.539243, 0.107426, 0.755194, 0.258749, 0.624813, 0.870742, 0.1451, -0.0160614, 0.0631429, 0.369579, 0.014572, 0.20262]</td><td style = \"text-align: left;\">Any[0.325254, 0.105425, 0.755195, 0.258742, 0.624813, 0.870743, 0.145094, 6.82772, 0.0631433, 0.369589, 0.0145717, 0.20262]</td><td style = \"text-align: left;\">Any[1.22849, 0.115726, 0.755196, 0.258745, 0.624812, 0.870742, 0.145093, 0.586278, 0.0631464, 0.369581, 0.0145683, 0.202617]</td><td style = \"text-align: left;\">Any[0.803393, 0.113824, 0.755191, 0.258742, 0.624812, 0.870744, 0.145095, 0.357197, 0.0631456, 0.33624, 0.0145788, 0.202621]</td><td style = \"text-align: left;\">Any[0.00494791, 0.0819053, 0.755191, 0.258747, 0.624811, 0.854913, 0.145095, 2.36731, 0.0631439, 0.369585, 0.0145684, 0.202624]</td></tr><tr><td class = \"rowNumber\" style = \"font-weight: bold; text-align: right;\">5</td><td style = \"text-align: right;\">7.0</td><td style = \"text-align: left;\">Any[1.4071, 0.335897, 0.755194, 0.258752, 0.624816, 0.870743, 0.145092, -1.54927, 0.0631455, 0.266629, 0.0145766, 0.202619]</td><td style = \"text-align: left;\">Any[1.07142, 0.454453, 0.755192, 0.258751, 0.624813, 0.870744, 0.145099, -0.53415, 0.063145, 0.369585, 0.0145734, 0.202616]</td><td style = \"text-align: left;\">Any[0.00197991, 0.0353641, 1.31273, 0.258746, 0.522, 0.8612, 0.145093, -0.00439912, 0.0631437, 0.300475, 0.0145706, 0.20262]</td><td style = \"text-align: left;\">Any[0.00199031, 0.0353779, 1.31293, 0.258746, 0.522011, 0.861343, 0.145087, -0.00439, 0.0631482, 0.300478, 0.0145708, 0.202619]</td><td style = \"text-align: left;\">Any[0.25022, 0.00692603, 0.755193, 0.258748, 0.624812, 0.870745, 0.145101, 3.44914, 0.0631435, 0.330537, 0.0145822, 0.202618]</td><td style = \"text-align: left;\">Any[1.242, 0.462555, 0.75519, 0.258747, 0.624812, 0.870744, 0.145098, 1.66801e152, 0.0631453, 0.33742, 0.0145753, 0.202622]</td><td style = \"text-align: left;\">Any[1.24392, 0.460288, 0.755193, 0.258751, 0.624816, 0.870741, 0.145094, 3.98115, 0.0631479, 0.441341, 0.0145689, 0.202617]</td><td style = \"text-align: left;\">Any[1.49423, 0.142094, 0.755194, 0.25875, 0.624815, 0.870743, 0.14509, -0.076857, 0.0631501, 0.270514, 0.0145742, 0.202619]</td><td style = \"text-align: left;\">Any[0.785781, 0.0124168, 0.755195, 0.258749, 0.624815, 0.822292, 0.145097, 2.51033, 0.0631444, 0.422418, 0.0145653, 0.202627]</td></tr><tr><td class = \"rowNumber\" style = \"font-weight: bold; text-align: right;\">6</td><td style = \"text-align: right;\">9.0</td><td style = \"text-align: left;\">Any[1.04877, 0.535205, 0.755195, 0.258746, 0.624816, 0.765242, 0.145092, 2.50255e152, 0.0631417, 0.732866, 0.0420433, 0.202618]</td><td style = \"text-align: left;\">Any[0.531014, 1.34646, 0.755197, 0.258746, 0.624813, 0.871532, 0.145099, -1.94039, 0.0631463, 0.520543, 0.0145747, 0.202616]</td><td style = \"text-align: left;\">Any[0.00432861, 0.0166596, 1.27714, 0.258752, 0.607109, 0.838653, 0.145095, -0.0017425, 0.063146, 0.253236, 0.0107027, 0.202621]</td><td style = \"text-align: left;\">Any[0.00433947, 0.0166729, 1.27734, 0.258752, 0.607135, 0.83878, 0.145094, -0.00173285, 0.063145, 0.253236, 0.0107063, 0.20262]</td><td style = \"text-align: left;\">Any[0.166478, -0.455989, 0.755195, 0.258749, 0.624816, 0.870744, 0.145096, 3.80962, 0.0631452, 0.386849, 0.0145762, 0.202621]</td><td style = \"text-align: left;\">Any[4.92194, 2.08158, 0.755194, 0.258749, 0.624813, 0.870741, 0.145095, 2.37056, 0.0631406, 0.310544, 0.0145705, 0.202618]</td><td style = \"text-align: left;\">Any[0.402187, 1.62131, 0.755194, 0.258744, 0.624815, 0.87074, 0.145096, 1.55668, 0.0631455, 0.517961, 0.0145763, 0.202617]</td><td style = \"text-align: left;\">Any[1.08435, 0.411617, 0.755191, 0.258747, 0.624814, 0.797327, 0.145091, 0.100564, 0.0631429, 0.611503, 0.0423894, 0.202622]</td><td style = \"text-align: left;\">Any[0.669198, 0.657529, 0.755192, 0.258746, 0.624816, 0.77363, 0.145094, 1.1064, 0.063147, 0.165368, -0.0212876, 0.202613]</td></tr><tr><td class = \"rowNumber\" style = \"font-weight: bold; text-align: right;\">7</td><td style = \"text-align: right;\">15.0</td><td style = \"text-align: left;\">Any[-8.08089e151, 0.62645, 0.755195, 0.25875, 0.624813, 0.999084, 0.145094, 9.17332e152, 0.0631487, 1.30333, -0.0334314, 0.202622]</td><td style = \"text-align: left;\">Any[-0.497245, 0.0120325, 0.755191, 0.258742, 0.624814, 0.761775, 0.145095, -2.61048, 0.0631483, 0.703388, 0.164881, 0.202622]</td><td style = \"text-align: left;\">Any[0.0211893, 0.026798, 0.951122, 0.258746, 0.737243, 1.30255, 0.145093, 0.0173589, 0.0631474, 0.0558671, 0.0543759, 0.20262]</td><td style = \"text-align: left;\">Any[0.0212035, 0.0268133, 0.951222, 0.258747, 0.737286, 1.3028, 0.145097, 0.0173724, 0.0631438, 0.0558799, 0.0543889, 0.202624]</td><td style = \"text-align: left;\">Any[2.46128, -0.391101, 0.755196, 0.258746, 0.62481, 0.853706, 0.145092, 3.81624, 0.0631463, -0.0443611, 0.103484, 0.202619]</td><td style = \"text-align: left;\">Any[2.44449, 0.773359, 0.755196, 0.258741, 0.624813, 0.871362, 0.145097, 6.46127, 0.0631432, 1.61088, -0.572904, 0.20262]</td><td style = \"text-align: left;\">Any[1.34446, 1.04499, 0.755195, 0.258747, 0.62481, 0.835509, 0.145099, 2.20924, 0.0631455, 0.497718, 0.0267383, 0.20262]</td><td style = \"text-align: left;\">Any[-8.08897e151, 0.80095, 0.755195, 0.258747, 0.624812, 0.999527, 0.145097, 2.21602, 0.0631427, 1.3145, 0.105079, 0.202619]</td><td style = \"text-align: left;\">Any[1.16787, 1.5288, 0.755195, 0.258749, 0.624812, 0.672452, 0.145096, 7.39429e152, 0.0631473, 0.152162, -0.182463, 0.202626]</td></tr><tr><td class = \"rowNumber\" style = \"font-weight: bold; text-align: right;\">8</td><td style = \"text-align: right;\">50.0</td><td style = \"text-align: left;\">Any[6.67384e151, 8.83706e151, 0.521198, 0.258746, 0.624814, -0.441323, -0.230506, 1.83191e153, 0.0631429, -0.845945, 0.15588, 0.044044]</td><td style = \"text-align: left;\">Any[-2.5278, -2.5278, -0.419742, 0.258746, 0.624813, -2.68337, 0.782265, -2.5278, -0.046631, -1.14225, -1.35414, 0.323101]</td><td style = \"text-align: left;\">Any[0.00456938, 0.0168493, 0.734424, 0.233282, 0.621989, 0.503934, 0.0372926, -0.00148471, 0.0291972, -0.00148471, 0.0412374, 0.0967155]</td><td style = \"text-align: left;\">Any[0.00458029, 0.0168627, 0.734545, 0.233277, 0.622017, 0.504045, 0.03731, -0.001475, 0.0292007, -0.001475, 0.0412556, 0.0967251]</td><td style = \"text-align: left;\">Any[2.78918, 2.68863, 0.759245, 0.25731, 0.624809, 1.44048, 0.128426, 2.79547, 0.0705445, 2.71344, 1.19279, 0.186154]</td><td style = \"text-align: left;\">Any[2.71331, -1.67121, 1.32143, 0.258746, 0.624812, 1.67693, 0.60403, -0.761266, 0.063143, 1.20011, 0.642333, 0.283342]</td><td style = \"text-align: left;\">Any[4.73138, 1.51843, 0.720731, 0.253795, 0.624815, 0.520374, 1.61261, 1.75208e152, 0.0333019, 4.13673, 0.293602, 0.516244]</td><td style = \"text-align: left;\">Any[8.70134, 22.1849, 0.459868, 0.254171, 0.624812, 0.296428, 1.20806, -29.0433, 0.0631495, -6.76809e151, 0.197462, 0.194861]</td><td style = \"text-align: left;\">Any[4.71455e152, -8.3469e151, 0.436932, 0.258745, 0.599221, 2.52226, 0.493556, -7.27011, 0.0650347, -10.8289, 0.372722, 0.214997]</td></tr></tbody></table></div>"
      ],
      "text/latex": [
       "\\begin{tabular}{r|ccc}\n",
       "\t& σ\\_init² ↓ | Φ\\_init → & -100.0 & \\\\\n",
       "\t\\hline\n",
       "\t& Float64 & Array… & \\\\\n",
       "\t\\hline\n",
       "\t1 & 1.0e-5 & [0.349984, 0.11382, 0.755191, 0.258744, 0.624815, 0.870742, 0.145091, 0.408219, 0.0631486, 0.369586, 0.0145751, 0.202621] & $\\dots$ \\\\\n",
       "\t2 & 1.0 & [0.349988, 0.113828, 0.755194, 0.258746, 0.624814, 0.870744, 0.145096, 0.408224, 0.0631468, 0.369586, 0.0145708, 0.202621] & $\\dots$ \\\\\n",
       "\t3 & 3.0 & [0.322648, 0.113823, 0.755197, 0.258748, 0.624814, 0.870739, 0.145097, 2.337, 0.0631488, 0.369583, 0.0145723, 0.202614] & $\\dots$ \\\\\n",
       "\t4 & 5.0 & [1.09711, 0.113819, 0.755194, 0.25875, 0.624816, 0.870741, 0.145095, 0.873308, 0.0631489, 0.336261, 0.0145715, 0.202615] & $\\dots$ \\\\\n",
       "\t5 & 7.0 & [1.4071, 0.335897, 0.755194, 0.258752, 0.624816, 0.870743, 0.145092, -1.54927, 0.0631455, 0.266629, 0.0145766, 0.202619] & $\\dots$ \\\\\n",
       "\t6 & 9.0 & [1.04877, 0.535205, 0.755195, 0.258746, 0.624816, 0.765242, 0.145092, 2.50255e152, 0.0631417, 0.732866, 0.0420433, 0.202618] & $\\dots$ \\\\\n",
       "\t7 & 15.0 & [-8.08089e151, 0.62645, 0.755195, 0.25875, 0.624813, 0.999084, 0.145094, 9.17332e152, 0.0631487, 1.30333, -0.0334314, 0.202622] & $\\dots$ \\\\\n",
       "\t8 & 50.0 & [6.67384e151, 8.83706e151, 0.521198, 0.258746, 0.624814, -0.441323, -0.230506, 1.83191e153, 0.0631429, -0.845945, 0.15588, 0.044044] & $\\dots$ \\\\\n",
       "\\end{tabular}\n"
      ],
      "text/plain": [
       "\u001b[1m8×10 DataFrame\u001b[0m\n",
       "\u001b[1m Row \u001b[0m│\u001b[1m σ_init² ↓ | Φ_init → \u001b[0m\u001b[1m -100.0                            \u001b[0m\u001b[1m -1.0          \u001b[0m ⋯\n",
       "     │\u001b[90m Float64              \u001b[0m\u001b[90m Array…                            \u001b[0m\u001b[90m Array…        \u001b[0m ⋯\n",
       "─────┼──────────────────────────────────────────────────────────────────────────\n",
       "   1 │               1.0e-5  Any[0.349984, 0.11382, 0.755191,…  Any[0.349985,  ⋯\n",
       "   2 │               1.0     Any[0.349988, 0.113828, 0.755194…  Any[0.349982,\n",
       "   3 │               3.0     Any[0.322648, 0.113823, 0.755197…  Any[0.494368,\n",
       "   4 │               5.0     Any[1.09711, 0.113819, 0.755194,…  Any[0.415238,\n",
       "   5 │               7.0     Any[1.4071, 0.335897, 0.755194, …  Any[1.07142, 0 ⋯\n",
       "   6 │               9.0     Any[1.04877, 0.535205, 0.755195,…  Any[0.531014,\n",
       "   7 │              15.0     Any[-8.08089e151, 0.62645, 0.755…  Any[-0.497245,\n",
       "   8 │              50.0     Any[6.67384e151, 8.83706e151, 0.…  Any[-2.5278, -\n",
       "\u001b[36m                                                               8 columns omitted\u001b[0m"
      ]
     },
     "metadata": {},
     "output_type": "display_data"
    }
   ],
   "source": [
    "GridEstimation(MeanMonthlyEstimation, Monthly_temp , Φ_init, σ_init)"
   ]
  },
  {
   "cell_type": "markdown",
   "metadata": {},
   "source": [
    "Reminder : \n",
    "```julia\n",
    "Φ_month=[4,1,8,2,7,9,2,4,1,3,1,2]/10\n",
    "σ_month=[1.5,2,4.5,7,8,3,4.5,1,7,2.5,3,6]\n",
    "```"
   ]
  },
  {
   "cell_type": "code",
   "execution_count": 31,
   "metadata": {},
   "outputs": [
    {
     "name": "stdout",
     "output_type": "stream",
     "text": [
      "MAPE table (percentage) :\n"
     ]
    },
    {
     "data": {
      "text/html": [
       "<div><div style = \"float: left;\"><span>8×10 DataFrame</span></div><div style = \"clear: both;\"></div></div><div class = \"data-frame\" style = \"overflow-x: scroll;\"><table class = \"data-frame\" style = \"margin-bottom: 6px;\"><thead><tr class = \"header\"><th class = \"rowNumber\" style = \"font-weight: bold; text-align: right;\">Row</th><th style = \"text-align: left;\">σ_init² ↓ | Φ_init →</th><th style = \"text-align: left;\">-100.0</th><th style = \"text-align: left;\">-1.0</th><th style = \"text-align: left;\">0.0</th><th style = \"text-align: left;\">1.0e-5</th><th style = \"text-align: left;\">1.0</th><th style = \"text-align: left;\">5.0</th><th style = \"text-align: left;\">10.0</th><th style = \"text-align: left;\">100.0</th><th style = \"text-align: left;\">1000.0</th></tr><tr class = \"subheader headerLastRow\"><th class = \"rowNumber\" style = \"font-weight: bold; text-align: right;\"></th><th title = \"Float64\" style = \"text-align: left;\">Float64</th><th title = \"Float64\" style = \"text-align: left;\">Float64</th><th title = \"Float64\" style = \"text-align: left;\">Float64</th><th title = \"Float64\" style = \"text-align: left;\">Float64</th><th title = \"Float64\" style = \"text-align: left;\">Float64</th><th title = \"Float64\" style = \"text-align: left;\">Float64</th><th title = \"Float64\" style = \"text-align: left;\">Float64</th><th title = \"Float64\" style = \"text-align: left;\">Float64</th><th title = \"Float64\" style = \"text-align: left;\">Float64</th><th title = \"Float64\" style = \"text-align: left;\">Float64</th></tr></thead><tbody><tr><td class = \"rowNumber\" style = \"font-weight: bold; text-align: right;\">1</td><td style = \"text-align: right;\">1.0e-5</td><td style = \"text-align: right;\">20.965</td><td style = \"text-align: right;\">20.9657</td><td style = \"text-align: right;\">20.9647</td><td style = \"text-align: right;\">20.9642</td><td style = \"text-align: right;\">20.9655</td><td style = \"text-align: right;\">20.965</td><td style = \"text-align: right;\">20.9653</td><td style = \"text-align: right;\">20.9658</td><td style = \"text-align: right;\">20.9655</td></tr><tr><td class = \"rowNumber\" style = \"font-weight: bold; text-align: right;\">2</td><td style = \"text-align: right;\">1.0</td><td style = \"text-align: right;\">20.966</td><td style = \"text-align: right;\">20.9663</td><td style = \"text-align: right;\">21.3329</td><td style = \"text-align: right;\">21.3334</td><td style = \"text-align: right;\">20.9657</td><td style = \"text-align: right;\">20.9657</td><td style = \"text-align: right;\">20.965</td><td style = \"text-align: right;\">20.9665</td><td style = \"text-align: right;\">21.1255</td></tr><tr><td class = \"rowNumber\" style = \"font-weight: bold; text-align: right;\">3</td><td style = \"text-align: right;\">3.0</td><td style = \"text-align: right;\">61.7173</td><td style = \"text-align: right;\">25.2578</td><td style = \"text-align: right;\">29.6251</td><td style = \"text-align: right;\">29.6215</td><td style = \"text-align: right;\">22.5194</td><td style = \"text-align: right;\">32.9399</td><td style = \"text-align: right;\">29.3638</td><td style = \"text-align: right;\">67.8668</td><td style = \"text-align: right;\">44.9094</td></tr><tr><td class = \"rowNumber\" style = \"font-weight: bold; text-align: right;\">4</td><td style = \"text-align: right;\">5.0</td><td style = \"text-align: right;\">43.2097</td><td style = \"text-align: right;\">26.8023</td><td style = \"text-align: right;\">37.7201</td><td style = \"text-align: right;\">37.721</td><td style = \"text-align: right;\">30.7882</td><td style = \"text-align: right;\">154.521</td><td style = \"text-align: right;\">41.052</td><td style = \"text-align: right;\">28.1213</td><td style = \"text-align: right;\">69.4714</td></tr><tr><td class = \"rowNumber\" style = \"font-weight: bold; text-align: right;\">5</td><td style = \"text-align: right;\">7.0</td><td style = \"text-align: right;\">98.8435</td><td style = \"text-align: right;\">81.5873</td><td style = \"text-align: right;\">44.971</td><td style = \"text-align: right;\">44.97</td><td style = \"text-align: right;\">91.9152</td><td style = \"text-align: right;\">3.47502e153</td><td style = \"text-align: right;\">142.807</td><td style = \"text-align: right;\">53.7252</td><td style = \"text-align: right;\">79.8186</td></tr><tr><td class = \"rowNumber\" style = \"font-weight: bold; text-align: right;\">6</td><td style = \"text-align: right;\">9.0</td><td style = \"text-align: right;\">5.21364e153</td><td style = \"text-align: right;\">178.145</td><td style = \"text-align: right;\">46.8584</td><td style = \"text-align: right;\">46.8573</td><td style = \"text-align: right;\">141.311</td><td style = \"text-align: right;\">317.353</td><td style = \"text-align: right;\">173.64</td><td style = \"text-align: right;\">70.1463</td><td style = \"text-align: right;\">91.0801</td></tr><tr><td class = \"rowNumber\" style = \"font-weight: bold; text-align: right;\">7</td><td style = \"text-align: right;\">15.0</td><td style = \"text-align: right;\">2.07946e154</td><td style = \"text-align: right;\">115.911</td><td style = \"text-align: right;\">46.2079</td><td style = \"text-align: right;\">46.2088</td><td style = \"text-align: right;\">174.602</td><td style = \"text-align: right;\">327.015</td><td style = \"text-align: right;\">157.59</td><td style = \"text-align: right;\">1.6852e153</td><td style = \"text-align: right;\">1.54048e154</td></tr><tr><td class = \"rowNumber\" style = \"font-weight: bold; text-align: right;\">8</td><td style = \"text-align: right;\">50.0</td><td style = \"text-align: right;\">4.69193e154</td><td style = \"text-align: right;\">593.053</td><td style = \"text-align: right;\">60.4521</td><td style = \"text-align: right;\">60.4445</td><td style = \"text-align: right;\">488.231</td><td style = \"text-align: right;\">329.532</td><td style = \"text-align: right;\">3.65017e153</td><td style = \"text-align: right;\">1.88002e153</td><td style = \"text-align: right;\">1.67777e154</td></tr></tbody></table></div>"
      ],
      "text/latex": [
       "\\begin{tabular}{r|cccccccc}\n",
       "\t& σ\\_init² ↓ | Φ\\_init → & -100.0 & -1.0 & 0.0 & 1.0e-5 & 1.0 & 5.0 & \\\\\n",
       "\t\\hline\n",
       "\t& Float64 & Float64 & Float64 & Float64 & Float64 & Float64 & Float64 & \\\\\n",
       "\t\\hline\n",
       "\t1 & 1.0e-5 & 20.965 & 20.9657 & 20.9647 & 20.9642 & 20.9655 & 20.965 & $\\dots$ \\\\\n",
       "\t2 & 1.0 & 20.966 & 20.9663 & 21.3329 & 21.3334 & 20.9657 & 20.9657 & $\\dots$ \\\\\n",
       "\t3 & 3.0 & 61.7173 & 25.2578 & 29.6251 & 29.6215 & 22.5194 & 32.9399 & $\\dots$ \\\\\n",
       "\t4 & 5.0 & 43.2097 & 26.8023 & 37.7201 & 37.721 & 30.7882 & 154.521 & $\\dots$ \\\\\n",
       "\t5 & 7.0 & 98.8435 & 81.5873 & 44.971 & 44.97 & 91.9152 & 3.47502e153 & $\\dots$ \\\\\n",
       "\t6 & 9.0 & 5.21364e153 & 178.145 & 46.8584 & 46.8573 & 141.311 & 317.353 & $\\dots$ \\\\\n",
       "\t7 & 15.0 & 2.07946e154 & 115.911 & 46.2079 & 46.2088 & 174.602 & 327.015 & $\\dots$ \\\\\n",
       "\t8 & 50.0 & 4.69193e154 & 593.053 & 60.4521 & 60.4445 & 488.231 & 329.532 & $\\dots$ \\\\\n",
       "\\end{tabular}\n"
      ],
      "text/plain": [
       "\u001b[1m8×10 DataFrame\u001b[0m\n",
       "\u001b[1m Row \u001b[0m│\u001b[1m σ_init² ↓ | Φ_init → \u001b[0m\u001b[1m -100.0       \u001b[0m\u001b[1m -1.0     \u001b[0m\u001b[1m 0.0     \u001b[0m\u001b[1m 1.0e-5  \u001b[0m\u001b[1m 1.0    \u001b[0m ⋯\n",
       "     │\u001b[90m Float64              \u001b[0m\u001b[90m Float64      \u001b[0m\u001b[90m Float64  \u001b[0m\u001b[90m Float64 \u001b[0m\u001b[90m Float64 \u001b[0m\u001b[90m Float64\u001b[0m ⋯\n",
       "─────┼──────────────────────────────────────────────────────────────────────────\n",
       "   1 │               1.0e-5  20.965         20.9657  20.9647  20.9642   20.965 ⋯\n",
       "   2 │               1.0     20.966         20.9663  21.3329  21.3334   20.965\n",
       "   3 │               3.0     61.7173        25.2578  29.6251  29.6215   22.519\n",
       "   4 │               5.0     43.2097        26.8023  37.7201  37.721    30.788\n",
       "   5 │               7.0     98.8435        81.5873  44.971   44.97     91.915 ⋯\n",
       "   6 │               9.0      5.21364e153  178.145   46.8584  46.8573  141.311\n",
       "   7 │              15.0      2.07946e154  115.911   46.2079  46.2088  174.602\n",
       "   8 │              50.0      4.69193e154  593.053   60.4521  60.4445  488.231\n",
       "\u001b[36m                                                               5 columns omitted\u001b[0m"
      ]
     },
     "metadata": {},
     "output_type": "display_data"
    }
   ],
   "source": [
    "println(\"MAPE table (percentage) :\")\n",
    "GridEstimation(MeanMonthlyEstimation, Monthly_temp , Φ_init, σ_init, Φ_month)"
   ]
  },
  {
   "cell_type": "markdown",
   "metadata": {},
   "source": [
    "Like before, we see that the more σ_init is close to 0 the better is the estimation."
   ]
  },
  {
   "cell_type": "code",
   "execution_count": 32,
   "metadata": {},
   "outputs": [
    {
     "name": "stdout",
     "output_type": "stream",
     "text": [
      "MAPE table (percentage) :\n"
     ]
    },
    {
     "data": {
      "text/html": [
       "<div><div style = \"float: left;\"><span>8×10 DataFrame</span></div><div style = \"clear: both;\"></div></div><div class = \"data-frame\" style = \"overflow-x: scroll;\"><table class = \"data-frame\" style = \"margin-bottom: 6px;\"><thead><tr class = \"header\"><th class = \"rowNumber\" style = \"font-weight: bold; text-align: right;\">Row</th><th style = \"text-align: left;\">σ_init² ↓ | Φ_init →</th><th style = \"text-align: left;\">-100.0</th><th style = \"text-align: left;\">-1.0</th><th style = \"text-align: left;\">0.0</th><th style = \"text-align: left;\">1.0e-5</th><th style = \"text-align: left;\">1.0</th><th style = \"text-align: left;\">5.0</th><th style = \"text-align: left;\">10.0</th><th style = \"text-align: left;\">100.0</th><th style = \"text-align: left;\">1000.0</th></tr><tr class = \"subheader headerLastRow\"><th class = \"rowNumber\" style = \"font-weight: bold; text-align: right;\"></th><th title = \"Float64\" style = \"text-align: left;\">Float64</th><th title = \"Float64\" style = \"text-align: left;\">Float64</th><th title = \"Float64\" style = \"text-align: left;\">Float64</th><th title = \"Float64\" style = \"text-align: left;\">Float64</th><th title = \"Float64\" style = \"text-align: left;\">Float64</th><th title = \"Float64\" style = \"text-align: left;\">Float64</th><th title = \"Float64\" style = \"text-align: left;\">Float64</th><th title = \"Float64\" style = \"text-align: left;\">Float64</th><th title = \"Float64\" style = \"text-align: left;\">Float64</th><th title = \"Float64\" style = \"text-align: left;\">Float64</th></tr></thead><tbody><tr><td class = \"rowNumber\" style = \"font-weight: bold; text-align: right;\">1</td><td style = \"text-align: right;\">1.0e-5</td><td style = \"text-align: right;\">3.75649</td><td style = \"text-align: right;\">3.75645</td><td style = \"text-align: right;\">3.7564</td><td style = \"text-align: right;\">3.75646</td><td style = \"text-align: right;\">3.75649</td><td style = \"text-align: right;\">3.75644</td><td style = \"text-align: right;\">3.75645</td><td style = \"text-align: right;\">3.75651</td><td style = \"text-align: right;\">3.7564</td></tr><tr><td class = \"rowNumber\" style = \"font-weight: bold; text-align: right;\">2</td><td style = \"text-align: right;\">1.0</td><td style = \"text-align: right;\">3.75639</td><td style = \"text-align: right;\">3.75652</td><td style = \"text-align: right;\">10.308</td><td style = \"text-align: right;\">10.3081</td><td style = \"text-align: right;\">3.75643</td><td style = \"text-align: right;\">3.75643</td><td style = \"text-align: right;\">3.75659</td><td style = \"text-align: right;\">3.75639</td><td style = \"text-align: right;\">4.19611</td></tr><tr><td class = \"rowNumber\" style = \"font-weight: bold; text-align: right;\">3</td><td style = \"text-align: right;\">3.0</td><td style = \"text-align: right;\">12.6873</td><td style = \"text-align: right;\">11.842</td><td style = \"text-align: right;\">23.9474</td><td style = \"text-align: right;\">23.9475</td><td style = \"text-align: right;\">12.3894</td><td style = \"text-align: right;\">8.54234</td><td style = \"text-align: right;\">9.54791</td><td style = \"text-align: right;\">12.6873</td><td style = \"text-align: right;\">9.96013</td></tr><tr><td class = \"rowNumber\" style = \"font-weight: bold; text-align: right;\">4</td><td style = \"text-align: right;\">5.0</td><td style = \"text-align: right;\">15.9034</td><td style = \"text-align: right;\">17.2576</td><td style = \"text-align: right;\">31.511</td><td style = \"text-align: right;\">31.5111</td><td style = \"text-align: right;\">16.4791</td><td style = \"text-align: right;\">16.0353</td><td style = \"text-align: right;\">13.7561</td><td style = \"text-align: right;\">15.9032</td><td style = \"text-align: right;\">19.1512</td></tr><tr><td class = \"rowNumber\" style = \"font-weight: bold; text-align: right;\">5</td><td style = \"text-align: right;\">7.0</td><td style = \"text-align: right;\">22.4361</td><td style = \"text-align: right;\">20.64</td><td style = \"text-align: right;\">39.9732</td><td style = \"text-align: right;\">39.9732</td><td style = \"text-align: right;\">23.0805</td><td style = \"text-align: right;\">1.05215e76</td><td style = \"text-align: right;\">23.3127</td><td style = \"text-align: right;\">22.4361</td><td style = \"text-align: right;\">22.883</td></tr><tr><td class = \"rowNumber\" style = \"font-weight: bold; text-align: right;\">6</td><td style = \"text-align: right;\">9.0</td><td style = \"text-align: right;\">1.84937e76</td><td style = \"text-align: right;\">27.8045</td><td style = \"text-align: right;\">43.1265</td><td style = \"text-align: right;\">43.1266</td><td style = \"text-align: right;\">27.3457</td><td style = \"text-align: right;\">27.9313</td><td style = \"text-align: right;\">26.3926</td><td style = \"text-align: right;\">29.4287</td><td style = \"text-align: right;\">28.0313</td></tr><tr><td class = \"rowNumber\" style = \"font-weight: bold; text-align: right;\">7</td><td style = \"text-align: right;\">15.0</td><td style = \"text-align: right;\">1.10763e77</td><td style = \"text-align: right;\">37.8253</td><td style = \"text-align: right;\">51.9383</td><td style = \"text-align: right;\">51.9383</td><td style = \"text-align: right;\">36.7391</td><td style = \"text-align: right;\">34.9659</td><td style = \"text-align: right;\">32.8938</td><td style = \"text-align: right;\">7.65555e75</td><td style = \"text-align: right;\">6.84333e76</td></tr><tr><td class = \"rowNumber\" style = \"font-weight: bold; text-align: right;\">8</td><td style = \"text-align: right;\">50.0</td><td style = \"text-align: right;\">2.70337e77</td><td style = \"text-align: right;\">65.7651</td><td style = \"text-align: right;\">74.2125</td><td style = \"text-align: right;\">74.2125</td><td style = \"text-align: right;\">64.4186</td><td style = \"text-align: right;\">61.0078</td><td style = \"text-align: right;\">5.63877e76</td><td style = \"text-align: right;\">7.89792e75</td><td style = \"text-align: right;\">9.45619e76</td></tr></tbody></table></div>"
      ],
      "text/latex": [
       "\\begin{tabular}{r|cccccccc}\n",
       "\t& σ\\_init² ↓ | Φ\\_init → & -100.0 & -1.0 & 0.0 & 1.0e-5 & 1.0 & 5.0 & \\\\\n",
       "\t\\hline\n",
       "\t& Float64 & Float64 & Float64 & Float64 & Float64 & Float64 & Float64 & \\\\\n",
       "\t\\hline\n",
       "\t1 & 1.0e-5 & 3.75649 & 3.75645 & 3.7564 & 3.75646 & 3.75649 & 3.75644 & $\\dots$ \\\\\n",
       "\t2 & 1.0 & 3.75639 & 3.75652 & 10.308 & 10.3081 & 3.75643 & 3.75643 & $\\dots$ \\\\\n",
       "\t3 & 3.0 & 12.6873 & 11.842 & 23.9474 & 23.9475 & 12.3894 & 8.54234 & $\\dots$ \\\\\n",
       "\t4 & 5.0 & 15.9034 & 17.2576 & 31.511 & 31.5111 & 16.4791 & 16.0353 & $\\dots$ \\\\\n",
       "\t5 & 7.0 & 22.4361 & 20.64 & 39.9732 & 39.9732 & 23.0805 & 1.05215e76 & $\\dots$ \\\\\n",
       "\t6 & 9.0 & 1.84937e76 & 27.8045 & 43.1265 & 43.1266 & 27.3457 & 27.9313 & $\\dots$ \\\\\n",
       "\t7 & 15.0 & 1.10763e77 & 37.8253 & 51.9383 & 51.9383 & 36.7391 & 34.9659 & $\\dots$ \\\\\n",
       "\t8 & 50.0 & 2.70337e77 & 65.7651 & 74.2125 & 74.2125 & 64.4186 & 61.0078 & $\\dots$ \\\\\n",
       "\\end{tabular}\n"
      ],
      "text/plain": [
       "\u001b[1m8×10 DataFrame\u001b[0m\n",
       "\u001b[1m Row \u001b[0m│\u001b[1m σ_init² ↓ | Φ_init → \u001b[0m\u001b[1m -100.0      \u001b[0m\u001b[1m -1.0     \u001b[0m\u001b[1m 0.0     \u001b[0m\u001b[1m 1.0e-5   \u001b[0m\u001b[1m 1.0    \u001b[0m ⋯\n",
       "     │\u001b[90m Float64              \u001b[0m\u001b[90m Float64     \u001b[0m\u001b[90m Float64  \u001b[0m\u001b[90m Float64 \u001b[0m\u001b[90m Float64  \u001b[0m\u001b[90m Float64\u001b[0m ⋯\n",
       "─────┼──────────────────────────────────────────────────────────────────────────\n",
       "   1 │               1.0e-5   3.75649      3.75645   3.7564   3.75646   3.7564 ⋯\n",
       "   2 │               1.0      3.75639      3.75652  10.308   10.3081    3.7564\n",
       "   3 │               3.0     12.6873      11.842    23.9474  23.9475   12.3894\n",
       "   4 │               5.0     15.9034      17.2576   31.511   31.5111   16.4791\n",
       "   5 │               7.0     22.4361      20.64     39.9732  39.9732   23.0805 ⋯\n",
       "   6 │               9.0      1.84937e76  27.8045   43.1265  43.1266   27.3457\n",
       "   7 │              15.0      1.10763e77  37.8253   51.9383  51.9383   36.7391\n",
       "   8 │              50.0      2.70337e77  65.7651   74.2125  74.2125   64.4186\n",
       "\u001b[36m                                                               5 columns omitted\u001b[0m"
      ]
     },
     "metadata": {},
     "output_type": "display_data"
    }
   ],
   "source": [
    "println(\"MAPE table (percentage) :\")\n",
    "GridEstimation(MeanMonthlyEstimation, Monthly_temp , Φ_init, σ_init, σ_month, sigma_est=true)"
   ]
  },
  {
   "cell_type": "markdown",
   "metadata": {},
   "source": [
    "It is the same for estimating σ."
   ]
  },
  {
   "cell_type": "markdown",
   "metadata": {},
   "source": [
    "## 2.Each month concatanated with all years"
   ]
  },
  {
   "cell_type": "code",
   "execution_count": 33,
   "metadata": {},
   "outputs": [
    {
     "data": {
      "text/html": [
       "<div><div style = \"float: left;\"><span>8×10 DataFrame</span></div><div style = \"clear: both;\"></div></div><div class = \"data-frame\" style = \"overflow-x: scroll;\"><table class = \"data-frame\" style = \"margin-bottom: 6px;\"><thead><tr class = \"header\"><th class = \"rowNumber\" style = \"font-weight: bold; text-align: right;\">Row</th><th style = \"text-align: left;\">σ_init² ↓ | Φ_init →</th><th style = \"text-align: left;\">-100.0</th><th style = \"text-align: left;\">-1.0</th><th style = \"text-align: left;\">0.0</th><th style = \"text-align: left;\">1.0e-5</th><th style = \"text-align: left;\">1.0</th><th style = \"text-align: left;\">5.0</th><th style = \"text-align: left;\">10.0</th><th style = \"text-align: left;\">100.0</th><th style = \"text-align: left;\">1000.0</th></tr><tr class = \"subheader headerLastRow\"><th class = \"rowNumber\" style = \"font-weight: bold; text-align: right;\"></th><th title = \"Float64\" style = \"text-align: left;\">Float64</th><th title = \"Vector{Any}\" style = \"text-align: left;\">Array…</th><th title = \"Vector{Any}\" style = \"text-align: left;\">Array…</th><th title = \"Vector{Any}\" style = \"text-align: left;\">Array…</th><th title = \"Vector{Any}\" style = \"text-align: left;\">Array…</th><th title = \"Vector{Any}\" style = \"text-align: left;\">Array…</th><th title = \"Vector{Any}\" style = \"text-align: left;\">Array…</th><th title = \"Vector{Any}\" style = \"text-align: left;\">Array…</th><th title = \"Vector{Any}\" style = \"text-align: left;\">Array…</th><th title = \"Vector{Any}\" style = \"text-align: left;\">Array…</th></tr></thead><tbody><tr><td class = \"rowNumber\" style = \"font-weight: bold; text-align: right;\">1</td><td style = \"text-align: right;\">1.0e-5</td><td style = \"text-align: left;\">Any[0.347149, 0.111278, 0.777778, 0.271414, 0.626188, 0.871447, 0.153408, 0.422376, 0.0518056, 0.390611, 0.0161472, 0.209365]</td><td style = \"text-align: left;\">Any[0.347145, 0.111274, 0.777776, 0.271416, 0.62618, 0.871447, 0.153405, 0.422381, 0.051814, 0.390612, 0.016145, 0.209364]</td><td style = \"text-align: left;\">Any[0.347154, 0.11127, 0.777779, 0.271417, 0.626185, 0.871447, 0.153407, 0.42238, 0.0518092, 0.390606, 0.0161565, 0.209366]</td><td style = \"text-align: left;\">Any[0.347156, 0.111277, 0.777776, 0.271418, 0.626185, 0.871447, 0.153407, 0.422393, 0.0518149, 0.390613, 0.0161491, 0.20937]</td><td style = \"text-align: left;\">Any[0.347153, 0.111269, 0.77778, 0.271413, 0.626182, 0.871447, 0.153406, 0.42238, 0.0518135, 0.390612, 0.016144, 0.209368]</td><td style = \"text-align: left;\">Any[0.347155, 0.111275, 0.777777, 0.27142, 0.626183, 0.871448, 0.15341, 0.422374, 0.0518123, 0.390607, 0.0161443, 0.209364]</td><td style = \"text-align: left;\">Any[0.347157, 0.111264, 0.777781, 0.271416, 0.626182, 0.871448, 0.153403, 0.422377, 0.0518098, 0.390606, 0.0161547, 0.209366]</td><td style = \"text-align: left;\">Any[0.34716, 0.111273, 0.777779, 0.271418, 0.626185, 0.871448, 0.153404, 0.422373, 0.0518063, 0.390614, 0.0161478, 0.209367]</td><td style = \"text-align: left;\">Any[0.347153, 0.11127, 0.777779, 0.271417, 0.626186, 0.871447, 0.153406, 0.422378, 0.0518177, 0.390606, 0.0161464, 0.209363]</td></tr><tr><td class = \"rowNumber\" style = \"font-weight: bold; text-align: right;\">2</td><td style = \"text-align: right;\">1.0</td><td style = \"text-align: left;\">Any[0.347153, 0.111276, 0.777778, 0.271417, 0.626184, 0.87145, 0.153406, 0.422375, 0.0518133, 0.390611, 0.0161462, 0.209362]</td><td style = \"text-align: left;\">Any[0.347159, 0.111271, 0.77778, 0.271412, 0.626183, 0.871448, 0.153404, 0.422377, 0.0518136, 0.39061, 0.0161512, 0.209367]</td><td style = \"text-align: left;\">Any[0.347157, 0.111269, 0.777777, 0.271417, 0.626184, 0.871448, 0.153405, 0.42238, 0.0518062, 0.390612, 0.0161412, 0.209367]</td><td style = \"text-align: left;\">Any[0.347156, 0.111271, 0.777779, 0.271416, 0.626184, 0.955374, 0.153413, 0.422374, 0.0518169, 0.390606, 0.0161516, 0.209365]</td><td style = \"text-align: left;\">Any[0.347159, 0.111273, 0.777777, 0.271418, 0.626185, 0.871454, 0.153405, 0.422372, 0.0518094, 0.39061, 0.0161475, 0.20937]</td><td style = \"text-align: left;\">Any[0.347163, 0.111271, 0.777778, 0.271414, 0.626185, 0.87145, 0.153409, 0.422377, 0.0518061, 0.390609, 0.0161411, 0.209363]</td><td style = \"text-align: left;\">Any[0.347156, 0.111273, 0.777778, 0.271412, 0.626187, 0.871449, 0.153405, 0.422378, 0.0518122, 0.390614, 0.0161498, 0.209366]</td><td style = \"text-align: left;\">Any[0.347155, 0.111273, 0.777776, 0.271418, 0.626187, 0.871447, 0.153405, 0.422375, 0.0518116, 0.390606, 0.0161476, 0.209368]</td><td style = \"text-align: left;\">Any[0.347156, 0.11128, 0.77778, 0.271414, 0.626185, 0.871448, 0.153406, 0.42238, 0.0518107, 0.390609, 0.0161468, 0.209368]</td></tr><tr><td class = \"rowNumber\" style = \"font-weight: bold; text-align: right;\">3</td><td style = \"text-align: right;\">3.0</td><td style = \"text-align: left;\">Any[0.347157, 0.11127, 0.777774, 0.271415, 0.626186, 0.871449, 0.153406, 3.12479, 0.0518074, 0.390611, 0.0161465, 0.209364]</td><td style = \"text-align: left;\">Any[0.347158, 0.111273, 0.777779, 0.271411, 0.626183, 0.871444, 0.153407, 0.190385, 0.051814, 0.390615, 0.0161483, 0.209366]</td><td style = \"text-align: left;\">Any[0.347159, 0.111269, 1.42453, 0.271415, 0.626183, 0.709157, 0.153404, 0.00469525, 0.0518105, 0.390613, 0.0161451, 0.209374]</td><td style = \"text-align: left;\">Any[0.347156, 0.111272, 1.42483, 0.271412, 0.626186, 0.709309, 0.153406, 0.00470619, 0.05181, 0.390609, 0.0161458, 0.209362]</td><td style = \"text-align: left;\">Any[0.347158, 0.111272, 0.777775, 0.271414, 0.626183, 0.871447, 0.153402, -0.242008, 0.0518121, 0.390611, 0.0161422, 0.20936]</td><td style = \"text-align: left;\">Any[0.347156, 0.111275, 0.777775, 0.271413, 0.626188, 0.87145, 0.153411, 0.42238, 0.0518094, 0.390613, 0.0161512, 0.209367]</td><td style = \"text-align: left;\">Any[0.347155, 0.111271, 0.77778, 0.271414, 0.626187, 0.871445, 0.153405, 0.422377, 0.0518117, 0.390608, 0.0161509, 0.209365]</td><td style = \"text-align: left;\">Any[0.347159, 0.111276, 0.777776, 0.27142, 0.626184, 0.871447, 0.153406, 2.25632, 0.0518162, 0.39061, 0.0161462, 0.209365]</td><td style = \"text-align: left;\">Any[0.347155, 0.111274, 0.777778, 0.271422, 0.62619, 0.871447, 0.153407, 0.422375, 0.0518143, 0.390614, 0.0161491, 0.209372]</td></tr><tr><td class = \"rowNumber\" style = \"font-weight: bold; text-align: right;\">4</td><td style = \"text-align: right;\">5.0</td><td style = \"text-align: left;\">Any[0.34715, 0.111272, 0.777776, 0.271415, 0.626183, 0.871448, 0.153407, 1.96906, 0.0518106, 0.39061, 0.0161473, 0.209368]</td><td style = \"text-align: left;\">Any[0.347161, -0.716933, 0.777778, 0.271415, 0.626182, 0.87145, 0.153404, 3.41078, 0.0518125, 0.390608, 0.016149, 0.209365]</td><td style = \"text-align: left;\">Any[-0.0274192, 0.11127, 0.256422, 0.271415, 0.62618, 0.256422, 0.153405, -0.0274192, 0.051817, 0.390611, 0.0161457, 0.209364]</td><td style = \"text-align: left;\">Any[-0.0274147, 0.111275, 0.256483, 0.271416, 0.626187, 0.256483, 0.153404, -0.0274147, 0.0518099, 0.390607, 0.016149, 0.209368]</td><td style = \"text-align: left;\">Any[-0.046623, 0.111274, 0.777779, 0.271412, 0.626183, 0.871447, 0.153404, -2.82507, 0.0518119, 0.390611, 0.0161515, 0.209363]</td><td style = \"text-align: left;\">Any[0.347155, 0.11127, 0.777775, 0.271416, 0.62619, 0.871449, 0.153403, 16.7991, 0.0518086, 0.390612, 0.0161473, 0.209365]</td><td style = \"text-align: left;\">Any[0.347156, 0.111275, 0.777777, 0.271416, 0.626186, 0.871448, 0.153404, -6.50977, 0.0518082, 0.39061, 0.0161469, 0.209366]</td><td style = \"text-align: left;\">Any[0.347156, 0.111271, 0.777778, 0.271415, 0.626185, 0.87145, 0.153405, 1.55672, 0.0518171, 0.390613, 0.0161509, 0.209366]</td><td style = \"text-align: left;\">Any[0.347159, 0.111269, 0.777776, 0.271414, 0.626185, 0.871448, 0.153416, 1.87583, 0.051807, 0.390612, 0.0161423, 0.209369]</td></tr><tr><td class = \"rowNumber\" style = \"font-weight: bold; text-align: right;\">5</td><td style = \"text-align: right;\">7.0</td><td style = \"text-align: left;\">Any[4.40836, -0.0604806, 0.777779, 0.271417, 0.626182, 0.871447, 0.153407, -2.021, 0.0518075, 0.390609, 0.016147, 0.209365]</td><td style = \"text-align: left;\">Any[1.08129, 0.111273, 0.777777, 0.271414, 0.626185, 0.871449, 0.153402, -0.0668813, 0.0518159, 0.390614, 0.0161424, 0.209365]</td><td style = \"text-align: left;\">Any[-0.00439912, -0.00439912, 0.530368, 0.271417, 0.626183, 0.871448, 0.153403, -0.00439912, 0.0518117, 0.390612, 0.0161466, 0.209363]</td><td style = \"text-align: left;\">Any[-0.00439, -0.00439, 0.530484, 0.271416, 0.626184, 0.871447, 0.153404, -0.00439, 0.0518105, 0.390611, 0.0161454, 0.209366]</td><td style = \"text-align: left;\">Any[-0.0516353, 0.111274, 0.777777, 0.271415, 0.626186, 0.871448, 0.153408, 4.53042, 0.0518172, 0.390609, 0.0161478, 0.209368]</td><td style = \"text-align: left;\">Any[0.972184, 0.11127, 0.777776, 0.271412, 0.626184, 0.871446, 0.153407, 0.933655, 0.0518125, 0.390612, 0.0161506, 0.209363]</td><td style = \"text-align: left;\">Any[0.339748, 0.11127, 0.777779, 0.271417, 0.626185, 0.871446, 0.153407, 3.65981, 0.051807, 0.39061, 0.0161466, 0.209366]</td><td style = \"text-align: left;\">Any[4.86719, 0.0214346, 0.777781, 0.271412, 0.626185, 0.871448, 0.153406, -0.450402, 0.0518165, 0.390615, 0.0161535, 0.209367]</td><td style = \"text-align: left;\">Any[0.347153, 0.316005, 0.777778, 0.271413, 0.626194, 0.871449, 0.153403, 1.9603, 0.051815, 0.390613, 0.0161524, 0.209365]</td></tr><tr><td class = \"rowNumber\" style = \"font-weight: bold; text-align: right;\">6</td><td style = \"text-align: right;\">9.0</td><td style = \"text-align: left;\">Any[1.24526, -0.952787, 0.777777, 0.271414, 0.626186, 0.871447, 0.153404, -2.55362, 0.0518114, 0.390612, 0.0161568, 0.209365]</td><td style = \"text-align: left;\">Any[1.05598, 3.20745, 0.777775, 0.271421, 0.626183, 0.871449, 0.15341, -2.35453, 0.0518111, 0.390607, 0.0161507, 0.209367]</td><td style = \"text-align: left;\">Any[-0.0017425, -0.0017425, 1.11187, 0.271414, 0.62618, 0.871449, 0.153404, -0.0017425, 0.051813, 0.39061, 0.0161556, 0.209354]</td><td style = \"text-align: left;\">Any[-0.00173285, -0.00173285, 1.11211, 0.271418, 0.626185, 0.871448, 0.1534, -0.00173285, 0.0518076, 0.390609, 0.0161474, 0.209364]</td><td style = \"text-align: left;\">Any[1.01609, -0.124902, 0.777777, 0.271421, 0.626188, 0.871448, 0.153412, 3.80962, 0.0518143, 0.390606, 0.0161461, 0.20937]</td><td style = \"text-align: left;\">Any[-1.19322, 6.09112, 0.777775, 0.271414, 0.626185, 0.87145, 0.153409, 1.37142, 0.051816, -0.053955, 0.0161482, 0.209366]</td><td style = \"text-align: left;\">Any[0.891351, 2.05035, 0.777776, 0.271416, 0.626184, 0.871445, 0.153406, 1.52111, 0.0518094, 0.390608, 0.0161492, 0.209371]</td><td style = \"text-align: left;\">Any[1.04809, -0.980304, 0.777779, 0.271414, 0.626187, 0.871448, 0.153404, -0.447858, 0.0518112, 0.390608, 0.0161511, 0.209366]</td><td style = \"text-align: left;\">Any[-2.07473, 1.11038, 0.777777, 0.271412, 0.626183, 0.871445, 0.153406, 1.87499, 0.0518094, 0.390609, 0.0161505, 0.209365]</td></tr><tr><td class = \"rowNumber\" style = \"font-weight: bold; text-align: right;\">7</td><td style = \"text-align: right;\">15.0</td><td style = \"text-align: left;\">Any[1.20953, 1.20953, 0.777779, 0.271414, 0.626186, 0.871448, 0.153406, 9.05012, 0.051813, 4.30627, 0.0161474, 0.209367]</td><td style = \"text-align: left;\">Any[-0.0570791, -0.0570791, 0.777778, 0.27142, 0.626185, 0.871448, 0.153397, -2.6568, 0.0518066, -0.133852, 0.0161536, 0.209368]</td><td style = \"text-align: left;\">Any[0.0173589, 0.0173589, 0.777779, 0.271415, 0.626186, 0.871447, 0.153407, 0.0173589, 0.0518118, 0.0173589, 0.082475, 0.209365]</td><td style = \"text-align: left;\">Any[0.0173724, 0.0173724, 0.777775, 0.271412, 0.626185, 0.871446, 0.153405, 0.0173724, 0.0518132, 0.0173724, 0.0825015, 0.209367]</td><td style = \"text-align: left;\">Any[3.87064, 1.19154, 0.777779, 0.271412, 0.626184, 0.871448, 0.153412, 3.87064, 0.0518104, -0.0428901, 0.0161523, 0.209365]</td><td style = \"text-align: left;\">Any[0.881255, -0.479543, 0.777779, 0.271413, 0.626184, 0.871449, 0.153408, 2.08606, 0.0518135, 0.390613, -0.709902, 0.209365]</td><td style = \"text-align: left;\">Any[0.162251, 1.44423, 0.777775, 0.271411, 0.626183, 0.871449, 0.153405, 1.6638, 0.0518123, -0.261324, 0.0161516, 0.209364]</td><td style = \"text-align: left;\">Any[1.4242, 1.28605, 0.777776, 0.271414, 0.626181, 0.871449, 0.153405, 2.26077, 0.0518154, 4.61429, 0.01615, 0.209369]</td><td style = \"text-align: left;\">Any[1.2437, -0.998982, 0.777777, 0.271415, 0.626182, 0.871448, 0.153409, -2.21127, 0.0518103, 0.390612, -0.542377, 0.209361]</td></tr><tr><td class = \"rowNumber\" style = \"font-weight: bold; text-align: right;\">8</td><td style = \"text-align: right;\">50.0</td><td style = \"text-align: left;\">Any[2.70167, 7.48181, 0.777775, 0.271415, 0.626187, 0.781003, -1.98248, -2.71689, -0.443561, -1.63071, 1.12092, 0.209366]</td><td style = \"text-align: left;\">Any[-2.5278, -2.5278, 0.777778, 0.271416, 0.626186, 0.978553, 2.19125, -2.5278, 0.0518103, -1.3403, -1.3403, 0.209367]</td><td style = \"text-align: left;\">Any[-0.00148471, -0.00148471, 0.7363, 0.271414, 0.626188, 1.25049, -0.00148471, -0.00148471, 0.0518126, -0.00148471, 0.101435, -0.00148471]</td><td style = \"text-align: left;\">Any[-0.001475, -0.001475, 0.736457, 0.271417, 0.626184, 1.25075, -0.001475, -0.001475, 0.0518118, -0.001475, 0.101465, -0.001475]</td><td style = \"text-align: left;\">Any[2.68863, 2.68863, 0.777777, 0.271419, 0.626184, 0.46965, 0.153407, 2.68863, 0.0518112, 2.68863, 2.23085, 0.209365]</td><td style = \"text-align: left;\">Any[6.49362, -35.1009, 0.777776, 0.271417, 0.626185, 1.49752, 2.14214, -0.812169, 0.051809, 0.603373, 0.632883, 0.209364]</td><td style = \"text-align: left;\">Any[3.08587, 1.57917, 0.777776, 0.271413, 0.626185, 1.56764, 2.1637, 1.76062, 0.0518131, 1.57917, 1.02317, 0.209362]</td><td style = \"text-align: left;\">Any[2.58744, 39.1974, 0.777778, 0.271413, 0.626184, 0.688098, -0.245433, 3.63232, 0.0518097, 0.331124, 1.46087, 0.209371]</td><td style = \"text-align: left;\">Any[3.91944e152, 0.942421, 0.777779, 0.271417, 0.626185, 0.437508, 0.922802, 2.49794, 0.0518151, 1.98475, 3.08725, 0.209366]</td></tr></tbody></table></div>"
      ],
      "text/latex": [
       "\\begin{tabular}{r|ccc}\n",
       "\t& σ\\_init² ↓ | Φ\\_init → & -100.0 & \\\\\n",
       "\t\\hline\n",
       "\t& Float64 & Array… & \\\\\n",
       "\t\\hline\n",
       "\t1 & 1.0e-5 & [0.347149, 0.111278, 0.777778, 0.271414, 0.626188, 0.871447, 0.153408, 0.422376, 0.0518056, 0.390611, 0.0161472, 0.209365] & $\\dots$ \\\\\n",
       "\t2 & 1.0 & [0.347153, 0.111276, 0.777778, 0.271417, 0.626184, 0.87145, 0.153406, 0.422375, 0.0518133, 0.390611, 0.0161462, 0.209362] & $\\dots$ \\\\\n",
       "\t3 & 3.0 & [0.347157, 0.11127, 0.777774, 0.271415, 0.626186, 0.871449, 0.153406, 3.12479, 0.0518074, 0.390611, 0.0161465, 0.209364] & $\\dots$ \\\\\n",
       "\t4 & 5.0 & [0.34715, 0.111272, 0.777776, 0.271415, 0.626183, 0.871448, 0.153407, 1.96906, 0.0518106, 0.39061, 0.0161473, 0.209368] & $\\dots$ \\\\\n",
       "\t5 & 7.0 & [4.40836, -0.0604806, 0.777779, 0.271417, 0.626182, 0.871447, 0.153407, -2.021, 0.0518075, 0.390609, 0.016147, 0.209365] & $\\dots$ \\\\\n",
       "\t6 & 9.0 & [1.24526, -0.952787, 0.777777, 0.271414, 0.626186, 0.871447, 0.153404, -2.55362, 0.0518114, 0.390612, 0.0161568, 0.209365] & $\\dots$ \\\\\n",
       "\t7 & 15.0 & [1.20953, 1.20953, 0.777779, 0.271414, 0.626186, 0.871448, 0.153406, 9.05012, 0.051813, 4.30627, 0.0161474, 0.209367] & $\\dots$ \\\\\n",
       "\t8 & 50.0 & [2.70167, 7.48181, 0.777775, 0.271415, 0.626187, 0.781003, -1.98248, -2.71689, -0.443561, -1.63071, 1.12092, 0.209366] & $\\dots$ \\\\\n",
       "\\end{tabular}\n"
      ],
      "text/plain": [
       "\u001b[1m8×10 DataFrame\u001b[0m\n",
       "\u001b[1m Row \u001b[0m│\u001b[1m σ_init² ↓ | Φ_init → \u001b[0m\u001b[1m -100.0                            \u001b[0m\u001b[1m -1.0          \u001b[0m ⋯\n",
       "     │\u001b[90m Float64              \u001b[0m\u001b[90m Array…                            \u001b[0m\u001b[90m Array…        \u001b[0m ⋯\n",
       "─────┼──────────────────────────────────────────────────────────────────────────\n",
       "   1 │               1.0e-5  Any[0.347149, 0.111278, 0.777778…  Any[0.347145,  ⋯\n",
       "   2 │               1.0     Any[0.347153, 0.111276, 0.777778…  Any[0.347159,\n",
       "   3 │               3.0     Any[0.347157, 0.11127, 0.777774,…  Any[0.347158,\n",
       "   4 │               5.0     Any[0.34715, 0.111272, 0.777776,…  Any[0.347161,\n",
       "   5 │               7.0     Any[4.40836, -0.0604806, 0.77777…  Any[1.08129, 0 ⋯\n",
       "   6 │               9.0     Any[1.24526, -0.952787, 0.777777…  Any[1.05598, 3\n",
       "   7 │              15.0     Any[1.20953, 1.20953, 0.777779, …  Any[-0.0570791\n",
       "   8 │              50.0     Any[2.70167, 7.48181, 0.777775, …  Any[-2.5278, -\n",
       "\u001b[36m                                                               8 columns omitted\u001b[0m"
      ]
     },
     "metadata": {},
     "output_type": "display_data"
    }
   ],
   "source": [
    "σ_init=[1e-5,1,3,5,7,9,15,50]\n",
    "GridEstimation(MonthlyConcatanatedEstimation, Monthly_temp, Φ_init, σ_init)"
   ]
  },
  {
   "cell_type": "markdown",
   "metadata": {},
   "source": [
    "Values start to fluctuate from σ_init² = 5 for monthly estimation."
   ]
  },
  {
   "cell_type": "code",
   "execution_count": 34,
   "metadata": {},
   "outputs": [
    {
     "name": "stdout",
     "output_type": "stream",
     "text": [
      "MAPE table (percentage) :\n"
     ]
    },
    {
     "data": {
      "text/html": [
       "<div><div style = \"float: left;\"><span>6×10 DataFrame</span></div><div style = \"clear: both;\"></div></div><div class = \"data-frame\" style = \"overflow-x: scroll;\"><table class = \"data-frame\" style = \"margin-bottom: 6px;\"><thead><tr class = \"header\"><th class = \"rowNumber\" style = \"font-weight: bold; text-align: right;\">Row</th><th style = \"text-align: left;\">σ_init² ↓ | Φ_init →</th><th style = \"text-align: left;\">-100.0</th><th style = \"text-align: left;\">-1.0</th><th style = \"text-align: left;\">0.0</th><th style = \"text-align: left;\">1.0e-5</th><th style = \"text-align: left;\">1.0</th><th style = \"text-align: left;\">5.0</th><th style = \"text-align: left;\">10.0</th><th style = \"text-align: left;\">100.0</th><th style = \"text-align: left;\">1000.0</th></tr><tr class = \"subheader headerLastRow\"><th class = \"rowNumber\" style = \"font-weight: bold; text-align: right;\"></th><th title = \"Float64\" style = \"text-align: left;\">Float64</th><th title = \"Float64\" style = \"text-align: left;\">Float64</th><th title = \"Float64\" style = \"text-align: left;\">Float64</th><th title = \"Float64\" style = \"text-align: left;\">Float64</th><th title = \"Float64\" style = \"text-align: left;\">Float64</th><th title = \"Float64\" style = \"text-align: left;\">Float64</th><th title = \"Float64\" style = \"text-align: left;\">Float64</th><th title = \"Float64\" style = \"text-align: left;\">Float64</th><th title = \"Float64\" style = \"text-align: left;\">Float64</th><th title = \"Float64\" style = \"text-align: left;\">Float64</th></tr></thead><tbody><tr><td class = \"rowNumber\" style = \"font-weight: bold; text-align: right;\">1</td><td style = \"text-align: right;\">1.0e-5</td><td style = \"text-align: right;\">22.7096</td><td style = \"text-align: right;\">22.7093</td><td style = \"text-align: right;\">22.7081</td><td style = \"text-align: right;\">22.7093</td><td style = \"text-align: right;\">22.7088</td><td style = \"text-align: right;\">22.709</td><td style = \"text-align: right;\">22.7076</td><td style = \"text-align: right;\">22.7094</td><td style = \"text-align: right;\">22.708</td></tr><tr><td class = \"rowNumber\" style = \"font-weight: bold; text-align: right;\">2</td><td style = \"text-align: right;\">1.0</td><td style = \"text-align: right;\">22.7089</td><td style = \"text-align: right;\">22.7081</td><td style = \"text-align: right;\">22.7097</td><td style = \"text-align: right;\">22.9557</td><td style = \"text-align: right;\">22.7091</td><td style = \"text-align: right;\">22.7091</td><td style = \"text-align: right;\">22.7086</td><td style = \"text-align: right;\">22.7089</td><td style = \"text-align: right;\">22.7095</td></tr><tr><td class = \"rowNumber\" style = \"font-weight: bold; text-align: right;\">3</td><td style = \"text-align: right;\">2.0</td><td style = \"text-align: right;\">22.708</td><td style = \"text-align: right;\">22.7087</td><td style = \"text-align: right;\">36.4735</td><td style = \"text-align: right;\">36.4761</td><td style = \"text-align: right;\">22.7087</td><td style = \"text-align: right;\">22.7088</td><td style = \"text-align: right;\">22.7082</td><td style = \"text-align: right;\">22.7085</td><td style = \"text-align: right;\">22.7088</td></tr><tr><td class = \"rowNumber\" style = \"font-weight: bold; text-align: right;\">4</td><td style = \"text-align: right;\">3.0</td><td style = \"text-align: right;\">79.0092</td><td style = \"text-align: right;\">26.6092</td><td style = \"text-align: right;\">38.2553</td><td style = \"text-align: right;\">38.2562</td><td style = \"text-align: right;\">35.618</td><td style = \"text-align: right;\">22.7087</td><td style = \"text-align: right;\">22.7082</td><td style = \"text-align: right;\">60.916</td><td style = \"text-align: right;\">22.709</td></tr><tr><td class = \"rowNumber\" style = \"font-weight: bold; text-align: right;\">5</td><td style = \"text-align: right;\">4.0</td><td style = \"text-align: right;\">51.6385</td><td style = \"text-align: right;\">27.548</td><td style = \"text-align: right;\">31.7082</td><td style = \"text-align: right;\">31.7099</td><td style = \"text-align: right;\">76.562</td><td style = \"text-align: right;\">55.3012</td><td style = \"text-align: right;\">59.7337</td><td style = \"text-align: right;\">51.8873</td><td style = \"text-align: right;\">144.338</td></tr><tr><td class = \"rowNumber\" style = \"font-weight: bold; text-align: right;\">6</td><td style = \"text-align: right;\">5.0</td><td style = \"text-align: right;\">54.9316</td><td style = \"text-align: right;\">152.105</td><td style = \"text-align: right;\">50.0758</td><td style = \"text-align: right;\">50.0751</td><td style = \"text-align: right;\">97.6348</td><td style = \"text-align: right;\">363.89</td><td style = \"text-align: right;\">166.197</td><td style = \"text-align: right;\">46.3402</td><td style = \"text-align: right;\">52.9893</td></tr></tbody></table></div>"
      ],
      "text/latex": [
       "\\begin{tabular}{r|ccccccccc}\n",
       "\t& σ\\_init² ↓ | Φ\\_init → & -100.0 & -1.0 & 0.0 & 1.0e-5 & 1.0 & 5.0 & 10.0 & \\\\\n",
       "\t\\hline\n",
       "\t& Float64 & Float64 & Float64 & Float64 & Float64 & Float64 & Float64 & Float64 & \\\\\n",
       "\t\\hline\n",
       "\t1 & 1.0e-5 & 22.7096 & 22.7093 & 22.7081 & 22.7093 & 22.7088 & 22.709 & 22.7076 & $\\dots$ \\\\\n",
       "\t2 & 1.0 & 22.7089 & 22.7081 & 22.7097 & 22.9557 & 22.7091 & 22.7091 & 22.7086 & $\\dots$ \\\\\n",
       "\t3 & 2.0 & 22.708 & 22.7087 & 36.4735 & 36.4761 & 22.7087 & 22.7088 & 22.7082 & $\\dots$ \\\\\n",
       "\t4 & 3.0 & 79.0092 & 26.6092 & 38.2553 & 38.2562 & 35.618 & 22.7087 & 22.7082 & $\\dots$ \\\\\n",
       "\t5 & 4.0 & 51.6385 & 27.548 & 31.7082 & 31.7099 & 76.562 & 55.3012 & 59.7337 & $\\dots$ \\\\\n",
       "\t6 & 5.0 & 54.9316 & 152.105 & 50.0758 & 50.0751 & 97.6348 & 363.89 & 166.197 & $\\dots$ \\\\\n",
       "\\end{tabular}\n"
      ],
      "text/plain": [
       "\u001b[1m6×10 DataFrame\u001b[0m\n",
       "\u001b[1m Row \u001b[0m│\u001b[1m σ_init² ↓ | Φ_init → \u001b[0m\u001b[1m -100.0  \u001b[0m\u001b[1m -1.0     \u001b[0m\u001b[1m 0.0     \u001b[0m\u001b[1m 1.0e-5  \u001b[0m\u001b[1m 1.0     \u001b[0m\u001b[1m 5.0\u001b[0m ⋯\n",
       "     │\u001b[90m Float64              \u001b[0m\u001b[90m Float64 \u001b[0m\u001b[90m Float64  \u001b[0m\u001b[90m Float64 \u001b[0m\u001b[90m Float64 \u001b[0m\u001b[90m Float64 \u001b[0m\u001b[90m Flo\u001b[0m ⋯\n",
       "─────┼──────────────────────────────────────────────────────────────────────────\n",
       "   1 │               1.0e-5  22.7096   22.7093  22.7081  22.7093  22.7088   22 ⋯\n",
       "   2 │               1.0     22.7089   22.7081  22.7097  22.9557  22.7091   22\n",
       "   3 │               2.0     22.708    22.7087  36.4735  36.4761  22.7087   22\n",
       "   4 │               3.0     79.0092   26.6092  38.2553  38.2562  35.618    22\n",
       "   5 │               4.0     51.6385   27.548   31.7082  31.7099  76.562    55 ⋯\n",
       "   6 │               5.0     54.9316  152.105   50.0758  50.0751  97.6348  363\n",
       "\u001b[36m                                                               4 columns omitted\u001b[0m"
      ]
     },
     "metadata": {},
     "output_type": "display_data"
    }
   ],
   "source": [
    "σ_init=[1e-5,1,2,3,4,5]\n",
    "println(\"MAPE table (percentage) :\")\n",
    "GridEstimation(MonthlyConcatanatedEstimation, Monthly_temp, Φ_init, σ_init, Φ_month)"
   ]
  },
  {
   "cell_type": "markdown",
   "metadata": {},
   "source": [
    "Values start to fluctuate from σ_init² = 2 for monthly estimation. It seems that in every case the initial value for σ must be close to 0 for best results."
   ]
  },
  {
   "cell_type": "code",
   "execution_count": 35,
   "metadata": {},
   "outputs": [
    {
     "name": "stdout",
     "output_type": "stream",
     "text": [
      "MAPE table (percentage) :\n"
     ]
    },
    {
     "data": {
      "text/html": [
       "<div><div style = \"float: left;\"><span>6×10 DataFrame</span></div><div style = \"clear: both;\"></div></div><div class = \"data-frame\" style = \"overflow-x: scroll;\"><table class = \"data-frame\" style = \"margin-bottom: 6px;\"><thead><tr class = \"header\"><th class = \"rowNumber\" style = \"font-weight: bold; text-align: right;\">Row</th><th style = \"text-align: left;\">σ_init² ↓ | Φ_init →</th><th style = \"text-align: left;\">-100.0</th><th style = \"text-align: left;\">-1.0</th><th style = \"text-align: left;\">0.0</th><th style = \"text-align: left;\">1.0e-5</th><th style = \"text-align: left;\">1.0</th><th style = \"text-align: left;\">5.0</th><th style = \"text-align: left;\">10.0</th><th style = \"text-align: left;\">100.0</th><th style = \"text-align: left;\">1000.0</th></tr><tr class = \"subheader headerLastRow\"><th class = \"rowNumber\" style = \"font-weight: bold; text-align: right;\"></th><th title = \"Float64\" style = \"text-align: left;\">Float64</th><th title = \"Float64\" style = \"text-align: left;\">Float64</th><th title = \"Float64\" style = \"text-align: left;\">Float64</th><th title = \"Float64\" style = \"text-align: left;\">Float64</th><th title = \"Float64\" style = \"text-align: left;\">Float64</th><th title = \"Float64\" style = \"text-align: left;\">Float64</th><th title = \"Float64\" style = \"text-align: left;\">Float64</th><th title = \"Float64\" style = \"text-align: left;\">Float64</th><th title = \"Float64\" style = \"text-align: left;\">Float64</th><th title = \"Float64\" style = \"text-align: left;\">Float64</th></tr></thead><tbody><tr><td class = \"rowNumber\" style = \"font-weight: bold; text-align: right;\">1</td><td style = \"text-align: right;\">1.0e-5</td><td style = \"text-align: right;\">5.87085</td><td style = \"text-align: right;\">5.87078</td><td style = \"text-align: right;\">5.87082</td><td style = \"text-align: right;\">5.87084</td><td style = \"text-align: right;\">5.87085</td><td style = \"text-align: right;\">5.87079</td><td style = \"text-align: right;\">5.87078</td><td style = \"text-align: right;\">5.87072</td><td style = \"text-align: right;\">5.8708</td></tr><tr><td class = \"rowNumber\" style = \"font-weight: bold; text-align: right;\">2</td><td style = \"text-align: right;\">1.0</td><td style = \"text-align: right;\">5.87074</td><td style = \"text-align: right;\">5.87082</td><td style = \"text-align: right;\">5.87088</td><td style = \"text-align: right;\">12.268</td><td style = \"text-align: right;\">5.87083</td><td style = \"text-align: right;\">5.87076</td><td style = \"text-align: right;\">5.87077</td><td style = \"text-align: right;\">5.8708</td><td style = \"text-align: right;\">5.87086</td></tr><tr><td class = \"rowNumber\" style = \"font-weight: bold; text-align: right;\">3</td><td style = \"text-align: right;\">2.0</td><td style = \"text-align: right;\">5.87074</td><td style = \"text-align: right;\">5.87075</td><td style = \"text-align: right;\">20.434</td><td style = \"text-align: right;\">20.434</td><td style = \"text-align: right;\">5.87075</td><td style = \"text-align: right;\">5.87072</td><td style = \"text-align: right;\">5.87086</td><td style = \"text-align: right;\">5.87078</td><td style = \"text-align: right;\">5.87085</td></tr><tr><td class = \"rowNumber\" style = \"font-weight: bold; text-align: right;\">4</td><td style = \"text-align: right;\">3.0</td><td style = \"text-align: right;\">14.0368</td><td style = \"text-align: right;\">14.0368</td><td style = \"text-align: right;\">28.1766</td><td style = \"text-align: right;\">28.1766</td><td style = \"text-align: right;\">14.0369</td><td style = \"text-align: right;\">5.87074</td><td style = \"text-align: right;\">5.87076</td><td style = \"text-align: right;\">14.0369</td><td style = \"text-align: right;\">5.87084</td></tr><tr><td class = \"rowNumber\" style = \"font-weight: bold; text-align: right;\">5</td><td style = \"text-align: right;\">4.0</td><td style = \"text-align: right;\">14.0369</td><td style = \"text-align: right;\">14.0369</td><td style = \"text-align: right;\">20.434</td><td style = \"text-align: right;\">20.434</td><td style = \"text-align: right;\">14.0368</td><td style = \"text-align: right;\">14.0369</td><td style = \"text-align: right;\">14.0369</td><td style = \"text-align: right;\">14.0368</td><td style = \"text-align: right;\">14.0368</td></tr><tr><td class = \"rowNumber\" style = \"font-weight: bold; text-align: right;\">6</td><td style = \"text-align: right;\">5.0</td><td style = \"text-align: right;\">14.0369</td><td style = \"text-align: right;\">22.1122</td><td style = \"text-align: right;\">35.9602</td><td style = \"text-align: right;\">35.9602</td><td style = \"text-align: right;\">21.8204</td><td style = \"text-align: right;\">14.0368</td><td style = \"text-align: right;\">14.0368</td><td style = \"text-align: right;\">14.0368</td><td style = \"text-align: right;\">14.0369</td></tr></tbody></table></div>"
      ],
      "text/latex": [
       "\\begin{tabular}{r|ccccccccc}\n",
       "\t& σ\\_init² ↓ | Φ\\_init → & -100.0 & -1.0 & 0.0 & 1.0e-5 & 1.0 & 5.0 & 10.0 & \\\\\n",
       "\t\\hline\n",
       "\t& Float64 & Float64 & Float64 & Float64 & Float64 & Float64 & Float64 & Float64 & \\\\\n",
       "\t\\hline\n",
       "\t1 & 1.0e-5 & 5.87085 & 5.87078 & 5.87082 & 5.87084 & 5.87085 & 5.87079 & 5.87078 & $\\dots$ \\\\\n",
       "\t2 & 1.0 & 5.87074 & 5.87082 & 5.87088 & 12.268 & 5.87083 & 5.87076 & 5.87077 & $\\dots$ \\\\\n",
       "\t3 & 2.0 & 5.87074 & 5.87075 & 20.434 & 20.434 & 5.87075 & 5.87072 & 5.87086 & $\\dots$ \\\\\n",
       "\t4 & 3.0 & 14.0368 & 14.0368 & 28.1766 & 28.1766 & 14.0369 & 5.87074 & 5.87076 & $\\dots$ \\\\\n",
       "\t5 & 4.0 & 14.0369 & 14.0369 & 20.434 & 20.434 & 14.0368 & 14.0369 & 14.0369 & $\\dots$ \\\\\n",
       "\t6 & 5.0 & 14.0369 & 22.1122 & 35.9602 & 35.9602 & 21.8204 & 14.0368 & 14.0368 & $\\dots$ \\\\\n",
       "\\end{tabular}\n"
      ],
      "text/plain": [
       "\u001b[1m6×10 DataFrame\u001b[0m\n",
       "\u001b[1m Row \u001b[0m│\u001b[1m σ_init² ↓ | Φ_init → \u001b[0m\u001b[1m -100.0   \u001b[0m\u001b[1m -1.0     \u001b[0m\u001b[1m 0.0      \u001b[0m\u001b[1m 1.0e-5   \u001b[0m\u001b[1m 1.0      \u001b[0m\u001b[1m\u001b[0m ⋯\n",
       "     │\u001b[90m Float64              \u001b[0m\u001b[90m Float64  \u001b[0m\u001b[90m Float64  \u001b[0m\u001b[90m Float64  \u001b[0m\u001b[90m Float64  \u001b[0m\u001b[90m Float64  \u001b[0m\u001b[90m\u001b[0m ⋯\n",
       "─────┼──────────────────────────────────────────────────────────────────────────\n",
       "   1 │               1.0e-5   5.87085   5.87078   5.87082   5.87084   5.87085  ⋯\n",
       "   2 │               1.0      5.87074   5.87082   5.87088  12.268     5.87083\n",
       "   3 │               2.0      5.87074   5.87075  20.434    20.434     5.87075\n",
       "   4 │               3.0     14.0368   14.0368   28.1766   28.1766   14.0369\n",
       "   5 │               4.0     14.0369   14.0369   20.434    20.434    14.0368   ⋯\n",
       "   6 │               5.0     14.0369   22.1122   35.9602   35.9602   21.8204\n",
       "\u001b[36m                                                               4 columns omitted\u001b[0m"
      ]
     },
     "metadata": {},
     "output_type": "display_data"
    }
   ],
   "source": [
    "σ_init=[1e-5,1,2,3,4,5]\n",
    "println(\"MAPE table (percentage) :\")\n",
    "GridEstimation(MonthlyConcatanatedEstimation, Monthly_temp, Φ_init, σ_init, σ_month, sigma_est=true)"
   ]
  },
  {
   "cell_type": "markdown",
   "metadata": {},
   "source": [
    "When we estimate σ, values became also unsatisfactory from σ_init² = 2."
   ]
  },
  {
   "cell_type": "markdown",
   "metadata": {},
   "source": [
    "## 3.One likelihood for each month"
   ]
  },
  {
   "cell_type": "code",
   "execution_count": 36,
   "metadata": {},
   "outputs": [
    {
     "data": {
      "text/html": [
       "<div><div style = \"float: left;\"><span>8×10 DataFrame</span></div><div style = \"clear: both;\"></div></div><div class = \"data-frame\" style = \"overflow-x: scroll;\"><table class = \"data-frame\" style = \"margin-bottom: 6px;\"><thead><tr class = \"header\"><th class = \"rowNumber\" style = \"font-weight: bold; text-align: right;\">Row</th><th style = \"text-align: left;\">σ_init² ↓ | Φ_init →</th><th style = \"text-align: left;\">-100.0</th><th style = \"text-align: left;\">-1.0</th><th style = \"text-align: left;\">0.0</th><th style = \"text-align: left;\">1.0e-5</th><th style = \"text-align: left;\">1.0</th><th style = \"text-align: left;\">5.0</th><th style = \"text-align: left;\">10.0</th><th style = \"text-align: left;\">100.0</th><th style = \"text-align: left;\">1000.0</th></tr><tr class = \"subheader headerLastRow\"><th class = \"rowNumber\" style = \"font-weight: bold; text-align: right;\"></th><th title = \"Float64\" style = \"text-align: left;\">Float64</th><th title = \"Vector{Any}\" style = \"text-align: left;\">Array…</th><th title = \"Vector{Any}\" style = \"text-align: left;\">Array…</th><th title = \"Vector{Any}\" style = \"text-align: left;\">Array…</th><th title = \"Vector{Any}\" style = \"text-align: left;\">Array…</th><th title = \"Vector{Any}\" style = \"text-align: left;\">Array…</th><th title = \"Vector{Any}\" style = \"text-align: left;\">Array…</th><th title = \"Vector{Any}\" style = \"text-align: left;\">Array…</th><th title = \"Vector{Any}\" style = \"text-align: left;\">Array…</th><th title = \"Vector{Any}\" style = \"text-align: left;\">Array…</th></tr></thead><tbody><tr><td class = \"rowNumber\" style = \"font-weight: bold; text-align: right;\">1</td><td style = \"text-align: right;\">1.0e-5</td><td style = \"text-align: left;\">Any[0.384404, 0.124502, 0.792455, 0.268797, 0.661727, 0.903752, 0.154551, 0.428835, 0.0604397, 0.397066, 0.0197908, 0.220694]</td><td style = \"text-align: left;\">Any[0.384403, 0.124492, 0.792453, 0.268812, 0.6625, 0.90375, 0.154548, 0.428836, 0.0604499, 0.397065, 0.0197872, 0.220696]</td><td style = \"text-align: left;\">Any[0.384407, 0.124497, 0.792453, 0.26881, 0.661725, 0.903753, 0.15456, 0.428836, 0.060449, 0.397068, 0.019786, 0.22069]</td><td style = \"text-align: left;\">Any[0.384403, 0.1245, 0.792452, 0.26881, 0.661725, 0.90375, 0.154556, 0.428829, 0.0604386, 0.397063, 0.0197896, 0.220696]</td><td style = \"text-align: left;\">Any[0.384404, 0.124499, 0.792449, 0.268809, 0.661723, 0.903752, 0.154555, 0.428846, 0.0604377, 0.397071, 0.0197906, 0.220697]</td><td style = \"text-align: left;\">Any[0.384404, 0.124502, 0.792452, 0.268809, 0.661724, 0.903752, 0.154554, 0.428834, 0.0604422, 0.397064, 0.019792, 0.220691]</td><td style = \"text-align: left;\">Any[0.384408, 0.124499, 0.792453, 0.268809, 0.661722, 0.903753, 0.154552, 0.428839, 0.0604422, 0.397067, 0.0197901, 0.220693]</td><td style = \"text-align: left;\">Any[0.384404, 0.124493, 0.792453, 0.26881, 0.661723, 0.903752, 0.154554, 0.428834, 0.0604477, 0.397065, 0.0197892, 0.220696]</td><td style = \"text-align: left;\">Any[0.384405, 0.1245, 0.79245, 0.268809, 0.661725, 0.90375, 0.154549, 0.428838, 0.0604429, 0.397061, 0.0197955, 0.220694]</td></tr><tr><td class = \"rowNumber\" style = \"font-weight: bold; text-align: right;\">2</td><td style = \"text-align: right;\">1.0</td><td style = \"text-align: left;\">Any[0.384403, 0.124501, 0.792454, 0.268809, 0.661727, 0.903752, 0.154551, 0.428838, 0.0604441, 0.397063, 0.0197887, 0.220694]</td><td style = \"text-align: left;\">Any[0.3844, 0.1245, 0.792451, 0.268812, 0.661724, 0.903751, 0.154555, 0.428836, 0.0604435, 0.397066, 0.0197902, 0.220693]</td><td style = \"text-align: left;\">Any[0.384402, 0.124503, 0.792453, 0.268809, 0.661722, 0.747595, 0.154548, 0.428839, 0.0604446, 0.397065, 0.0197944, 0.220693]</td><td style = \"text-align: left;\">Any[0.384403, 0.124498, 0.792455, 0.268806, 0.661724, 0.747755, 0.154555, 0.428838, 0.0604366, 0.397069, 0.0197924, 0.220696]</td><td style = \"text-align: left;\">Any[0.384402, 0.124492, 0.792455, 0.268802, 0.661723, 0.903751, 0.154551, 0.428833, 0.0604463, 0.397067, 0.0197944, 0.220695]</td><td style = \"text-align: left;\">Any[0.384402, 0.124503, 0.792452, 0.268805, 0.661721, 0.903752, 0.154556, 0.428838, 0.0604409, 0.397068, 0.01979, 0.220696]</td><td style = \"text-align: left;\">Any[0.384405, 0.124501, 0.792451, 0.26881, 0.661723, 0.903752, 0.154551, 0.428836, 0.0604441, 0.397067, 0.019796, 0.220696]</td><td style = \"text-align: left;\">Any[0.384402, 0.124499, 0.792454, 0.268809, 0.661725, 0.903751, 0.15455, 0.428836, 0.060444, 0.397066, 0.0197924, 0.220692]</td><td style = \"text-align: left;\">Any[0.384406, 0.1245, 0.792452, 0.268811, 0.661723, 0.903751, 0.154559, 0.428836, 0.0604406, 0.397062, 0.0197853, 0.2207]</td></tr><tr><td class = \"rowNumber\" style = \"font-weight: bold; text-align: right;\">3</td><td style = \"text-align: right;\">3.0</td><td style = \"text-align: left;\">Any[0.384403, 0.124501, 0.792451, 0.268808, 0.661726, 0.903752, 0.154548, 3.12479, 0.0604393, 0.397067, 0.0197948, 0.220694]</td><td style = \"text-align: left;\">Any[0.384404, 0.1245, 0.79245, 0.268814, 0.661724, 0.903754, 0.154556, 0.190385, 0.0604474, 0.397061, 0.0197901, 0.220694]</td><td style = \"text-align: left;\">Any[0.384403, 0.1245, 1.42453, 0.26881, 0.661726, 0.709157, 0.154552, 0.00469525, 0.0604457, 0.397068, 0.0197945, 0.220698]</td><td style = \"text-align: left;\">Any[0.384393, 0.1245, 1.42483, 0.268815, 0.661725, 0.709309, 0.154551, 0.00470619, 0.06044, 0.397063, 0.0197925, 0.220697]</td><td style = \"text-align: left;\">Any[0.384405, 0.124495, 0.792455, 0.268814, 0.661721, 0.90375, 0.154548, 0.901606, 0.0604447, 0.39707, 0.0197873, 0.220698]</td><td style = \"text-align: left;\">Any[0.531812, 0.124503, 0.792454, 0.268815, 0.661725, 0.903752, 0.154552, 0.428837, 0.0604505, 0.397066, 0.0197964, 0.220696]</td><td style = \"text-align: left;\">Any[-0.0711885, 0.124496, 0.792453, 0.268811, 0.661727, 0.903752, 0.154552, 0.428838, 0.0604397, 0.39707, 0.0197899, 0.220693]</td><td style = \"text-align: left;\">Any[0.384403, 0.124501, 0.792453, 0.268813, 0.661723, 0.903751, 0.15455, 2.25632, 0.06044, 0.397067, 0.0197952, 0.220692]</td><td style = \"text-align: left;\">Any[0.384398, 0.124499, 0.792451, 0.268809, 0.661722, 0.903752, 0.154554, 0.428839, 0.0604428, 0.397069, 0.0197881, 0.220694]</td></tr><tr><td class = \"rowNumber\" style = \"font-weight: bold; text-align: right;\">4</td><td style = \"text-align: right;\">5.0</td><td style = \"text-align: left;\">Any[0.384401, 0.124499, 0.792455, 0.268803, 0.661724, 0.90375, 0.154553, 1.96906, 0.0604456, 0.397066, 0.01979, 0.220695]</td><td style = \"text-align: left;\">Any[0.384409, 0.124505, 0.792453, 0.268801, 0.661726, 0.903752, 0.154548, 3.41078, 0.0604398, 0.397065, 0.0197955, 0.220696]</td><td style = \"text-align: left;\">Any[-0.0274192, 0.124498, 0.256422, 0.268806, 0.661721, 0.878262, 0.154551, -0.0274192, 0.0604428, 0.397071, 0.0197908, 0.220691]</td><td style = \"text-align: left;\">Any[-0.0274147, 0.124503, 0.256483, 0.26881, 0.661725, 0.878447, 0.15455, -0.0274147, 0.0604367, 0.397061, 0.0197883, 0.220698]</td><td style = \"text-align: left;\">Any[0.384401, 0.124501, 0.792452, 0.26881, 0.661723, 0.903751, 0.154553, -2.82507, 0.0604452, 0.397068, 0.0197919, 0.220695]</td><td style = \"text-align: left;\">Any[-0.0518997, 0.1245, 0.792455, 0.26881, 0.661728, 0.903753, 0.154555, 16.7991, 0.060442, 0.39707, 0.0197914, 0.220696]</td><td style = \"text-align: left;\">Any[-0.213957, 0.124498, 0.792454, 0.268809, 0.661727, 0.903751, 0.154557, -6.50977, 0.060437, 0.397065, 0.019792, 0.220696]</td><td style = \"text-align: left;\">Any[0.384402, 0.124502, 0.792452, 0.268812, 0.661723, 0.903751, 0.154552, 1.55672, 0.0604442, 0.397067, 0.0197968, 0.220696]</td><td style = \"text-align: left;\">Any[0.3844, 0.124502, 0.792452, 0.268813, 0.661724, 0.903751, 0.154556, 1.87583, 0.0604384, 0.397066, 0.0197932, 0.22069]</td></tr><tr><td class = \"rowNumber\" style = \"font-weight: bold; text-align: right;\">5</td><td style = \"text-align: right;\">7.0</td><td style = \"text-align: left;\">Any[1.52311, -0.0604806, 0.79245, 0.268807, 0.661725, 0.903754, 0.154551, -2.021, 0.0604496, 0.397071, 0.0197907, 0.220693]</td><td style = \"text-align: left;\">Any[1.16546, 0.124499, 0.792453, 0.268808, 0.661725, 0.90375, 0.15455, -0.0668813, 0.0604373, 0.397066, 0.0197892, 0.220697]</td><td style = \"text-align: left;\">Any[-0.00439912, -0.00439912, 0.530368, 0.268804, 0.661729, 1.50845, 0.154552, -0.00439912, 0.0604436, 0.397068, 0.0197904, 0.220692]</td><td style = \"text-align: left;\">Any[-0.00439, -0.00439, 0.530484, 0.268812, 0.661723, 1.50876, 0.154554, -0.00439, 0.0604412, 0.397065, 0.0197891, 0.220696]</td><td style = \"text-align: left;\">Any[-0.0516353, 0.124499, 0.792452, 0.268806, 0.661723, 0.903753, 0.154548, 4.53042, 0.0604472, 0.397067, 0.0197927, 0.2207]</td><td style = \"text-align: left;\">Any[0.384402, 0.124499, 0.792449, 0.268813, 0.661724, 0.903752, 0.154549, 0.933655, 0.0604456, 0.397068, 0.019793, 0.220695]</td><td style = \"text-align: left;\">Any[0.384406, 0.124504, 0.792454, 0.268809, 0.661722, 0.903752, 0.15455, 3.65981, 0.0604397, 0.397066, 0.0197925, 0.220696]</td><td style = \"text-align: left;\">Any[1.47826, 0.0214346, 0.792452, 0.268808, 0.661725, 0.903752, 0.154552, -0.450402, 0.0604453, 0.39707, 0.0197955, 0.220698]</td><td style = \"text-align: left;\">Any[0.384404, 0.316005, 0.792455, 0.268807, 0.661723, 0.903753, 0.154551, 1.9603, 0.0604425, 0.397066, 0.0197881, 0.220694]</td></tr><tr><td class = \"rowNumber\" style = \"font-weight: bold; text-align: right;\">6</td><td style = \"text-align: right;\">9.0</td><td style = \"text-align: left;\">Any[1.24526, -0.952787, 0.792454, 0.268808, 0.661721, 0.903752, 0.154551, -2.55362, 0.0604401, 0.397065, 0.0197928, 0.2207]</td><td style = \"text-align: left;\">Any[1.05598, 3.20745, 0.792453, 0.268808, 0.661722, 0.903753, 0.154551, -2.35453, 0.0604417, 0.397066, 0.0197904, 0.220693]</td><td style = \"text-align: left;\">Any[-0.0017425, -0.0017425, 3.62968, 0.26881, 0.661722, 1.55445, 0.15455, -0.0017425, 0.0604445, 0.397062, 0.0197887, 0.220698]</td><td style = \"text-align: left;\">Any[-0.00173285, -0.00173285, 3.63041, 0.26881, 0.661725, 1.55477, 0.154552, -0.00173285, 0.0604404, 0.39707, 0.0197944, 0.220698]</td><td style = \"text-align: left;\">Any[1.01609, -0.124902, 0.792457, 0.268812, 0.661723, 0.903752, 0.154559, 3.80962, 0.0604412, 0.397068, 0.0197923, 0.220696]</td><td style = \"text-align: left;\">Any[-1.19322, 6.09112, 0.792454, 0.268812, 0.661723, 0.903751, 0.154551, 1.37142, 0.0604365, -0.053955, 0.0197889, 0.220694]</td><td style = \"text-align: left;\">Any[-1.67553, 2.05035, 0.792453, 0.26881, 0.661724, 0.903752, 0.154554, 1.52111, 0.0604435, 0.397067, 0.0197955, 0.220697]</td><td style = \"text-align: left;\">Any[1.04809, -0.980304, 0.792457, 0.268807, 0.661725, 0.903753, 0.154551, -0.447858, 0.0604401, 0.397069, 0.019786, 0.220699]</td><td style = \"text-align: left;\">Any[-2.07473, 1.11038, 0.792452, 0.268811, 0.661723, 0.903753, 0.15455, 1.12862, 0.0604448, 0.397066, 0.0197889, 0.220691]</td></tr><tr><td class = \"rowNumber\" style = \"font-weight: bold; text-align: right;\">7</td><td style = \"text-align: right;\">15.0</td><td style = \"text-align: left;\">Any[-2.1078, 1.20953, 0.792451, 0.268804, 0.661724, 0.903752, 0.154554, 9.05012, 0.0604453, 4.30627, 0.0197952, 0.22069]</td><td style = \"text-align: left;\">Any[-0.0570791, -0.0570791, 0.792452, 0.268812, 0.661725, 0.21397, 0.154552, -2.6568, 0.0604446, -0.133852, 0.0197896, 0.220697]</td><td style = \"text-align: left;\">Any[0.0173589, 0.0173589, 0.427415, 0.268808, 0.661729, 0.232218, 0.154546, 0.0173589, 0.0604431, 0.0173589, 0.082475, 0.220696]</td><td style = \"text-align: left;\">Any[0.0173724, 0.0173724, 0.42751, 0.26881, 0.661726, 0.232274, 0.154553, 0.0173724, 0.0604452, 0.0173724, 0.0825015, 0.220699]</td><td style = \"text-align: left;\">Any[3.87064, 0.547805, 0.792451, 0.26881, 0.661727, 0.90375, 0.154551, 3.87064, 0.0604416, -0.0428901, 0.0197932, 0.220693]</td><td style = \"text-align: left;\">Any[0.881255, -0.479543, 0.792453, 0.26881, 0.661726, 0.903752, 0.154557, 2.08606, 0.0604437, 0.397066, -0.709902, 0.220691]</td><td style = \"text-align: left;\">Any[0.258831, 1.44423, 0.792455, 0.268805, 0.661723, 0.903753, 0.154556, 1.6638, 0.0604421, -0.261324, 0.0197919, 0.220708]</td><td style = \"text-align: left;\">Any[-0.443627, 1.28605, 0.792453, 0.268808, 0.661722, 0.903751, 0.154552, 2.26077, 0.060446, 4.61429, 0.0197886, 0.220695]</td><td style = \"text-align: left;\">Any[1.48847, -0.998982, 0.792452, 0.268811, 0.661727, 0.69438, 0.154553, -2.21127, 0.0604436, 0.397067, -0.542377, 0.220688]</td></tr><tr><td class = \"rowNumber\" style = \"font-weight: bold; text-align: right;\">8</td><td style = \"text-align: right;\">50.0</td><td style = \"text-align: left;\">Any[2.70167, 7.48181, 0.792452, 0.268813, 0.661724, 1.20496, -1.98248, -2.71689, 0.0604421, -1.63071, 1.12092, 0.220697]</td><td style = \"text-align: left;\">Any[-2.5278, -2.5278, 0.792452, 0.268811, 0.661724, 0.978553, 2.19125, -2.5278, 0.0604417, -1.3403, -1.3403, 0.220695]</td><td style = \"text-align: left;\">Any[-0.00148471, -0.00148471, 0.7363, 0.268807, 0.661727, 0.856318, -0.00148471, -0.00148471, 0.0604415, -0.00148471, 0.101435, -0.00148471]</td><td style = \"text-align: left;\">Any[-0.001475, -0.001475, 0.736457, 0.268807, 0.661723, 0.8565, -0.001475, -0.001475, 0.0604434, -0.001475, 0.101465, -0.001475]</td><td style = \"text-align: left;\">Any[2.68863, 2.68863, 0.792453, 0.268811, 0.661725, 0.913245, 0.154551, 2.68863, 0.0604465, 2.68863, 2.23085, 0.220695]</td><td style = \"text-align: left;\">Any[6.49362, -35.1009, 0.792455, 0.268811, 0.661725, 1.49752, 2.14214, -0.812169, 0.060448, 0.603373, 0.632883, 0.220698]</td><td style = \"text-align: left;\">Any[3.08587, 1.57917, 0.792455, 0.268809, 0.661726, 1.56764, 2.1637, 1.76062, 0.0604595, 1.57917, 1.02317, 0.220693]</td><td style = \"text-align: left;\">Any[2.58744, 39.1974, 0.792454, 0.268808, 0.661724, 0.931083, -0.245433, 3.63232, 0.0604399, 0.331124, 1.46087, 0.220699]</td><td style = \"text-align: left;\">Any[1.41897e153, 0.942421, 0.792452, 0.268811, 0.661722, 0.650307, 0.922802, 2.49794, 0.0604385, 1.98475, 3.08725, 0.220696]</td></tr></tbody></table></div>"
      ],
      "text/latex": [
       "\\begin{tabular}{r|ccc}\n",
       "\t& σ\\_init² ↓ | Φ\\_init → & -100.0 & \\\\\n",
       "\t\\hline\n",
       "\t& Float64 & Array… & \\\\\n",
       "\t\\hline\n",
       "\t1 & 1.0e-5 & [0.384404, 0.124502, 0.792455, 0.268797, 0.661727, 0.903752, 0.154551, 0.428835, 0.0604397, 0.397066, 0.0197908, 0.220694] & $\\dots$ \\\\\n",
       "\t2 & 1.0 & [0.384403, 0.124501, 0.792454, 0.268809, 0.661727, 0.903752, 0.154551, 0.428838, 0.0604441, 0.397063, 0.0197887, 0.220694] & $\\dots$ \\\\\n",
       "\t3 & 3.0 & [0.384403, 0.124501, 0.792451, 0.268808, 0.661726, 0.903752, 0.154548, 3.12479, 0.0604393, 0.397067, 0.0197948, 0.220694] & $\\dots$ \\\\\n",
       "\t4 & 5.0 & [0.384401, 0.124499, 0.792455, 0.268803, 0.661724, 0.90375, 0.154553, 1.96906, 0.0604456, 0.397066, 0.01979, 0.220695] & $\\dots$ \\\\\n",
       "\t5 & 7.0 & [1.52311, -0.0604806, 0.79245, 0.268807, 0.661725, 0.903754, 0.154551, -2.021, 0.0604496, 0.397071, 0.0197907, 0.220693] & $\\dots$ \\\\\n",
       "\t6 & 9.0 & [1.24526, -0.952787, 0.792454, 0.268808, 0.661721, 0.903752, 0.154551, -2.55362, 0.0604401, 0.397065, 0.0197928, 0.2207] & $\\dots$ \\\\\n",
       "\t7 & 15.0 & [-2.1078, 1.20953, 0.792451, 0.268804, 0.661724, 0.903752, 0.154554, 9.05012, 0.0604453, 4.30627, 0.0197952, 0.22069] & $\\dots$ \\\\\n",
       "\t8 & 50.0 & [2.70167, 7.48181, 0.792452, 0.268813, 0.661724, 1.20496, -1.98248, -2.71689, 0.0604421, -1.63071, 1.12092, 0.220697] & $\\dots$ \\\\\n",
       "\\end{tabular}\n"
      ],
      "text/plain": [
       "\u001b[1m8×10 DataFrame\u001b[0m\n",
       "\u001b[1m Row \u001b[0m│\u001b[1m σ_init² ↓ | Φ_init → \u001b[0m\u001b[1m -100.0                            \u001b[0m\u001b[1m -1.0          \u001b[0m ⋯\n",
       "     │\u001b[90m Float64              \u001b[0m\u001b[90m Array…                            \u001b[0m\u001b[90m Array…        \u001b[0m ⋯\n",
       "─────┼──────────────────────────────────────────────────────────────────────────\n",
       "   1 │               1.0e-5  Any[0.384404, 0.124502, 0.792455…  Any[0.384403,  ⋯\n",
       "   2 │               1.0     Any[0.384403, 0.124501, 0.792454…  Any[0.3844, 0.\n",
       "   3 │               3.0     Any[0.384403, 0.124501, 0.792451…  Any[0.384404,\n",
       "   4 │               5.0     Any[0.384401, 0.124499, 0.792455…  Any[0.384409,\n",
       "   5 │               7.0     Any[1.52311, -0.0604806, 0.79245…  Any[1.16546, 0 ⋯\n",
       "   6 │               9.0     Any[1.24526, -0.952787, 0.792454…  Any[1.05598, 3\n",
       "   7 │              15.0     Any[-2.1078, 1.20953, 0.792451, …  Any[-0.0570791\n",
       "   8 │              50.0     Any[2.70167, 7.48181, 0.792452, …  Any[-2.5278, -\n",
       "\u001b[36m                                                               8 columns omitted\u001b[0m"
      ]
     },
     "metadata": {},
     "output_type": "display_data"
    }
   ],
   "source": [
    "σ_init=[1e-5,1,3,5,7,9,15,50]\n",
    "GridEstimation(MonthlyEstimationSumLL, Monthly_temp, Φ_init, σ_init)"
   ]
  },
  {
   "cell_type": "markdown",
   "metadata": {},
   "source": [
    "Values start to fluctuate from σ_init² = 2 for monthly estimation with sum of likelihood."
   ]
  },
  {
   "cell_type": "code",
   "execution_count": 37,
   "metadata": {},
   "outputs": [
    {
     "name": "stdout",
     "output_type": "stream",
     "text": [
      "MAPE table (percentage) :\n"
     ]
    },
    {
     "data": {
      "text/html": [
       "<div><div style = \"float: left;\"><span>6×10 DataFrame</span></div><div style = \"clear: both;\"></div></div><div class = \"data-frame\" style = \"overflow-x: scroll;\"><table class = \"data-frame\" style = \"margin-bottom: 6px;\"><thead><tr class = \"header\"><th class = \"rowNumber\" style = \"font-weight: bold; text-align: right;\">Row</th><th style = \"text-align: left;\">σ_init² ↓ | Φ_init →</th><th style = \"text-align: left;\">-100.0</th><th style = \"text-align: left;\">-1.0</th><th style = \"text-align: left;\">0.0</th><th style = \"text-align: left;\">1.0e-5</th><th style = \"text-align: left;\">1.0</th><th style = \"text-align: left;\">5.0</th><th style = \"text-align: left;\">10.0</th><th style = \"text-align: left;\">100.0</th><th style = \"text-align: left;\">1000.0</th></tr><tr class = \"subheader headerLastRow\"><th class = \"rowNumber\" style = \"font-weight: bold; text-align: right;\"></th><th title = \"Float64\" style = \"text-align: left;\">Float64</th><th title = \"Float64\" style = \"text-align: left;\">Float64</th><th title = \"Float64\" style = \"text-align: left;\">Float64</th><th title = \"Float64\" style = \"text-align: left;\">Float64</th><th title = \"Float64\" style = \"text-align: left;\">Float64</th><th title = \"Float64\" style = \"text-align: left;\">Float64</th><th title = \"Float64\" style = \"text-align: left;\">Float64</th><th title = \"Float64\" style = \"text-align: left;\">Float64</th><th title = \"Float64\" style = \"text-align: left;\">Float64</th><th title = \"Float64\" style = \"text-align: left;\">Float64</th></tr></thead><tbody><tr><td class = \"rowNumber\" style = \"font-weight: bold; text-align: right;\">1</td><td style = \"text-align: right;\">1.0e-5</td><td style = \"text-align: right;\">21.836</td><td style = \"text-align: right;\">21.8263</td><td style = \"text-align: right;\">21.8353</td><td style = \"text-align: right;\">21.8363</td><td style = \"text-align: right;\">21.8369</td><td style = \"text-align: right;\">21.8359</td><td style = \"text-align: right;\">21.8362</td><td style = \"text-align: right;\">21.8352</td><td style = \"text-align: right;\">21.8358</td></tr><tr><td class = \"rowNumber\" style = \"font-weight: bold; text-align: right;\">2</td><td style = \"text-align: right;\">1.0</td><td style = \"text-align: right;\">21.8363</td><td style = \"text-align: right;\">21.8362</td><td style = \"text-align: right;\">23.2126</td><td style = \"text-align: right;\">23.2113</td><td style = \"text-align: right;\">21.8346</td><td style = \"text-align: right;\">21.8365</td><td style = \"text-align: right;\">21.8359</td><td style = \"text-align: right;\">21.8358</td><td style = \"text-align: right;\">21.8367</td></tr><tr><td class = \"rowNumber\" style = \"font-weight: bold; text-align: right;\">3</td><td style = \"text-align: right;\">2.0</td><td style = \"text-align: right;\">21.8363</td><td style = \"text-align: right;\">21.8359</td><td style = \"text-align: right;\">33.3417</td><td style = \"text-align: right;\">33.34</td><td style = \"text-align: right;\">21.837</td><td style = \"text-align: right;\">29.0121</td><td style = \"text-align: right;\">21.8353</td><td style = \"text-align: right;\">21.8362</td><td style = \"text-align: right;\">21.8361</td></tr><tr><td class = \"rowNumber\" style = \"font-weight: bold; text-align: right;\">4</td><td style = \"text-align: right;\">3.0</td><td style = \"text-align: right;\">78.002</td><td style = \"text-align: right;\">25.6019</td><td style = \"text-align: right;\">37.6299</td><td style = \"text-align: right;\">37.6322</td><td style = \"text-align: right;\">31.6858</td><td style = \"text-align: right;\">24.2568</td><td style = \"text-align: right;\">31.3278</td><td style = \"text-align: right;\">59.9089</td><td style = \"text-align: right;\">21.8366</td></tr><tr><td class = \"rowNumber\" style = \"font-weight: bold; text-align: right;\">5</td><td style = \"text-align: right;\">4.0</td><td style = \"text-align: right;\">50.631</td><td style = \"text-align: right;\">26.5403</td><td style = \"text-align: right;\">38.5639</td><td style = \"text-align: right;\">38.5632</td><td style = \"text-align: right;\">75.5543</td><td style = \"text-align: right;\">54.2932</td><td style = \"text-align: right;\">58.7255</td><td style = \"text-align: right;\">50.8794</td><td style = \"text-align: right;\">143.331</td></tr><tr><td class = \"rowNumber\" style = \"font-weight: bold; text-align: right;\">6</td><td style = \"text-align: right;\">5.0</td><td style = \"text-align: right;\">53.9237</td><td style = \"text-align: right;\">83.9598</td><td style = \"text-align: right;\">44.4696</td><td style = \"text-align: right;\">44.4684</td><td style = \"text-align: right;\">88.4242</td><td style = \"text-align: right;\">371.972</td><td style = \"text-align: right;\">177.655</td><td style = \"text-align: right;\">45.3335</td><td style = \"text-align: right;\">51.9821</td></tr></tbody></table></div>"
      ],
      "text/latex": [
       "\\begin{tabular}{r|ccccccccc}\n",
       "\t& σ\\_init² ↓ | Φ\\_init → & -100.0 & -1.0 & 0.0 & 1.0e-5 & 1.0 & 5.0 & 10.0 & \\\\\n",
       "\t\\hline\n",
       "\t& Float64 & Float64 & Float64 & Float64 & Float64 & Float64 & Float64 & Float64 & \\\\\n",
       "\t\\hline\n",
       "\t1 & 1.0e-5 & 21.836 & 21.8263 & 21.8353 & 21.8363 & 21.8369 & 21.8359 & 21.8362 & $\\dots$ \\\\\n",
       "\t2 & 1.0 & 21.8363 & 21.8362 & 23.2126 & 23.2113 & 21.8346 & 21.8365 & 21.8359 & $\\dots$ \\\\\n",
       "\t3 & 2.0 & 21.8363 & 21.8359 & 33.3417 & 33.34 & 21.837 & 29.0121 & 21.8353 & $\\dots$ \\\\\n",
       "\t4 & 3.0 & 78.002 & 25.6019 & 37.6299 & 37.6322 & 31.6858 & 24.2568 & 31.3278 & $\\dots$ \\\\\n",
       "\t5 & 4.0 & 50.631 & 26.5403 & 38.5639 & 38.5632 & 75.5543 & 54.2932 & 58.7255 & $\\dots$ \\\\\n",
       "\t6 & 5.0 & 53.9237 & 83.9598 & 44.4696 & 44.4684 & 88.4242 & 371.972 & 177.655 & $\\dots$ \\\\\n",
       "\\end{tabular}\n"
      ],
      "text/plain": [
       "\u001b[1m6×10 DataFrame\u001b[0m\n",
       "\u001b[1m Row \u001b[0m│\u001b[1m σ_init² ↓ | Φ_init → \u001b[0m\u001b[1m -100.0  \u001b[0m\u001b[1m -1.0    \u001b[0m\u001b[1m 0.0     \u001b[0m\u001b[1m 1.0e-5  \u001b[0m\u001b[1m 1.0     \u001b[0m\u001b[1m 5.0 \u001b[0m ⋯\n",
       "     │\u001b[90m Float64              \u001b[0m\u001b[90m Float64 \u001b[0m\u001b[90m Float64 \u001b[0m\u001b[90m Float64 \u001b[0m\u001b[90m Float64 \u001b[0m\u001b[90m Float64 \u001b[0m\u001b[90m Floa\u001b[0m ⋯\n",
       "─────┼──────────────────────────────────────────────────────────────────────────\n",
       "   1 │               1.0e-5  21.836   21.8263  21.8353  21.8363  21.8369   21. ⋯\n",
       "   2 │               1.0     21.8363  21.8362  23.2126  23.2113  21.8346   21.\n",
       "   3 │               2.0     21.8363  21.8359  33.3417  33.34    21.837    29.\n",
       "   4 │               3.0     78.002   25.6019  37.6299  37.6322  31.6858   24.\n",
       "   5 │               4.0     50.631   26.5403  38.5639  38.5632  75.5543   54. ⋯\n",
       "   6 │               5.0     53.9237  83.9598  44.4696  44.4684  88.4242  371.\n",
       "\u001b[36m                                                               4 columns omitted\u001b[0m"
      ]
     },
     "metadata": {},
     "output_type": "display_data"
    }
   ],
   "source": [
    "σ_init=[1e-5,1,2,3,4,5]\n",
    "println(\"MAPE table (percentage) :\")\n",
    "GridEstimation(MonthlyEstimationSumLL, Monthly_temp, Φ_init, σ_init, Φ_month)"
   ]
  },
  {
   "cell_type": "markdown",
   "metadata": {},
   "source": [
    "Here, even from σ_init² = 1 estimations start to be less accurate."
   ]
  },
  {
   "cell_type": "code",
   "execution_count": 38,
   "metadata": {},
   "outputs": [
    {
     "name": "stdout",
     "output_type": "stream",
     "text": [
      "MAPE table (percentage) :\n"
     ]
    },
    {
     "data": {
      "text/html": [
       "<div><div style = \"float: left;\"><span>6×10 DataFrame</span></div><div style = \"clear: both;\"></div></div><div class = \"data-frame\" style = \"overflow-x: scroll;\"><table class = \"data-frame\" style = \"margin-bottom: 6px;\"><thead><tr class = \"header\"><th class = \"rowNumber\" style = \"font-weight: bold; text-align: right;\">Row</th><th style = \"text-align: left;\">σ_init² ↓ | Φ_init →</th><th style = \"text-align: left;\">-100.0</th><th style = \"text-align: left;\">-1.0</th><th style = \"text-align: left;\">0.0</th><th style = \"text-align: left;\">1.0e-5</th><th style = \"text-align: left;\">1.0</th><th style = \"text-align: left;\">5.0</th><th style = \"text-align: left;\">10.0</th><th style = \"text-align: left;\">100.0</th><th style = \"text-align: left;\">1000.0</th></tr><tr class = \"subheader headerLastRow\"><th class = \"rowNumber\" style = \"font-weight: bold; text-align: right;\"></th><th title = \"Float64\" style = \"text-align: left;\">Float64</th><th title = \"Float64\" style = \"text-align: left;\">Float64</th><th title = \"Float64\" style = \"text-align: left;\">Float64</th><th title = \"Float64\" style = \"text-align: left;\">Float64</th><th title = \"Float64\" style = \"text-align: left;\">Float64</th><th title = \"Float64\" style = \"text-align: left;\">Float64</th><th title = \"Float64\" style = \"text-align: left;\">Float64</th><th title = \"Float64\" style = \"text-align: left;\">Float64</th><th title = \"Float64\" style = \"text-align: left;\">Float64</th><th title = \"Float64\" style = \"text-align: left;\">Float64</th></tr></thead><tbody><tr><td class = \"rowNumber\" style = \"font-weight: bold; text-align: right;\">1</td><td style = \"text-align: right;\">1.0e-5</td><td style = \"text-align: right;\">3.20889</td><td style = \"text-align: right;\">7.7596</td><td style = \"text-align: right;\">3.20866</td><td style = \"text-align: right;\">3.20884</td><td style = \"text-align: right;\">3.2088</td><td style = \"text-align: right;\">3.2088</td><td style = \"text-align: right;\">3.20878</td><td style = \"text-align: right;\">3.20887</td><td style = \"text-align: right;\">3.20878</td></tr><tr><td class = \"rowNumber\" style = \"font-weight: bold; text-align: right;\">2</td><td style = \"text-align: right;\">1.0</td><td style = \"text-align: right;\">3.20883</td><td style = \"text-align: right;\">3.2088</td><td style = \"text-align: right;\">11.3491</td><td style = \"text-align: right;\">11.3491</td><td style = \"text-align: right;\">3.20875</td><td style = \"text-align: right;\">3.20879</td><td style = \"text-align: right;\">3.20879</td><td style = \"text-align: right;\">3.2088</td><td style = \"text-align: right;\">3.2088</td></tr><tr><td class = \"rowNumber\" style = \"font-weight: bold; text-align: right;\">3</td><td style = \"text-align: right;\">2.0</td><td style = \"text-align: right;\">3.20893</td><td style = \"text-align: right;\">3.20885</td><td style = \"text-align: right;\">19.6087</td><td style = \"text-align: right;\">19.6087</td><td style = \"text-align: right;\">3.20868</td><td style = \"text-align: right;\">11.4685</td><td style = \"text-align: right;\">3.20879</td><td style = \"text-align: right;\">3.20882</td><td style = \"text-align: right;\">3.20893</td></tr><tr><td class = \"rowNumber\" style = \"font-weight: bold; text-align: right;\">4</td><td style = \"text-align: right;\">3.0</td><td style = \"text-align: right;\">11.4685</td><td style = \"text-align: right;\">11.4684</td><td style = \"text-align: right;\">27.4749</td><td style = \"text-align: right;\">27.475</td><td style = \"text-align: right;\">11.4684</td><td style = \"text-align: right;\">11.2984</td><td style = \"text-align: right;\">11.2986</td><td style = \"text-align: right;\">11.4683</td><td style = \"text-align: right;\">3.20896</td></tr><tr><td class = \"rowNumber\" style = \"font-weight: bold; text-align: right;\">5</td><td style = \"text-align: right;\">4.0</td><td style = \"text-align: right;\">11.4685</td><td style = \"text-align: right;\">11.4686</td><td style = \"text-align: right;\">27.6986</td><td style = \"text-align: right;\">27.6986</td><td style = \"text-align: right;\">11.4683</td><td style = \"text-align: right;\">11.4682</td><td style = \"text-align: right;\">11.4684</td><td style = \"text-align: right;\">11.4683</td><td style = \"text-align: right;\">11.4684</td></tr><tr><td class = \"rowNumber\" style = \"font-weight: bold; text-align: right;\">6</td><td style = \"text-align: right;\">5.0</td><td style = \"text-align: right;\">11.4684</td><td style = \"text-align: right;\">11.4684</td><td style = \"text-align: right;\">35.5648</td><td style = \"text-align: right;\">35.5647</td><td style = \"text-align: right;\">11.4684</td><td style = \"text-align: right;\">19.5581</td><td style = \"text-align: right;\">19.5581</td><td style = \"text-align: right;\">11.4684</td><td style = \"text-align: right;\">11.4684</td></tr></tbody></table></div>"
      ],
      "text/latex": [
       "\\begin{tabular}{r|ccccccccc}\n",
       "\t& σ\\_init² ↓ | Φ\\_init → & -100.0 & -1.0 & 0.0 & 1.0e-5 & 1.0 & 5.0 & 10.0 & \\\\\n",
       "\t\\hline\n",
       "\t& Float64 & Float64 & Float64 & Float64 & Float64 & Float64 & Float64 & Float64 & \\\\\n",
       "\t\\hline\n",
       "\t1 & 1.0e-5 & 3.20889 & 7.7596 & 3.20866 & 3.20884 & 3.2088 & 3.2088 & 3.20878 & $\\dots$ \\\\\n",
       "\t2 & 1.0 & 3.20883 & 3.2088 & 11.3491 & 11.3491 & 3.20875 & 3.20879 & 3.20879 & $\\dots$ \\\\\n",
       "\t3 & 2.0 & 3.20893 & 3.20885 & 19.6087 & 19.6087 & 3.20868 & 11.4685 & 3.20879 & $\\dots$ \\\\\n",
       "\t4 & 3.0 & 11.4685 & 11.4684 & 27.4749 & 27.475 & 11.4684 & 11.2984 & 11.2986 & $\\dots$ \\\\\n",
       "\t5 & 4.0 & 11.4685 & 11.4686 & 27.6986 & 27.6986 & 11.4683 & 11.4682 & 11.4684 & $\\dots$ \\\\\n",
       "\t6 & 5.0 & 11.4684 & 11.4684 & 35.5648 & 35.5647 & 11.4684 & 19.5581 & 19.5581 & $\\dots$ \\\\\n",
       "\\end{tabular}\n"
      ],
      "text/plain": [
       "\u001b[1m6×10 DataFrame\u001b[0m\n",
       "\u001b[1m Row \u001b[0m│\u001b[1m σ_init² ↓ | Φ_init → \u001b[0m\u001b[1m -100.0   \u001b[0m\u001b[1m -1.0     \u001b[0m\u001b[1m 0.0      \u001b[0m\u001b[1m 1.0e-5   \u001b[0m\u001b[1m 1.0      \u001b[0m\u001b[1m\u001b[0m ⋯\n",
       "     │\u001b[90m Float64              \u001b[0m\u001b[90m Float64  \u001b[0m\u001b[90m Float64  \u001b[0m\u001b[90m Float64  \u001b[0m\u001b[90m Float64  \u001b[0m\u001b[90m Float64  \u001b[0m\u001b[90m\u001b[0m ⋯\n",
       "─────┼──────────────────────────────────────────────────────────────────────────\n",
       "   1 │               1.0e-5   3.20889   7.7596    3.20866   3.20884   3.2088   ⋯\n",
       "   2 │               1.0      3.20883   3.2088   11.3491   11.3491    3.20875\n",
       "   3 │               2.0      3.20893   3.20885  19.6087   19.6087    3.20868\n",
       "   4 │               3.0     11.4685   11.4684   27.4749   27.475    11.4684\n",
       "   5 │               4.0     11.4685   11.4686   27.6986   27.6986   11.4683   ⋯\n",
       "   6 │               5.0     11.4684   11.4684   35.5648   35.5647   11.4684\n",
       "\u001b[36m                                                               4 columns omitted\u001b[0m"
      ]
     },
     "metadata": {},
     "output_type": "display_data"
    }
   ],
   "source": [
    "σ_init=[1e-5,1,2,3,4,5]\n",
    "println(\"MAPE table (percentage) :\")\n",
    "GridEstimation(MonthlyEstimationSumLL, Monthly_temp, Φ_init, σ_init, σ_month, sigma_est=true)"
   ]
  },
  {
   "cell_type": "markdown",
   "metadata": {},
   "source": [
    "Just like before, only for σ_init² ≈ 0 estimated parameters do not become very inaccurate."
   ]
  },
  {
   "cell_type": "markdown",
   "metadata": {},
   "source": [
    "## Conclusion"
   ]
  },
  {
   "cell_type": "markdown",
   "metadata": {},
   "source": [
    "Φ_init does not seem to have an significant impact on the quality of estimation of Φ and σ. However, if σ_init is superior or equal to 1, some parameters estimated became very innacurate and the greater σ_init is, the more parameters tend to explode. "
   ]
  },
  {
   "cell_type": "markdown",
   "metadata": {},
   "source": [
    "# Testing the initial parameters with BFGS algorithm"
   ]
  },
  {
   "cell_type": "code",
   "execution_count": 39,
   "metadata": {},
   "outputs": [
    {
     "data": {
      "text/html": [
       "<div><div style = \"float: left;\"><span>3×10 DataFrame</span></div><div style = \"clear: both;\"></div></div><div class = \"data-frame\" style = \"overflow-x: scroll;\"><table class = \"data-frame\" style = \"margin-bottom: 6px;\"><thead><tr class = \"header\"><th class = \"rowNumber\" style = \"font-weight: bold; text-align: right;\">Row</th><th style = \"text-align: left;\">σ_init² ↓ | Φ_init →</th><th style = \"text-align: left;\">-100.0</th><th style = \"text-align: left;\">-1.0</th><th style = \"text-align: left;\">0.0</th><th style = \"text-align: left;\">1.0e-5</th><th style = \"text-align: left;\">1.0</th><th style = \"text-align: left;\">5.0</th><th style = \"text-align: left;\">10.0</th><th style = \"text-align: left;\">100.0</th><th style = \"text-align: left;\">1000.0</th></tr><tr class = \"subheader headerLastRow\"><th class = \"rowNumber\" style = \"font-weight: bold; text-align: right;\"></th><th title = \"Float64\" style = \"text-align: left;\">Float64</th><th title = \"Float64\" style = \"text-align: left;\">Float64</th><th title = \"Float64\" style = \"text-align: left;\">Float64</th><th title = \"Float64\" style = \"text-align: left;\">Float64</th><th title = \"Float64\" style = \"text-align: left;\">Float64</th><th title = \"Float64\" style = \"text-align: left;\">Float64</th><th title = \"Float64\" style = \"text-align: left;\">Float64</th><th title = \"Float64\" style = \"text-align: left;\">Float64</th><th title = \"Float64\" style = \"text-align: left;\">Float64</th><th title = \"Float64\" style = \"text-align: left;\">Float64</th></tr></thead><tbody><tr><td class = \"rowNumber\" style = \"font-weight: bold; text-align: right;\">1</td><td style = \"text-align: right;\">1.0e-5</td><td style = \"text-align: right;\">-1.39355</td><td style = \"text-align: right;\">0.301968</td><td style = \"text-align: right;\">0.283648</td><td style = \"text-align: right;\">0.269054</td><td style = \"text-align: right;\">0.712288</td><td style = \"text-align: right;\">0.698532</td><td style = \"text-align: right;\">0.375854</td><td style = \"text-align: right;\">1.40625</td><td style = \"text-align: right;\">-34.1445</td></tr><tr><td class = \"rowNumber\" style = \"font-weight: bold; text-align: right;\">2</td><td style = \"text-align: right;\">1.0</td><td style = \"text-align: right;\">-167.283</td><td style = \"text-align: right;\">0.517915</td><td style = \"text-align: right;\">0.517915</td><td style = \"text-align: right;\">0.517915</td><td style = \"text-align: right;\">0.517915</td><td style = \"text-align: right;\">0.517915</td><td style = \"text-align: right;\">0.495636</td><td style = \"text-align: right;\">329.185</td><td style = \"text-align: right;\">0.290587</td></tr><tr><td class = \"rowNumber\" style = \"font-weight: bold; text-align: right;\">3</td><td style = \"text-align: right;\">2.0</td><td style = \"text-align: right;\">124.635</td><td style = \"text-align: right;\">0.517915</td><td style = \"text-align: right;\">0.517915</td><td style = \"text-align: right;\">0.517915</td><td style = \"text-align: right;\">0.517915</td><td style = \"text-align: right;\">0.517915</td><td style = \"text-align: right;\">0.469706</td><td style = \"text-align: right;\">34.8514</td><td style = \"text-align: right;\">0.456701</td></tr></tbody></table></div>"
      ],
      "text/latex": [
       "\\begin{tabular}{r|cccccccc}\n",
       "\t& σ\\_init² ↓ | Φ\\_init → & -100.0 & -1.0 & 0.0 & 1.0e-5 & 1.0 & 5.0 & \\\\\n",
       "\t\\hline\n",
       "\t& Float64 & Float64 & Float64 & Float64 & Float64 & Float64 & Float64 & \\\\\n",
       "\t\\hline\n",
       "\t1 & 1.0e-5 & -1.39355 & 0.301968 & 0.283648 & 0.269054 & 0.712288 & 0.698532 & $\\dots$ \\\\\n",
       "\t2 & 1.0 & -167.283 & 0.517915 & 0.517915 & 0.517915 & 0.517915 & 0.517915 & $\\dots$ \\\\\n",
       "\t3 & 2.0 & 124.635 & 0.517915 & 0.517915 & 0.517915 & 0.517915 & 0.517915 & $\\dots$ \\\\\n",
       "\\end{tabular}\n"
      ],
      "text/plain": [
       "\u001b[1m3×10 DataFrame\u001b[0m\n",
       "\u001b[1m Row \u001b[0m│\u001b[1m σ_init² ↓ | Φ_init → \u001b[0m\u001b[1m -100.0     \u001b[0m\u001b[1m -1.0     \u001b[0m\u001b[1m 0.0      \u001b[0m\u001b[1m 1.0e-5   \u001b[0m\u001b[1m 1.0    \u001b[0m ⋯\n",
       "     │\u001b[90m Float64              \u001b[0m\u001b[90m Float64    \u001b[0m\u001b[90m Float64  \u001b[0m\u001b[90m Float64  \u001b[0m\u001b[90m Float64  \u001b[0m\u001b[90m Float64\u001b[0m ⋯\n",
       "─────┼──────────────────────────────────────────────────────────────────────────\n",
       "   1 │               1.0e-5    -1.39355  0.301968  0.283648  0.269054  0.71228 ⋯\n",
       "   2 │               1.0     -167.283    0.517915  0.517915  0.517915  0.51791\n",
       "   3 │               2.0      124.635    0.517915  0.517915  0.517915  0.51791\n",
       "\u001b[36m                                                               5 columns omitted\u001b[0m"
      ]
     },
     "metadata": {},
     "output_type": "display_data"
    }
   ],
   "source": [
    "GridEstimation(LL_AR_Estimation,x, Φ_init, σ_init[1:3],algo=BFGS())"
   ]
  },
  {
   "cell_type": "code",
   "execution_count": 40,
   "metadata": {},
   "outputs": [
    {
     "data": {
      "text/html": [
       "<div><div style = \"float: left;\"><span>2×10 DataFrame</span></div><div style = \"clear: both;\"></div></div><div class = \"data-frame\" style = \"overflow-x: scroll;\"><table class = \"data-frame\" style = \"margin-bottom: 6px;\"><thead><tr class = \"header\"><th class = \"rowNumber\" style = \"font-weight: bold; text-align: right;\">Row</th><th style = \"text-align: left;\">σ_init² ↓ | Φ_init →</th><th style = \"text-align: left;\">-100.0</th><th style = \"text-align: left;\">-1.0</th><th style = \"text-align: left;\">0.0</th><th style = \"text-align: left;\">1.0e-5</th><th style = \"text-align: left;\">1.0</th><th style = \"text-align: left;\">5.0</th><th style = \"text-align: left;\">10.0</th><th style = \"text-align: left;\">100.0</th><th style = \"text-align: left;\">1000.0</th></tr><tr class = \"subheader headerLastRow\"><th class = \"rowNumber\" style = \"font-weight: bold; text-align: right;\"></th><th title = \"Float64\" style = \"text-align: left;\">Float64</th><th title = \"Float64\" style = \"text-align: left;\">Float64</th><th title = \"Float64\" style = \"text-align: left;\">Float64</th><th title = \"Float64\" style = \"text-align: left;\">Float64</th><th title = \"Float64\" style = \"text-align: left;\">Float64</th><th title = \"Float64\" style = \"text-align: left;\">Float64</th><th title = \"Float64\" style = \"text-align: left;\">Float64</th><th title = \"Float64\" style = \"text-align: left;\">Float64</th><th title = \"Float64\" style = \"text-align: left;\">Float64</th><th title = \"Float64\" style = \"text-align: left;\">Float64</th></tr></thead><tbody><tr><td class = \"rowNumber\" style = \"font-weight: bold; text-align: right;\">1</td><td style = \"text-align: right;\">3.0</td><td style = \"text-align: right;\">48.4654</td><td style = \"text-align: right;\">0.517915</td><td style = \"text-align: right;\">0.517915</td><td style = \"text-align: right;\">0.517915</td><td style = \"text-align: right;\">0.517915</td><td style = \"text-align: right;\">0.517915</td><td style = \"text-align: right;\">0.517915</td><td style = \"text-align: right;\">0.585714</td><td style = \"text-align: right;\">0.504816</td></tr><tr><td class = \"rowNumber\" style = \"font-weight: bold; text-align: right;\">2</td><td style = \"text-align: right;\">4.0</td><td style = \"text-align: right;\">-0.200559</td><td style = \"text-align: right;\">0.517915</td><td style = \"text-align: right;\">0.517915</td><td style = \"text-align: right;\">0.517915</td><td style = \"text-align: right;\">0.517915</td><td style = \"text-align: right;\">0.517915</td><td style = \"text-align: right;\">0.517915</td><td style = \"text-align: right;\">-43.1316</td><td style = \"text-align: right;\">0.505275</td></tr></tbody></table></div>"
      ],
      "text/latex": [
       "\\begin{tabular}{r|cccccccc}\n",
       "\t& σ\\_init² ↓ | Φ\\_init → & -100.0 & -1.0 & 0.0 & 1.0e-5 & 1.0 & 5.0 & \\\\\n",
       "\t\\hline\n",
       "\t& Float64 & Float64 & Float64 & Float64 & Float64 & Float64 & Float64 & \\\\\n",
       "\t\\hline\n",
       "\t1 & 3.0 & 48.4654 & 0.517915 & 0.517915 & 0.517915 & 0.517915 & 0.517915 & $\\dots$ \\\\\n",
       "\t2 & 4.0 & -0.200559 & 0.517915 & 0.517915 & 0.517915 & 0.517915 & 0.517915 & $\\dots$ \\\\\n",
       "\\end{tabular}\n"
      ],
      "text/plain": [
       "\u001b[1m2×10 DataFrame\u001b[0m\n",
       "\u001b[1m Row \u001b[0m│\u001b[1m σ_init² ↓ | Φ_init → \u001b[0m\u001b[1m -100.0    \u001b[0m\u001b[1m -1.0     \u001b[0m\u001b[1m 0.0      \u001b[0m\u001b[1m 1.0e-5   \u001b[0m\u001b[1m 1.0     \u001b[0m ⋯\n",
       "     │\u001b[90m Float64              \u001b[0m\u001b[90m Float64   \u001b[0m\u001b[90m Float64  \u001b[0m\u001b[90m Float64  \u001b[0m\u001b[90m Float64  \u001b[0m\u001b[90m Float64 \u001b[0m ⋯\n",
       "─────┼──────────────────────────────────────────────────────────────────────────\n",
       "   1 │                  3.0  48.4654    0.517915  0.517915  0.517915  0.517915 ⋯\n",
       "   2 │                  4.0  -0.200559  0.517915  0.517915  0.517915  0.517915\n",
       "\u001b[36m                                                               4 columns omitted\u001b[0m"
      ]
     },
     "metadata": {},
     "output_type": "display_data"
    }
   ],
   "source": [
    "GridEstimation(LL_AR_Estimation,x, Φ_init, σ_init[4:5],algo=BFGS())"
   ]
  },
  {
   "cell_type": "code",
   "execution_count": 41,
   "metadata": {},
   "outputs": [
    {
     "data": {
      "text/html": [
       "<div><div style = \"float: left;\"><span>1×10 DataFrame</span></div><div style = \"clear: both;\"></div></div><div class = \"data-frame\" style = \"overflow-x: scroll;\"><table class = \"data-frame\" style = \"margin-bottom: 6px;\"><thead><tr class = \"header\"><th class = \"rowNumber\" style = \"font-weight: bold; text-align: right;\">Row</th><th style = \"text-align: left;\">σ_init² ↓ | Φ_init →</th><th style = \"text-align: left;\">-100.0</th><th style = \"text-align: left;\">-1.0</th><th style = \"text-align: left;\">0.0</th><th style = \"text-align: left;\">1.0e-5</th><th style = \"text-align: left;\">1.0</th><th style = \"text-align: left;\">5.0</th><th style = \"text-align: left;\">10.0</th><th style = \"text-align: left;\">100.0</th><th style = \"text-align: left;\">1000.0</th></tr><tr class = \"subheader headerLastRow\"><th class = \"rowNumber\" style = \"font-weight: bold; text-align: right;\"></th><th title = \"Float64\" style = \"text-align: left;\">Float64</th><th title = \"Float64\" style = \"text-align: left;\">Float64</th><th title = \"Float64\" style = \"text-align: left;\">Float64</th><th title = \"Float64\" style = \"text-align: left;\">Float64</th><th title = \"Float64\" style = \"text-align: left;\">Float64</th><th title = \"Float64\" style = \"text-align: left;\">Float64</th><th title = \"Float64\" style = \"text-align: left;\">Float64</th><th title = \"Float64\" style = \"text-align: left;\">Float64</th><th title = \"Float64\" style = \"text-align: left;\">Float64</th><th title = \"Float64\" style = \"text-align: left;\">Float64</th></tr></thead><tbody><tr><td class = \"rowNumber\" style = \"font-weight: bold; text-align: right;\">1</td><td style = \"text-align: right;\">5.0</td><td style = \"text-align: right;\">-98.0109</td><td style = \"text-align: right;\">0.517915</td><td style = \"text-align: right;\">0.517915</td><td style = \"text-align: right;\">0.517915</td><td style = \"text-align: right;\">0.517915</td><td style = \"text-align: right;\">-15.0202</td><td style = \"text-align: right;\">0.517915</td><td style = \"text-align: right;\">-8.89883</td><td style = \"text-align: right;\">0.515286</td></tr></tbody></table></div>"
      ],
      "text/latex": [
       "\\begin{tabular}{r|cccccccc}\n",
       "\t& σ\\_init² ↓ | Φ\\_init → & -100.0 & -1.0 & 0.0 & 1.0e-5 & 1.0 & 5.0 & \\\\\n",
       "\t\\hline\n",
       "\t& Float64 & Float64 & Float64 & Float64 & Float64 & Float64 & Float64 & \\\\\n",
       "\t\\hline\n",
       "\t1 & 5.0 & -98.0109 & 0.517915 & 0.517915 & 0.517915 & 0.517915 & -15.0202 & $\\dots$ \\\\\n",
       "\\end{tabular}\n"
      ],
      "text/plain": [
       "\u001b[1m1×10 DataFrame\u001b[0m\n",
       "\u001b[1m Row \u001b[0m│\u001b[1m σ_init² ↓ | Φ_init → \u001b[0m\u001b[1m -100.0   \u001b[0m\u001b[1m -1.0     \u001b[0m\u001b[1m 0.0      \u001b[0m\u001b[1m 1.0e-5   \u001b[0m\u001b[1m 1.0      \u001b[0m\u001b[1m\u001b[0m ⋯\n",
       "     │\u001b[90m Float64              \u001b[0m\u001b[90m Float64  \u001b[0m\u001b[90m Float64  \u001b[0m\u001b[90m Float64  \u001b[0m\u001b[90m Float64  \u001b[0m\u001b[90m Float64  \u001b[0m\u001b[90m\u001b[0m ⋯\n",
       "─────┼──────────────────────────────────────────────────────────────────────────\n",
       "   1 │                  5.0  -98.0109  0.517915  0.517915  0.517915  0.517915  ⋯\n",
       "\u001b[36m                                                               4 columns omitted\u001b[0m"
      ]
     },
     "metadata": {},
     "output_type": "display_data"
    }
   ],
   "source": [
    "GridEstimation(LL_AR_Estimation,x, Φ_init, [σ_init[6]],algo=BFGS())"
   ]
  },
  {
   "cell_type": "markdown",
   "metadata": {},
   "source": [
    "Here the BFGS algorithm can be very slow but more importantly the output is far from the true value and change significantly from one initial Φ to another. "
   ]
  },
  {
   "cell_type": "markdown",
   "metadata": {},
   "source": [
    "# Testing the initial parameters with Gradient Descent algorithm"
   ]
  },
  {
   "cell_type": "code",
   "execution_count": null,
   "metadata": {},
   "outputs": [
    {
     "data": {
      "text/html": [
       "<div><div style = \"float: left;\"><span>3×10 DataFrame</span></div><div style = \"clear: both;\"></div></div><div class = \"data-frame\" style = \"overflow-x: scroll;\"><table class = \"data-frame\" style = \"margin-bottom: 6px;\"><thead><tr class = \"header\"><th class = \"rowNumber\" style = \"font-weight: bold; text-align: right;\">Row</th><th style = \"text-align: left;\">σ_init² ↓ | Φ_init →</th><th style = \"text-align: left;\">-100.0</th><th style = \"text-align: left;\">-1.0</th><th style = \"text-align: left;\">0.0</th><th style = \"text-align: left;\">1.0e-5</th><th style = \"text-align: left;\">1.0</th><th style = \"text-align: left;\">5.0</th><th style = \"text-align: left;\">10.0</th><th style = \"text-align: left;\">100.0</th><th style = \"text-align: left;\">1000.0</th></tr><tr class = \"subheader headerLastRow\"><th class = \"rowNumber\" style = \"font-weight: bold; text-align: right;\"></th><th title = \"Float64\" style = \"text-align: left;\">Float64</th><th title = \"Float64\" style = \"text-align: left;\">Float64</th><th title = \"Float64\" style = \"text-align: left;\">Float64</th><th title = \"Float64\" style = \"text-align: left;\">Float64</th><th title = \"Float64\" style = \"text-align: left;\">Float64</th><th title = \"Float64\" style = \"text-align: left;\">Float64</th><th title = \"Float64\" style = \"text-align: left;\">Float64</th><th title = \"Float64\" style = \"text-align: left;\">Float64</th><th title = \"Float64\" style = \"text-align: left;\">Float64</th><th title = \"Float64\" style = \"text-align: left;\">Float64</th></tr></thead><tbody><tr><td class = \"rowNumber\" style = \"font-weight: bold; text-align: right;\">1</td><td style = \"text-align: right;\">1.0e-10</td><td style = \"text-align: right;\">-100.0</td><td style = \"text-align: right;\">-1.0</td><td style = \"text-align: right;\">0.0</td><td style = \"text-align: right;\">1.0e-5</td><td style = \"text-align: right;\">1.0</td><td style = \"text-align: right;\">5.0</td><td style = \"text-align: right;\">10.0</td><td style = \"text-align: right;\">100.0</td><td style = \"text-align: right;\">1000.0</td></tr><tr><td class = \"rowNumber\" style = \"font-weight: bold; text-align: right;\">2</td><td style = \"text-align: right;\">1.0e-5</td><td style = \"text-align: right;\">25.2559</td><td style = \"text-align: right;\">0.53981</td><td style = \"text-align: right;\">0.301765</td><td style = \"text-align: right;\">0.39506</td><td style = \"text-align: right;\">0.770449</td><td style = \"text-align: right;\">0.660339</td><td style = \"text-align: right;\">1.8396</td><td style = \"text-align: right;\">18.0371</td><td style = \"text-align: right;\">-103.141</td></tr><tr><td class = \"rowNumber\" style = \"font-weight: bold; text-align: right;\">3</td><td style = \"text-align: right;\">0.1</td><td style = \"text-align: right;\">0.696702</td><td style = \"text-align: right;\">0.694819</td><td style = \"text-align: right;\">0.683459</td><td style = \"text-align: right;\">0.65634</td><td style = \"text-align: right;\">0.711496</td><td style = \"text-align: right;\">0.693351</td><td style = \"text-align: right;\">0.678675</td><td style = \"text-align: right;\">-2.74501e5</td><td style = \"text-align: right;\">-2.41922</td></tr></tbody></table></div>"
      ],
      "text/latex": [
       "\\begin{tabular}{r|cccccccc}\n",
       "\t& σ\\_init² ↓ | Φ\\_init → & -100.0 & -1.0 & 0.0 & 1.0e-5 & 1.0 & 5.0 & \\\\\n",
       "\t\\hline\n",
       "\t& Float64 & Float64 & Float64 & Float64 & Float64 & Float64 & Float64 & \\\\\n",
       "\t\\hline\n",
       "\t1 & 1.0e-10 & -100.0 & -1.0 & 0.0 & 1.0e-5 & 1.0 & 5.0 & $\\dots$ \\\\\n",
       "\t2 & 1.0e-5 & 25.2559 & 0.53981 & 0.301765 & 0.39506 & 0.770449 & 0.660339 & $\\dots$ \\\\\n",
       "\t3 & 0.1 & 0.696702 & 0.694819 & 0.683459 & 0.65634 & 0.711496 & 0.693351 & $\\dots$ \\\\\n",
       "\\end{tabular}\n"
      ],
      "text/plain": [
       "\u001b[1m3×10 DataFrame\u001b[0m\n",
       "\u001b[1m Row \u001b[0m│\u001b[1m σ_init² ↓ | Φ_init → \u001b[0m\u001b[1m -100.0      \u001b[0m\u001b[1m -1.0      \u001b[0m\u001b[1m 0.0      \u001b[0m\u001b[1m 1.0e-5  \u001b[0m\u001b[1m 1.0   \u001b[0m ⋯\n",
       "     │\u001b[90m Float64              \u001b[0m\u001b[90m Float64     \u001b[0m\u001b[90m Float64   \u001b[0m\u001b[90m Float64  \u001b[0m\u001b[90m Float64 \u001b[0m\u001b[90m Float6\u001b[0m ⋯\n",
       "─────┼──────────────────────────────────────────────────────────────────────────\n",
       "   1 │              1.0e-10  -100.0       -1.0       0.0       1.0e-5   1.0    ⋯\n",
       "   2 │              1.0e-5     25.2559     0.53981   0.301765  0.39506  0.7704\n",
       "   3 │              0.1         0.696702   0.694819  0.683459  0.65634  0.7114\n",
       "\u001b[36m                                                               5 columns omitted\u001b[0m"
      ]
     },
     "metadata": {},
     "output_type": "display_data"
    }
   ],
   "source": [
    "GridEstimation(LL_AR_Estimation,x, Φ_init, σ_init[1:3],algo=GradientDescent())"
   ]
  },
  {
   "cell_type": "code",
   "execution_count": null,
   "metadata": {},
   "outputs": [
    {
     "data": {
      "text/html": [
       "<div><div style = \"float: left;\"><span>2×10 DataFrame</span></div><div style = \"clear: both;\"></div></div><div class = \"data-frame\" style = \"overflow-x: scroll;\"><table class = \"data-frame\" style = \"margin-bottom: 6px;\"><thead><tr class = \"header\"><th class = \"rowNumber\" style = \"font-weight: bold; text-align: right;\">Row</th><th style = \"text-align: left;\">σ_init² ↓ | Φ_init →</th><th style = \"text-align: left;\">-100.0</th><th style = \"text-align: left;\">-1.0</th><th style = \"text-align: left;\">0.0</th><th style = \"text-align: left;\">1.0e-5</th><th style = \"text-align: left;\">1.0</th><th style = \"text-align: left;\">5.0</th><th style = \"text-align: left;\">10.0</th><th style = \"text-align: left;\">100.0</th><th style = \"text-align: left;\">1000.0</th></tr><tr class = \"subheader headerLastRow\"><th class = \"rowNumber\" style = \"font-weight: bold; text-align: right;\"></th><th title = \"Float64\" style = \"text-align: left;\">Float64</th><th title = \"Float64\" style = \"text-align: left;\">Float64</th><th title = \"Float64\" style = \"text-align: left;\">Float64</th><th title = \"Float64\" style = \"text-align: left;\">Float64</th><th title = \"Float64\" style = \"text-align: left;\">Float64</th><th title = \"Float64\" style = \"text-align: left;\">Float64</th><th title = \"Float64\" style = \"text-align: left;\">Float64</th><th title = \"Float64\" style = \"text-align: left;\">Float64</th><th title = \"Float64\" style = \"text-align: left;\">Float64</th><th title = \"Float64\" style = \"text-align: left;\">Float64</th></tr></thead><tbody><tr><td class = \"rowNumber\" style = \"font-weight: bold; text-align: right;\">1</td><td style = \"text-align: right;\">1.0</td><td style = \"text-align: right;\">-410.869</td><td style = \"text-align: right;\">0.696632</td><td style = \"text-align: right;\">0.696756</td><td style = \"text-align: right;\">0.696756</td><td style = \"text-align: right;\">0.697798</td><td style = \"text-align: right;\">-1356.42</td><td style = \"text-align: right;\">-25031.4</td><td style = \"text-align: right;\">0.697254</td><td style = \"text-align: right;\">-45349.1</td></tr><tr><td class = \"rowNumber\" style = \"font-weight: bold; text-align: right;\">2</td><td style = \"text-align: right;\">5.0</td><td style = \"text-align: right;\">2.15766e6</td><td style = \"text-align: right;\">0.6968</td><td style = \"text-align: right;\">0.696792</td><td style = \"text-align: right;\">0.696792</td><td style = \"text-align: right;\">0.698144</td><td style = \"text-align: right;\">0.697885</td><td style = \"text-align: right;\">0.697222</td><td style = \"text-align: right;\">-6.08279e6</td><td style = \"text-align: right;\">1.0915e7</td></tr></tbody></table></div>"
      ],
      "text/latex": [
       "\\begin{tabular}{r|cccccccc}\n",
       "\t& σ\\_init² ↓ | Φ\\_init → & -100.0 & -1.0 & 0.0 & 1.0e-5 & 1.0 & 5.0 & \\\\\n",
       "\t\\hline\n",
       "\t& Float64 & Float64 & Float64 & Float64 & Float64 & Float64 & Float64 & \\\\\n",
       "\t\\hline\n",
       "\t1 & 1.0 & -410.869 & 0.696632 & 0.696756 & 0.696756 & 0.697798 & -1356.42 & $\\dots$ \\\\\n",
       "\t2 & 5.0 & 2.15766e6 & 0.6968 & 0.696792 & 0.696792 & 0.698144 & 0.697885 & $\\dots$ \\\\\n",
       "\\end{tabular}\n"
      ],
      "text/plain": [
       "\u001b[1m2×10 DataFrame\u001b[0m\n",
       "\u001b[1m Row \u001b[0m│\u001b[1m σ_init² ↓ | Φ_init → \u001b[0m\u001b[1m -100.0       \u001b[0m\u001b[1m -1.0     \u001b[0m\u001b[1m 0.0      \u001b[0m\u001b[1m 1.0e-5   \u001b[0m\u001b[1m 1.0  \u001b[0m ⋯\n",
       "     │\u001b[90m Float64              \u001b[0m\u001b[90m Float64      \u001b[0m\u001b[90m Float64  \u001b[0m\u001b[90m Float64  \u001b[0m\u001b[90m Float64  \u001b[0m\u001b[90m Float\u001b[0m ⋯\n",
       "─────┼──────────────────────────────────────────────────────────────────────────\n",
       "   1 │                  1.0  -410.869      0.696632  0.696756  0.696756  0.697 ⋯\n",
       "   2 │                  5.0     2.15766e6  0.6968    0.696792  0.696792  0.698\n",
       "\u001b[36m                                                               5 columns omitted\u001b[0m"
      ]
     },
     "metadata": {},
     "output_type": "display_data"
    }
   ],
   "source": [
    "GridEstimation(LL_AR_Estimation,x, Φ_init, σ_init[4:5],algo=GradientDescent())"
   ]
  },
  {
   "cell_type": "code",
   "execution_count": null,
   "metadata": {},
   "outputs": [
    {
     "data": {
      "text/html": [
       "<div><div style = \"float: left;\"><span>1×10 DataFrame</span></div><div style = \"clear: both;\"></div></div><div class = \"data-frame\" style = \"overflow-x: scroll;\"><table class = \"data-frame\" style = \"margin-bottom: 6px;\"><thead><tr class = \"header\"><th class = \"rowNumber\" style = \"font-weight: bold; text-align: right;\">Row</th><th style = \"text-align: left;\">σ_init² ↓ | Φ_init →</th><th style = \"text-align: left;\">-100.0</th><th style = \"text-align: left;\">-1.0</th><th style = \"text-align: left;\">0.0</th><th style = \"text-align: left;\">1.0e-5</th><th style = \"text-align: left;\">1.0</th><th style = \"text-align: left;\">5.0</th><th style = \"text-align: left;\">10.0</th><th style = \"text-align: left;\">100.0</th><th style = \"text-align: left;\">1000.0</th></tr><tr class = \"subheader headerLastRow\"><th class = \"rowNumber\" style = \"font-weight: bold; text-align: right;\"></th><th title = \"Float64\" style = \"text-align: left;\">Float64</th><th title = \"Float64\" style = \"text-align: left;\">Float64</th><th title = \"Float64\" style = \"text-align: left;\">Float64</th><th title = \"Float64\" style = \"text-align: left;\">Float64</th><th title = \"Float64\" style = \"text-align: left;\">Float64</th><th title = \"Float64\" style = \"text-align: left;\">Float64</th><th title = \"Float64\" style = \"text-align: left;\">Float64</th><th title = \"Float64\" style = \"text-align: left;\">Float64</th><th title = \"Float64\" style = \"text-align: left;\">Float64</th><th title = \"Float64\" style = \"text-align: left;\">Float64</th></tr></thead><tbody><tr><td class = \"rowNumber\" style = \"font-weight: bold; text-align: right;\">1</td><td style = \"text-align: right;\">50.0</td><td style = \"text-align: right;\">96555.3</td><td style = \"text-align: right;\">0.689629</td><td style = \"text-align: right;\">0.0</td><td style = \"text-align: right;\">1.0e-5</td><td style = \"text-align: right;\">1.0</td><td style = \"text-align: right;\">0.697585</td><td style = \"text-align: right;\">0.69965</td><td style = \"text-align: right;\">0.679309</td><td style = \"text-align: right;\">0.676631</td></tr></tbody></table></div>"
      ],
      "text/latex": [
       "\\begin{tabular}{r|ccccccccc}\n",
       "\t& σ\\_init² ↓ | Φ\\_init → & -100.0 & -1.0 & 0.0 & 1.0e-5 & 1.0 & 5.0 & 10.0 & \\\\\n",
       "\t\\hline\n",
       "\t& Float64 & Float64 & Float64 & Float64 & Float64 & Float64 & Float64 & Float64 & \\\\\n",
       "\t\\hline\n",
       "\t1 & 50.0 & 96555.3 & 0.689629 & 0.0 & 1.0e-5 & 1.0 & 0.697585 & 0.69965 & $\\dots$ \\\\\n",
       "\\end{tabular}\n"
      ],
      "text/plain": [
       "\u001b[1m1×10 DataFrame\u001b[0m\n",
       "\u001b[1m Row \u001b[0m│\u001b[1m σ_init² ↓ | Φ_init → \u001b[0m\u001b[1m -100.0  \u001b[0m\u001b[1m -1.0     \u001b[0m\u001b[1m 0.0     \u001b[0m\u001b[1m 1.0e-5  \u001b[0m\u001b[1m 1.0     \u001b[0m\u001b[1m 5.0\u001b[0m ⋯\n",
       "     │\u001b[90m Float64              \u001b[0m\u001b[90m Float64 \u001b[0m\u001b[90m Float64  \u001b[0m\u001b[90m Float64 \u001b[0m\u001b[90m Float64 \u001b[0m\u001b[90m Float64 \u001b[0m\u001b[90m Flo\u001b[0m ⋯\n",
       "─────┼──────────────────────────────────────────────────────────────────────────\n",
       "   1 │                 50.0  96555.3  0.689629      0.0   1.0e-5      1.0  0.6 ⋯\n",
       "\u001b[36m                                                               4 columns omitted\u001b[0m"
      ]
     },
     "metadata": {},
     "output_type": "display_data"
    }
   ],
   "source": [
    "GridEstimation(LL_AR_Estimation,x, Φ_init, [σ_init[6]],algo=GradientDescent())"
   ]
  },
  {
   "cell_type": "markdown",
   "metadata": {},
   "source": [
    "The results are very similar to the results given by the BFGS algorithm : a lot of them are inaccurate and the algorithm is very slow. The Nelder-Mead algorithm seems to be the best optimization algorithm for our problem."
   ]
  }
 ],
 "metadata": {
  "kernelspec": {
   "display_name": "Julia 1.11.4",
   "language": "julia",
   "name": "julia-1.11"
  },
  "language_info": {
   "file_extension": ".jl",
   "mimetype": "application/julia",
   "name": "julia",
   "version": "1.11.4"
  }
 },
 "nbformat": 4,
 "nbformat_minor": 2
}
