{
 "cells": [
  {
   "cell_type": "code",
   "execution_count": 1,
   "id": "38633860",
   "metadata": {},
   "outputs": [
    {
     "data": {
      "text/plain": [
       "Phenology_Estimation (generic function with 2 methods)"
      ]
     },
     "metadata": {},
     "output_type": "display_data"
    }
   ],
   "source": [
    "cd(@__DIR__)\n",
    "include(\"../AR/utils/utils.jl\")\n",
    "include(\"table_reader.jl\")\n",
    "include(\"Prev2.jl\")\n",
    "include(\"P_Estimation.jl\")"
   ]
  },
  {
   "cell_type": "code",
   "execution_count": null,
   "id": "e47a7c82",
   "metadata": {},
   "outputs": [
    {
     "data": {
      "text/plain": [
       "([Date(\"1957-01-12\"), Date(\"1958-01-23\"), Date(\"1959-01-27\"), Date(\"1960-01-21\"), Date(\"1961-01-17\"), Date(\"1962-01-31\"), Date(\"1963-01-17\"), Date(\"1964-01-30\"), Date(\"1965-01-20\"), Date(\"1966-01-28\")  …  Date(\"1993-01-26\"), Date(\"1994-01-29\"), Date(\"1995-02-05\"), Date(\"1996-02-11\"), Date(\"1997-02-01\"), Date(\"1998-02-08\"), Date(\"1999-01-21\"), Date(\"2000-01-26\"), Date(\"2001-02-09\"), Date(\"2002-01-29\")], [Date(\"1957-03-24\"), Date(\"1958-04-08\"), Date(\"1959-03-30\"), Date(\"1960-03-27\"), Date(\"1961-03-28\"), Date(\"1962-04-20\"), Date(\"1963-04-13\"), Date(\"1964-04-10\"), Date(\"1965-04-07\"), Date(\"1966-04-03\")  …  Date(\"1993-04-08\"), Date(\"1994-03-30\"), Date(\"1995-04-08\"), Date(\"1996-04-17\"), Date(\"1997-03-28\"), Date(\"1998-04-05\"), Date(\"1999-03-31\"), Date(\"2000-03-28\"), Date(\"2001-04-02\"), Date(\"2002-03-24\")])"
      ]
     },
     "metadata": {},
     "output_type": "display_data"
    }
   ],
   "source": [
    "Phenology_Estimation(initTG(\"TG_STAID000031.txt\")) # Marseille"
   ]
  },
  {
   "cell_type": "code",
   "execution_count": null,
   "id": "221f7c8c",
   "metadata": {},
   "outputs": [
    {
     "data": {
      "text/plain": [
       "([Date(\"1945-12-25\"), Date(\"1946-12-24\"), Date(\"1947-12-24\"), Date(\"1948-12-23\"), Date(\"1949-12-22\"), Date(\"1950-12-19\"), Date(\"1951-12-23\"), Date(\"1952-12-14\"), Date(\"1953-12-28\"), Date(\"1954-12-30\")  …  Date(\"2016-01-08\"), Date(\"2016-12-23\"), Date(\"2017-12-29\"), Date(\"2018-12-31\"), Date(\"2019-12-29\"), Date(\"2021-01-01\"), Date(\"2021-12-26\"), Date(\"2023-01-07\"), Date(\"2024-01-08\"), Date(\"2024-12-31\")], [Date(\"1946-04-16\"), Date(\"1947-04-28\"), Date(\"1948-04-08\"), Date(\"1949-04-18\"), Date(\"1950-04-16\"), Date(\"1951-04-25\"), Date(\"1952-04-17\"), Date(\"1953-04-23\"), Date(\"1954-05-03\"), Date(\"1955-05-03\")  …  Date(\"2015-04-21\"), Date(\"2016-04-21\"), Date(\"2017-04-08\"), Date(\"2018-04-17\"), Date(\"2019-04-12\"), Date(\"2020-04-07\"), Date(\"2021-04-21\"), Date(\"2022-04-05\"), Date(\"2023-04-17\"), Date(\"2024-04-06\")])"
      ]
     },
     "metadata": {},
     "output_type": "display_data"
    }
   ],
   "source": [
    "Phenology_Estimation(initTG(\"TG_STAID000737.txt\")) # Lille"
   ]
  },
  {
   "cell_type": "code",
   "execution_count": null,
   "id": "bd999838",
   "metadata": {},
   "outputs": [
    {
     "data": {
      "text/plain": [
       "([Date(\"1991-01-03\"), Date(\"1991-12-28\"), Date(\"1993-01-02\"), Date(\"1993-12-27\"), Date(\"1995-01-13\"), Date(\"1996-01-08\"), Date(\"1997-01-01\"), Date(\"1998-01-12\"), Date(\"1998-12-31\"), Date(\"2000-01-04\")  …  Date(\"2016-01-18\"), Date(\"2017-01-01\"), Date(\"2018-01-08\"), Date(\"2019-01-08\"), Date(\"2020-01-10\"), Date(\"2021-01-06\"), Date(\"2022-01-04\"), Date(\"2023-01-19\"), Date(\"2024-01-16\"), Date(\"2025-01-08\")], [Date(\"1991-04-11\"), Date(\"1992-04-13\"), Date(\"1993-04-06\"), Date(\"1994-03-26\"), Date(\"1995-04-06\"), Date(\"1996-04-16\"), Date(\"1997-04-02\"), Date(\"1998-04-12\"), Date(\"1999-03-31\"), Date(\"2000-04-09\")  …  Date(\"2015-04-16\"), Date(\"2016-04-16\"), Date(\"2017-04-01\"), Date(\"2018-04-11\"), Date(\"2019-04-05\"), Date(\"2020-03-29\"), Date(\"2021-04-02\"), Date(\"2022-04-01\"), Date(\"2023-04-15\"), Date(\"2024-03-31\")])"
      ]
     },
     "metadata": {},
     "output_type": "display_data"
    }
   ],
   "source": [
    "Phenology_Estimation(initTG(\"TG_STAID000742.txt\")) # Nantes"
   ]
  }
 ],
 "metadata": {
  "kernelspec": {
   "display_name": "Julia 1.11.4",
   "language": "julia",
   "name": "julia-1.11"
  },
  "language_info": {
   "file_extension": ".jl",
   "mimetype": "application/julia",
   "name": "julia",
   "version": "1.11.4"
  }
 },
 "nbformat": 4,
 "nbformat_minor": 5
}
